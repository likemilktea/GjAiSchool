{
 "cells": [
  {
   "cell_type": "code",
   "execution_count": 1,
   "id": "2a345d88",
   "metadata": {},
   "outputs": [],
   "source": [
    "from selenium import webdriver as wb\n",
    "from selenium.webdriver.common.keys import Keys\n",
    "from selenium.webdriver.common.by import By\n",
    "from bs4 import BeautifulSoup as bs\n",
    "import time"
   ]
  },
  {
   "cell_type": "code",
   "execution_count": 2,
   "id": "7efc0327",
   "metadata": {},
   "outputs": [],
   "source": [
    "# 1. Crhome 브라우저 실행\n",
    "# 1.1 gmarket 사이트로 이동\n",
    "driver = wb.Chrome()\n",
    "driver.get('http://corners.gmarket.co.kr/Bestsellers')"
   ]
  },
  {
   "cell_type": "code",
   "execution_count": 3,
   "id": "86c17e97",
   "metadata": {},
   "outputs": [],
   "source": [
    "# 2. 첫번째 상품을 클릭해서 페이지 이동\n",
    "# hint - 상품의 이미지를 클릭해서 이동\n",
    "menu = driver.find_element(By.CLASS_NAME,\"first\")\n",
    "menu = menu.find_element(By.TAG_NAME,\"a\")\n",
    "menu.click()"
   ]
  },
  {
   "cell_type": "code",
   "execution_count": 30,
   "id": "2ae62666",
   "metadata": {},
   "outputs": [
    {
     "data": {
      "text/plain": [
       "('(한국투자증권) 온라인 금융상품권 5만원권 ', '50,000원', '온라인/포인트 상품권')"
      ]
     },
     "execution_count": 30,
     "metadata": {},
     "output_type": "execute_result"
    }
   ],
   "source": [
    "# 3-1 bs객체화\n",
    "# 3-2 상품의 이름 정보 수집\n",
    "# 3-3 상품의 마지막 카테고리 정보 수집\n",
    "soup = bs(driver.page_source,'lxml')\n",
    "tit=soup.select(\"h1.itemtit\")[0]\n",
    "price=soup.select(\"strong.price_real\")[0]\n",
    "category = soup.select(\"li.on>a\")[0]\n",
    "tit.text,price.text,category.text"
   ]
  },
  {
   "cell_type": "code",
   "execution_count": 5,
   "id": "f6845cab",
   "metadata": {},
   "outputs": [],
   "source": [
    "# 뒤로가기 \n",
    "driver.back()"
   ]
  }
 ],
 "metadata": {
  "kernelspec": {
   "display_name": "Python 3 (ipykernel)",
   "language": "python",
   "name": "python3"
  },
  "language_info": {
   "codemirror_mode": {
    "name": "ipython",
    "version": 3
   },
   "file_extension": ".py",
   "mimetype": "text/x-python",
   "name": "python",
   "nbconvert_exporter": "python",
   "pygments_lexer": "ipython3",
   "version": "3.10.9"
  }
 },
 "nbformat": 4,
 "nbformat_minor": 5
}
