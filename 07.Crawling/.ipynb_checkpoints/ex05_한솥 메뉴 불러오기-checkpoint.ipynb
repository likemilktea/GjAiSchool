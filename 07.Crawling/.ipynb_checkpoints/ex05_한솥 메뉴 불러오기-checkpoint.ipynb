{
 "cells": [
  {
   "cell_type": "code",
   "execution_count": 47,
   "id": "b4d1dac9",
   "metadata": {},
   "outputs": [],
   "source": [
    "# webdriver : 웹브라우저를 통제하기 위한 라이브러리 \n",
    "from selenium import webdriver as wb\n",
    "# Keys : 웹을 통해서 값을 입력하기 위한 라이브러리(컴퓨터용 키보드)\n",
    "from selenium.webdriver.common.keys import Keys\n",
    "# By : 태그 선택을 할 때 기준을 정의해주는 라이브러리\n",
    "from selenium.webdriver.common.by import By\n",
    "from bs4 import BeautifulSoup as bs\n",
    "import time"
   ]
  },
  {
   "cell_type": "code",
   "execution_count": 40,
   "id": "67ed71dd",
   "metadata": {},
   "outputs": [],
   "source": [
    "driver = wb.Chrome()\n",
    "driver.get('https://www.hsd.co.kr/menu/menu_list')"
   ]
  },
  {
   "cell_type": "code",
   "execution_count": 41,
   "id": "88cf17b7",
   "metadata": {},
   "outputs": [],
   "source": [
    "# 메뉴명, 가격명 수집\n",
    "# bs 객체화\n",
    "# bs(페이지 정보, 'lxml')\n",
    "soup = bs(driver.page_source,'lxml')"
   ]
  },
  {
   "cell_type": "code",
   "execution_count": 42,
   "id": "cb1d73f3",
   "metadata": {},
   "outputs": [
    {
     "data": {
      "text/plain": [
       "' 오리 영양도시락  가격: 6,900원                     '"
      ]
     },
     "execution_count": 42,
     "metadata": {},
     "output_type": "execute_result"
    }
   ],
   "source": [
    "rev=soup.select(\"div.item-text\")\n",
    "rev[0].text"
   ]
  },
  {
   "cell_type": "code",
   "execution_count": 43,
   "id": "29c4126c",
   "metadata": {},
   "outputs": [
    {
     "data": {
      "text/plain": [
       "6"
      ]
     },
     "execution_count": 43,
     "metadata": {},
     "output_type": "execute_result"
    }
   ],
   "source": [
    "len(rev)"
   ]
  },
  {
   "cell_type": "code",
   "execution_count": 45,
   "id": "18cf0da6",
   "metadata": {},
   "outputs": [],
   "source": [
    "while True:\n",
    "    try:\n",
    "        more = driver.find_element(By.CLASS_NAME,'btn_st04')\n",
    "        more.click()\n",
    "        time.sleep(2)\n",
    "    except:\n",
    "        break\n",
    "    "
   ]
  },
  {
   "cell_type": "markdown",
   "id": "d0eeb82f",
   "metadata": {},
   "source": [
    "### 예외처리 (try,except)\n",
    "- try 문에서 코드를 실행하다가 에러가 나면 except문을 실행"
   ]
  },
  {
   "cell_type": "code",
   "execution_count": 46,
   "id": "9086a6a9",
   "metadata": {},
   "outputs": [],
   "source": [
    "while True:\n",
    "    try: # 에러가 나기 전까지의 실행 코드\n",
    "        more = driver.find_element(By.CLASS_NAME,'btn_st04')\n",
    "        more.click()\n",
    "        time.sleep(2)\n",
    "    except: # 에러가 났을 때 실행 코드\n",
    "        break"
   ]
  },
  {
   "cell_type": "code",
   "execution_count": 65,
   "id": "e63fee29",
   "metadata": {},
   "outputs": [
    {
     "name": "stdout",
     "output_type": "stream",
     "text": [
      "클릭 완료~\n",
      "[['오리 영양도시락', '6,900원'], ['통살 오징어튀김', '2,900원'], ['미나리 오징어 덮밥(매운맛)', '5,500원'], ['미나리 오징어 덮밥(오리지널)', '5,500원'], ['열무 감초고추장 비빔밥', '4,500원'], ['열무 두부강된장 비빔밥', '4,900원'], ['해바라기', '10,000원'], ['매화', '10,500원'], ['진달래', '7,800원'], ['개나리', '8,500원'], ['돈까스도련님고기고기', '6,300원'], ['탕수육도련님고기고기', '6,000원'], ['새치 고기고기', '7,000원'], ['돈치 고기고기', '6,000원'], ['카츠카츠 도시락', '4,800원'], ['숯불직화구이', '6,600원'], ['소불고기', '5,500원'], ['메가치킨제육', '7,500원'], ['칠리 찹쌀탕수육도련님', '4,400원'], ['동백', '6,000원'], ['치킨제육', '4,900원'], ['돈까스도련님', '4,800원'], ['제육볶음', '4,500원'], ['돈치스팸 도시락', '5,000원'], ['제육 김치찌개 정식', '8,600원'], ['제육 김치 부대찌개 정식', '9,000원'], ['돈치스팸 김치 부대찌개 정식', '9,000원'], ['빅치킨마요 김치 부대찌개 정식', '8,000원'], ['치킨마요 김치 부대찌개 정식', '7,400원'], ['빅치킨마요 김치찌개 정식', '7,500원'], ['치킨마요 김치찌개 정식', '6,900원'], ['새후마요', '4,500원'], ['메가스팸마요', '5,800원'], ['스팸마요', '3,900원'], ['메가치킨마요', '6,000원'], ['왕치킨마요', '5,000원'], ['빅치킨마요', '4,300원'], ['치킨마요', '3,700원'], ['참치마요', '3,500원'], ['돈치마요', '4,000원'], ['돈까스 카레', '4,700원'], ['스팸 김치볶음밥', '4,700원'], ['김치볶음밥', '3,900원'], ['스팸철판볶음밥', '4,700원'], ['소불고기 철판볶음밥', '4,900원'], ['나시고랭', '6,200원'], ['묵은지 김치찌개', '4,900원'], ['김치 부대찌개', '6,000원'], ['숯불직화구이 덮밥', '6,000원'], ['마파두부 덮밥', '5,000원'], ['왕카레돈까스덮밥', '6,000원'], ['새우돈까스 덮밥', '4,200원'], ['돈까스 덮밥', '4,100원'], ['아보카도 훈제 닭가슴살 명란 비빔밥', '6,500원'], ['아보카도 소불고기 명란 비빔밥', '6,500원'], ['소불고기 감초고추장 비빔밥', '5,400원'], ['시골제육 두부강된장 비빔밥', '5,200원'], ['참치야채 감초고추장', '3,500원'], ['튼튼도시락', '5,000원'], ['반찬 묵은지김치찌개', '4,400원'], ['반찬 카레', '2,900원'], ['반찬 순살 고등어 간장구이', '3,900원'], ['반찬 김치 부대찌개', '4,900원'], ['반찬 치킨', '3,800원'], ['반찬 고기고기', '3,600원'], ['반찬 돈까스 도련님', '4,100원'], ['반찬 제육볶음', '3,500원'], ['반찬 토네이도 소세지', '2,800원'], ['반찬 반달돈까스', '2,900원'], ['치즈버터 해시 포테이토 스틱', '2,200원'], ['허니버터 해시 포테이토 스틱', '2,200원'], ['해시 포테이토 스틱', '2,000원'], ['뉴 감자고로케', '2,700원'], ['미니 찹쌀핫도그', '2,800원'], ['미니 찹쌀탕수육', '2,200원'], ['케이준후라이', '1,900원'], ['통현미 닭강정(소)', '3,500원'], ['통현미 닭강정(중)', '8,500원'], ['후라이드 순살(중)', '7,500원'], ['후라이드 순살(소)_양념치킨소스', '4,000원'], ['후라이드 순살(소)_케이준소스', '4,000원'], ['오리지널 닭강정(중)', '8,500원'], ['오리지널 닭강정(소)', '3,500원'], ['반찬 무생채', '400원'], ['3종 미니반찬B', '1,300원'], ['3종 미니반찬A', '1,300원'], ['반찬 열무김치', '500원'], ['오징어젓갈', '600원'], ['한솥 두부강된장소스', '1,800원'], ['한솥 감초볶음고추장소스', '500원'], ['볶음김치', '500원'], ['김치', '400원'], ['무말랭이 무침', '500원'], ['한솥밥', '1,000원'], ['현미밥', '1,700원'], ['리얼 티라미수 찰떡', '1,700원'], ['리얼꿀 미니호떡', '2,200원']]\n"
     ]
    }
   ],
   "source": [
    "# 코드 합치기\n",
    "driver = wb.Chrome()\n",
    "driver.get('https://www.hsd.co.kr/menu/menu_list')\n",
    "for i in range(30):\n",
    "    try:\n",
    "        more = driver.find_element(By.CLASS_NAME,'btn_st04')\n",
    "        more.click()\n",
    "        time.sleep(2)\n",
    "    except:\n",
    "        print(\"클릭 완료~\")\n",
    "        break\n",
    "    \n",
    "\n",
    "soup = bs(driver.page_source,'lxml')\n",
    "rev=soup.select(\"div.item-text\")\n",
    "menuList = []\n",
    "for data in rev:\n",
    "    menuList.append(data.text.strip().split('  가격: '))\n",
    "print(menuList)\n"
   ]
  },
  {
   "cell_type": "code",
   "execution_count": 57,
   "id": "23931933",
   "metadata": {},
   "outputs": [],
   "source": [
    "import pandas as pd"
   ]
  },
  {
   "cell_type": "code",
   "execution_count": 60,
   "id": "6b0747b6",
   "metadata": {},
   "outputs": [],
   "source": [
    "df=pd.DataFrame(menuList,columns=['메뉴명','가격']) # 딕셔너리로도 가능"
   ]
  },
  {
   "cell_type": "code",
   "execution_count": 62,
   "id": "eac5355a",
   "metadata": {},
   "outputs": [],
   "source": [
    "df.to_csv(\"한솥메뉴.csv\")"
   ]
  },
  {
   "cell_type": "markdown",
   "id": "48963224",
   "metadata": {},
   "source": [
    "### 헷깔리는 개념 정리하기"
   ]
  },
  {
   "cell_type": "markdown",
   "id": "802b4605",
   "metadata": {},
   "source": [
    "- select_one : 모든 요소 중 가장 첫번째 요소만을 반환\n",
    "- select : 모든 요소를 반환"
   ]
  },
  {
   "cell_type": "markdown",
   "id": "a1f6a8e9",
   "metadata": {},
   "source": [
    "- 요소 추출\n",
    "    - driver.find_element(By.기준,'기준정보')\n",
    "    - soup.select('태그정보')"
   ]
  },
  {
   "cell_type": "code",
   "execution_count": 72,
   "id": "6e000318",
   "metadata": {},
   "outputs": [
    {
     "data": {
      "text/plain": [
       "'오리 영양도시락\\n6,900원'"
      ]
     },
     "execution_count": 72,
     "metadata": {},
     "output_type": "execute_result"
    }
   ],
   "source": [
    "#드라이버를 통해서 요소 추출 후에 콘텐츠 출력이 가능함!!\n",
    "driver.find_element(By.CLASS_NAME,'item-text').text"
   ]
  },
  {
   "cell_type": "code",
   "execution_count": null,
   "id": "67addcd9",
   "metadata": {},
   "outputs": [],
   "source": [
    "# 현재 내가 수집하고 싶은 데이터의 경로를 알려주는 기능\n",
    "# 태그 위에서 우클리>copy>copy selector\n",
    "# #menuList_475 > div > div.item-text > h4\n",
    "# 참고용으로 사용하기!!\n"
   ]
  }
 ],
 "metadata": {
  "kernelspec": {
   "display_name": "Python 3 (ipykernel)",
   "language": "python",
   "name": "python3"
  },
  "language_info": {
   "codemirror_mode": {
    "name": "ipython",
    "version": 3
   },
   "file_extension": ".py",
   "mimetype": "text/x-python",
   "name": "python",
   "nbconvert_exporter": "python",
   "pygments_lexer": "ipython3",
   "version": "3.10.9"
  }
 },
 "nbformat": 4,
 "nbformat_minor": 5
}
