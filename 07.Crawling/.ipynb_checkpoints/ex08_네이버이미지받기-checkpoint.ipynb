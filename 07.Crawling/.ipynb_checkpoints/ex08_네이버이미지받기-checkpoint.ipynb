{
 "cells": [
  {
   "cell_type": "code",
   "execution_count": 1,
   "id": "d9deca8e",
   "metadata": {},
   "outputs": [],
   "source": [
    "# 0. 라이브러리 불러오기\n",
    "# 1.'이미지'폴더 자동 생성\n",
    "# 2. 네이버 페이지 열기\n",
    "# 3. 내가 수집하고 싶은 이미지 검색\n",
    "# 4. '이미지' 탭으로 이동(클릭)\n",
    "# 5. 100장의 이미지 수집 -> 저장"
   ]
  },
  {
   "cell_type": "code",
   "execution_count": 2,
   "id": "d51cfe70",
   "metadata": {},
   "outputs": [],
   "source": [
    "from selenium import webdriver as wb\n",
    "from selenium.webdriver.common.keys import Keys\n",
    "from selenium.webdriver.common.by import By\n",
    "from bs4 import BeautifulSoup as bs\n",
    "import time\n",
    "# 파일이나 폴더를 생성, 삭제해주는 라이브러리(파일 시스템 라이브러리)\n",
    "import os\n",
    "# 이미지의 경로를 이미지 파일로 변환시켜주는 라이브러리\n",
    "from urllib.request import urlretrieve"
   ]
  },
  {
   "cell_type": "code",
   "execution_count": 4,
   "id": "b4a51a49",
   "metadata": {},
   "outputs": [
    {
     "name": "stdout",
     "output_type": "stream",
     "text": [
      "이미 존재하는 폴더입니다\n"
     ]
    }
   ],
   "source": [
    "# 폴더 생성\n",
    "if not os.path.isdir(\"C:\\\\Users\\\\gjaischool1\\\\OneDrive\\\\바탕 화면\\\\네이버이미지수집\"):\n",
    "    os.mkdir(\"C:\\\\Users\\\\gjaischool1\\\\OneDrive\\\\바탕 화면\\\\네이버이미지수집\")\n",
    "    print(\"폴더생성\")\n",
    "else:\n",
    "    print(\"이미 존재하는 폴더입니다\")"
   ]
  },
  {
   "cell_type": "code",
   "execution_count": 5,
   "id": "0f116d47",
   "metadata": {},
   "outputs": [],
   "source": [
    "driver=wb.Chrome()\n",
    "driver.get('https://www.naver.com/')\n",
    "time.sleep(1)"
   ]
  },
  {
   "cell_type": "code",
   "execution_count": 10,
   "id": "ff9a5231",
   "metadata": {},
   "outputs": [],
   "source": [
    "inputWindow = driver.find_elements(By.ID,'query')[0]\n",
    "inputWindow.send_keys(\"즐겁다\")\n",
    "inputWindow.send_keys(Keys.ENTER)\n"
   ]
  },
  {
   "cell_type": "code",
   "execution_count": null,
   "id": "982bded5",
   "metadata": {},
   "outputs": [],
   "source": []
  }
 ],
 "metadata": {
  "kernelspec": {
   "display_name": "Python 3 (ipykernel)",
   "language": "python",
   "name": "python3"
  },
  "language_info": {
   "codemirror_mode": {
    "name": "ipython",
    "version": 3
   },
   "file_extension": ".py",
   "mimetype": "text/x-python",
   "name": "python",
   "nbconvert_exporter": "python",
   "pygments_lexer": "ipython3",
   "version": "3.10.9"
  }
 },
 "nbformat": 4,
 "nbformat_minor": 5
}
