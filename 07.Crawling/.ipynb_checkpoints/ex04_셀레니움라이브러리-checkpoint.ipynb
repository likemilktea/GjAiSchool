{
 "cells": [
  {
   "cell_type": "markdown",
   "id": "f5032384",
   "metadata": {},
   "source": [
    "### 컴퓨터 코드를 통해서 컴퓨터를 자동제어하기\n",
    "### selenium 라이브러리\n",
    "- 웹페이지를 제어하기 위한 라이브러리"
   ]
  },
  {
   "cell_type": "code",
   "execution_count": 2,
   "id": "ef9604e2",
   "metadata": {
    "scrolled": true
   },
   "outputs": [
    {
     "name": "stdout",
     "output_type": "stream",
     "text": [
      "Requirement already satisfied: selenium in c:\\users\\gjaischool1\\anaconda3\\lib\\site-packages (4.10.0)\n",
      "Requirement already satisfied: trio-websocket~=0.9 in c:\\users\\gjaischool1\\anaconda3\\lib\\site-packages (from selenium) (0.10.3)\n",
      "Requirement already satisfied: certifi>=2021.10.8 in c:\\users\\gjaischool1\\anaconda3\\lib\\site-packages (from selenium) (2022.12.7)\n",
      "Requirement already satisfied: trio~=0.17 in c:\\users\\gjaischool1\\anaconda3\\lib\\site-packages (from selenium) (0.22.1)\n",
      "Requirement already satisfied: urllib3[socks]<3,>=1.26 in c:\\users\\gjaischool1\\anaconda3\\lib\\site-packages (from selenium) (1.26.14)\n",
      "Requirement already satisfied: exceptiongroup>=1.0.0rc9 in c:\\users\\gjaischool1\\anaconda3\\lib\\site-packages (from trio~=0.17->selenium) (1.1.2)\n",
      "Requirement already satisfied: sniffio in c:\\users\\gjaischool1\\anaconda3\\lib\\site-packages (from trio~=0.17->selenium) (1.2.0)\n",
      "Requirement already satisfied: sortedcontainers in c:\\users\\gjaischool1\\anaconda3\\lib\\site-packages (from trio~=0.17->selenium) (2.4.0)\n",
      "Requirement already satisfied: cffi>=1.14 in c:\\users\\gjaischool1\\anaconda3\\lib\\site-packages (from trio~=0.17->selenium) (1.15.1)\n",
      "Requirement already satisfied: attrs>=20.1.0 in c:\\users\\gjaischool1\\anaconda3\\lib\\site-packages (from trio~=0.17->selenium) (22.1.0)\n",
      "Requirement already satisfied: idna in c:\\users\\gjaischool1\\anaconda3\\lib\\site-packages (from trio~=0.17->selenium) (3.4)\n",
      "Requirement already satisfied: outcome in c:\\users\\gjaischool1\\anaconda3\\lib\\site-packages (from trio~=0.17->selenium) (1.2.0)\n",
      "Requirement already satisfied: wsproto>=0.14 in c:\\users\\gjaischool1\\anaconda3\\lib\\site-packages (from trio-websocket~=0.9->selenium) (1.2.0)\n",
      "Requirement already satisfied: PySocks!=1.5.7,<2.0,>=1.5.6 in c:\\users\\gjaischool1\\anaconda3\\lib\\site-packages (from urllib3[socks]<3,>=1.26->selenium) (1.7.1)\n",
      "Requirement already satisfied: pycparser in c:\\users\\gjaischool1\\anaconda3\\lib\\site-packages (from cffi>=1.14->trio~=0.17->selenium) (2.21)\n",
      "Requirement already satisfied: h11<1,>=0.9.0 in c:\\users\\gjaischool1\\anaconda3\\lib\\site-packages (from wsproto>=0.14->trio-websocket~=0.9->selenium) (0.14.0)\n"
     ]
    }
   ],
   "source": [
    "# 기본으로 내장된 라이브러리가 아니기 때문에 설치 진행\n",
    "!pip install selenium"
   ]
  },
  {
   "cell_type": "code",
   "execution_count": 16,
   "id": "cc9d55cf",
   "metadata": {},
   "outputs": [],
   "source": [
    "# webdriver : 웹브라우저를 통제하기 위한 라이브러리 \n",
    "from selenium import webdriver as wb\n",
    "# Keys : 웹을 통해서 값을 엽력하기 위한 라이브러리(컴퓨터용 키보드)\n",
    "from selenium.webdriver.common.keys import Keys\n",
    "# By : 태그 선택을 할 때 기준을 정의해주는 라이브러리\n",
    "from selenium.webdriver.common.by import By\n",
    "from bs4 import BeautifulSoup as bs"
   ]
  },
  {
   "cell_type": "markdown",
   "id": "23c83a3f",
   "metadata": {},
   "source": [
    "- 브라우저의 모든 제어는 webdriver가 진행\n",
    "- 컴퓨터용 브라우저 설치(컴퓨터용 크롬)\n",
    "- 크롬 드라이버 설치시 주의사항\n",
    "    1. 크롬 드라이버의 설치 버전과 나의 크롬버전 일치 시키기\n",
    "    2. 드라이버 파일은 현재 내가 작업하고 있는 파일과 같은 위치에 넣어주기"
   ]
  },
  {
   "cell_type": "code",
   "execution_count": 9,
   "id": "80de04c6",
   "metadata": {},
   "outputs": [],
   "source": [
    "# 검색의 단계\n",
    "# 1. 크롬창 열기\n",
    "# 2. 검색창 찾기\n",
    "# 3. 검색어 입력\n",
    "# 4. 검색(enter,돋보기 클릭) "
   ]
  },
  {
   "cell_type": "code",
   "execution_count": 10,
   "id": "36388c54",
   "metadata": {},
   "outputs": [],
   "source": [
    "# 1. 크롬창 열기 (naver 페이지)\n",
    "# 컴퓨터야( webdriver) 크롬창 실행시켜줘~\n",
    "driver = wb.Chrome()\n",
    "# 주소를 알려주지 않았기 때문에 빈 창이 뜬다 -> url 주소를 주기\n",
    "driver.get('https://www.naver.com')"
   ]
  },
  {
   "cell_type": "markdown",
   "id": "672798e0",
   "metadata": {},
   "source": [
    "- 자동화로 '최영화' 검색하기"
   ]
  },
  {
   "cell_type": "code",
   "execution_count": 13,
   "id": "70827552",
   "metadata": {},
   "outputs": [],
   "source": [
    "# 2. 검색창 위치의 요소 찾기\n",
    "search = driver.find_element(By.ID,\"query\")"
   ]
  },
  {
   "cell_type": "code",
   "execution_count": 14,
   "id": "ccbb747f",
   "metadata": {},
   "outputs": [],
   "source": [
    "# 3. 검색어 입력\n",
    "search.send_keys(\"최영화\")"
   ]
  },
  {
   "cell_type": "code",
   "execution_count": 18,
   "id": "f53da749",
   "metadata": {},
   "outputs": [],
   "source": [
    "# 4. 엔터키를 통해 검색\n",
    "search.send_keys(Keys.ENTER)"
   ]
  },
  {
   "cell_type": "code",
   "execution_count": 19,
   "id": "11609160",
   "metadata": {},
   "outputs": [],
   "source": [
    "# 뒤로가기 -> 브라우저 영역 -> 드라이버에게 요청\n",
    "driver.back()"
   ]
  },
  {
   "cell_type": "code",
   "execution_count": 20,
   "id": "7be1f8a6",
   "metadata": {},
   "outputs": [],
   "source": [
    "# 페이지가 바뀔 때마다 데이터 초기화 -> 다시 한 번 검색창의 위치 찾기\n",
    "search = driver.find_element(By.ID,\"query\")\n",
    "search.send_keys(\"최영화빵\")"
   ]
  },
  {
   "cell_type": "code",
   "execution_count": 21,
   "id": "0060bb52",
   "metadata": {},
   "outputs": [],
   "source": [
    "# 클릭을 통해서 검색 (클릭 버튼의 요소 찾아오기)"
   ]
  },
  {
   "cell_type": "code",
   "execution_count": 22,
   "id": "537f1bea",
   "metadata": {},
   "outputs": [],
   "source": [
    "btn = driver.find_element(By.CLASS_NAME,'btn_search')\n",
    "btn.click()"
   ]
  },
  {
   "cell_type": "code",
   "execution_count": null,
   "id": "7d348784",
   "metadata": {},
   "outputs": [],
   "source": []
  }
 ],
 "metadata": {
  "kernelspec": {
   "display_name": "Python 3 (ipykernel)",
   "language": "python",
   "name": "python3"
  },
  "language_info": {
   "codemirror_mode": {
    "name": "ipython",
    "version": 3
   },
   "file_extension": ".py",
   "mimetype": "text/x-python",
   "name": "python",
   "nbconvert_exporter": "python",
   "pygments_lexer": "ipython3",
   "version": "3.10.9"
  }
 },
 "nbformat": 4,
 "nbformat_minor": 5
}
