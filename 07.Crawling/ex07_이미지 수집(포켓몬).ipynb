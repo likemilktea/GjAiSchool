{
 "cells": [
  {
   "cell_type": "markdown",
   "id": "955e8050",
   "metadata": {},
   "source": [
    "### 포켓몬 페이지에서 이미지 데이터 수집!"
   ]
  },
  {
   "cell_type": "markdown",
   "id": "06974e7f",
   "metadata": {},
   "source": [
    "- 자동으로 이미지를 저장할 폴더 생성"
   ]
  },
  {
   "cell_type": "code",
   "execution_count": 11,
   "id": "4a89c443",
   "metadata": {},
   "outputs": [],
   "source": [
    "from selenium import webdriver as wb\n",
    "from selenium.webdriver.common.keys import Keys\n",
    "from selenium.webdriver.common.by import By\n",
    "from bs4 import BeautifulSoup as bs\n",
    "import time\n",
    "# 파일이나 폴더를 생성, 삭제해주는 라이브러리(파일 시스템 라이브러리)\n",
    "import os\n",
    "# 이미지의 경로를 이미지 파일로 변환시켜주는 라이브러리\n",
    "from urllib.request import urlretrieve"
   ]
  },
  {
   "cell_type": "code",
   "execution_count": 12,
   "id": "8c250a19",
   "metadata": {},
   "outputs": [
    {
     "name": "stdout",
     "output_type": "stream",
     "text": [
      "이미 존재하는 폴더입니다\n"
     ]
    }
   ],
   "source": [
    "# 폴더 생성\n",
    "if not os.path.isdir(\"C:\\\\Users\\\\gjaischool1\\\\OneDrive\\\\바탕 화면\\\\포켓몬도감\"):\n",
    "    os.mkdir(\"C:\\\\Users\\\\gjaischool1\\\\OneDrive\\\\바탕 화면\\\\포켓몬도감\")\n",
    "    print(\"폴더생성\")\n",
    "else:\n",
    "    print(\"이미 존재하는 폴더입니다\")"
   ]
  },
  {
   "cell_type": "code",
   "execution_count": 13,
   "id": "49ab5d14",
   "metadata": {},
   "outputs": [],
   "source": [
    "driver=wb.Chrome()\n",
    "driver.get('https://www.pokemonkorea.co.kr/pokedex#pokedex_1')\n",
    "time.sleep(1)"
   ]
  },
  {
   "cell_type": "code",
   "execution_count": 15,
   "id": "6b065abd",
   "metadata": {},
   "outputs": [],
   "source": [
    "# bs 객체화 진행\n",
    "soup = bs(driver.page_source,'lxml')"
   ]
  },
  {
   "cell_type": "code",
   "execution_count": 19,
   "id": "bb92f48b",
   "metadata": {},
   "outputs": [],
   "source": [
    "# 포켓몬 이미지 1개 수집\n",
    "img = soup.select('img.img-fluid')\n",
    "# .text 콘텐츠 추출을 했을 때 아무 것도 가져와지지 않는 이유는?\n",
    "# 콘텐츠는 여는 태그와 닫는 태그 사이에 데이터를 가져오는 속성인데\n",
    "# img 태그는 여는 태그만 있는 홀 태그 - > 속성 추출"
   ]
  },
  {
   "cell_type": "code",
   "execution_count": 20,
   "id": "52122e8c",
   "metadata": {},
   "outputs": [
    {
     "data": {
      "text/plain": [
       "'https://data1.pokemonkorea.co.kr/newdata/pokedex/mid/000101.png'"
      ]
     },
     "execution_count": 20,
     "metadata": {},
     "output_type": "execute_result"
    }
   ],
   "source": [
    "# 태그 내에 있는 속성을 추출하는 방법\n",
    "# 요소['속성명']\n",
    "img[0]['src']"
   ]
  },
  {
   "cell_type": "code",
   "execution_count": 25,
   "id": "ea07f45b",
   "metadata": {},
   "outputs": [
    {
     "data": {
      "text/plain": [
       "('C:\\\\Users\\\\gjaischool1\\\\OneDrive\\\\바탕 화면\\\\포켓몬도감\\\\포켓몬.jpg',\n",
       " <http.client.HTTPMessage at 0x230bb624220>)"
      ]
     },
     "execution_count": 25,
     "metadata": {},
     "output_type": "execute_result"
    }
   ],
   "source": [
    "# 이미지의 경로를 사용하여 이미지 파일로 저장하기\n",
    "# urlretrieve(경로,저장할 위치\\\\파일명.확장자)|\n",
    "urlretrieve(img[0]['src'],\"C:\\\\Users\\\\gjaischool1\\\\OneDrive\\\\바탕 화면\\\\포켓몬도감\\\\포켓몬.jpg\")"
   ]
  },
  {
   "cell_type": "code",
   "execution_count": 26,
   "id": "8ded3ea8",
   "metadata": {},
   "outputs": [],
   "source": [
    "# 여러마리 포켓몬을 저장해보자\n",
    "# img_list에 순수한 경로만을 저장\n",
    "img_list=[]\n",
    "for i in range(len(img)):\n",
    "    img_list.append(img[i]['src'])"
   ]
  },
  {
   "cell_type": "code",
   "execution_count": 27,
   "id": "7437eca1",
   "metadata": {},
   "outputs": [
    {
     "data": {
      "text/plain": [
       "['https://data1.pokemonkorea.co.kr/newdata/pokedex/mid/000101.png',\n",
       " 'https://data1.pokemonkorea.co.kr/newdata/pokedex/mid/000201.png',\n",
       " 'https://data1.pokemonkorea.co.kr/newdata/pokedex/mid/000301.png',\n",
       " 'https://data1.pokemonkorea.co.kr/newdata/pokedex/mid/000302.png',\n",
       " 'https://data1.pokemonkorea.co.kr/newdata/pokedex/mid/000303.png',\n",
       " 'https://data1.pokemonkorea.co.kr/newdata/pokedex/mid/000401.png',\n",
       " 'https://data1.pokemonkorea.co.kr/newdata/pokedex/mid/000501.png',\n",
       " 'https://data1.pokemonkorea.co.kr/newdata/pokedex/mid/000601.png',\n",
       " 'https://data1.pokemonkorea.co.kr/newdata/pokedex/mid/000602.png',\n",
       " 'https://data1.pokemonkorea.co.kr/newdata/pokedex/mid/000603.png',\n",
       " 'https://data1.pokemonkorea.co.kr/newdata/pokedex/mid/000604.png',\n",
       " 'https://data1.pokemonkorea.co.kr/newdata/pokedex/mid/000701.png',\n",
       " 'https://data1.pokemonkorea.co.kr/newdata/pokedex/mid/000801.png',\n",
       " 'https://data1.pokemonkorea.co.kr/newdata/pokedex/mid/000901.png',\n",
       " 'https://data1.pokemonkorea.co.kr/newdata/pokedex/mid/000902.png',\n",
       " 'https://data1.pokemonkorea.co.kr/newdata/pokedex/mid/000903.png',\n",
       " 'https://data1.pokemonkorea.co.kr/newdata/pokedex/mid/001001.png',\n",
       " 'https://data1.pokemonkorea.co.kr/newdata/pokedex/mid/001101.png']"
      ]
     },
     "execution_count": 27,
     "metadata": {},
     "output_type": "execute_result"
    }
   ],
   "source": [
    "img_list"
   ]
  },
  {
   "cell_type": "code",
   "execution_count": 30,
   "id": "d9f88a78",
   "metadata": {},
   "outputs": [],
   "source": [
    "for i in range(len(img_list)):\n",
    "    urlretrieve(img_list[i],f'C:\\\\Users\\\\gjaischool1\\\\OneDrive\\\\바탕 화면\\\\포켓몬도감\\\\포켓몬{i+1}.jpg')"
   ]
  },
  {
   "cell_type": "markdown",
   "id": "dc1dc2d4",
   "metadata": {},
   "source": [
    "### 화면에서 자동 스크롤 하기\n",
    "- 현재 로딩되어 있는 페이지의 정보만을 bs 객체화 하기 때문에 제한적인 수집이 될 수 밖에 없다!\n",
    "- 아래 방향키 : 조금 내려감\n",
    "- 스페이스바: 조금 더 내려감\n",
    "- page down: 스크롤바 만큼 내려감\n",
    "- end : 제일 아래로 내려감"
   ]
  },
  {
   "cell_type": "code",
   "execution_count": 31,
   "id": "a90be22e",
   "metadata": {},
   "outputs": [],
   "source": [
    "# 키보드의 end키를 통해서 페이지 내리기 (스크롤)\n",
    "body = driver.find_element(By.CSS_SELECTOR,'body')\n",
    "# body : 키보드를 제어할 때 사용( 화면 전체를 담당하는 친구)\n",
    "for i in range(20):\n",
    "    body.send_keys(Keys.END)\n",
    "    time.sleep(1)"
   ]
  },
  {
   "cell_type": "code",
   "execution_count": 32,
   "id": "03e8c1e0",
   "metadata": {},
   "outputs": [],
   "source": [
    "# 코드 합치기\n",
    "driver=wb.Chrome()\n",
    "driver.get('https://www.pokemonkorea.co.kr/pokedex#pokedex_1')\n",
    "time.sleep(1)\n",
    "\n",
    "# 키보드의 end키를 통해서 페이지 내리기 (스크롤)\n",
    "body = driver.find_element(By.CSS_SELECTOR,'body')\n",
    "# body : 키보드를 제어할 때 사용( 화면 전체를 담당하는 친구)\n",
    "for i in range(20):\n",
    "    body.send_keys(Keys.END)\n",
    "    time.sleep(1)\n",
    "\n",
    "# bs 객체화 진행\n",
    "soup = bs(driver.page_source,'lxml')\n",
    "img = soup.select('img.img-fluid')\n",
    "img_list=[]\n",
    "for i in range(len(img)):\n",
    "    img_list.append(img[i]['src'])\n",
    "for i in range(len(img_list)):\n",
    "    urlretrieve(img_list[i],f'C:\\\\Users\\\\gjaischool1\\\\OneDrive\\\\바탕 화면\\\\포켓몬도감\\\\포켓몬{i+1}.jpg')"
   ]
  },
  {
   "cell_type": "code",
   "execution_count": null,
   "id": "b2266c31",
   "metadata": {},
   "outputs": [],
   "source": []
  }
 ],
 "metadata": {
  "kernelspec": {
   "display_name": "Python 3 (ipykernel)",
   "language": "python",
   "name": "python3"
  },
  "language_info": {
   "codemirror_mode": {
    "name": "ipython",
    "version": 3
   },
   "file_extension": ".py",
   "mimetype": "text/x-python",
   "name": "python",
   "nbconvert_exporter": "python",
   "pygments_lexer": "ipython3",
   "version": "3.10.9"
  }
 },
 "nbformat": 4,
 "nbformat_minor": 5
}
