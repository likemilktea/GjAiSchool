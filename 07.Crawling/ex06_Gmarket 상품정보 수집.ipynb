{
 "cells": [
  {
   "cell_type": "code",
   "execution_count": 1,
   "id": "99bb679e",
   "metadata": {},
   "outputs": [],
   "source": [
    "from selenium import webdriver as wb\n",
    "from selenium.webdriver.common.keys import Keys\n",
    "from selenium.webdriver.common.by import By\n",
    "from bs4 import BeautifulSoup as bs\n",
    "import time"
   ]
  },
  {
   "cell_type": "code",
   "execution_count": 8,
   "id": "baf04967",
   "metadata": {},
   "outputs": [],
   "source": [
    "driver=wb.Chrome()\n",
    "driver.get('https://www.gmarket.co.kr/n/best')\n",
    "time.sleep(1)\n",
    "\n",
    "name_list = []\n",
    "price_list = []\n",
    "cate_list = []\n",
    "\n",
    "for i in range(10):\n",
    "    img = driver.find_elements(By.CLASS_NAME,'image__lazy.image__load')\n",
    "    img[i].click()\n",
    "    time.sleep(1)\n",
    "\n",
    "    soup = bs(driver.page_source,'lxml')\n",
    "    name = soup.select_one('#itemcase_basic > div > h1').text\n",
    "    price = soup.select_one('strong.price_real').text\n",
    "    cate = soup.select('li.on>a')[0].text\n",
    "    \n",
    "    name_list.append(name)\n",
    "    price_list.append(price)\n",
    "    cate_list.append(cate)\n",
    "\n",
    "    driver.back()\n",
    "    time.sleep(1)"
   ]
  },
  {
   "cell_type": "code",
   "execution_count": 11,
   "id": "b672f727",
   "metadata": {},
   "outputs": [
    {
     "name": "stdout",
     "output_type": "stream",
     "text": [
      "경성명과 롤케익+단팥빵 5개 \n",
      "(유니버스클럽 전용) 메가박스 일반예매권 2D-주중/주말 \n",
      "(선물하기 특가) 맥도날드 디지털상품권 1만원권 \n",
      "(한국투자증권) 온라인 금융상품권 5만원권 \n",
      "스타벅스 캡슐커피 by 네스프레소 9박스(90캡슐/골라담기/당일출고)/스타벅스 정품 굿즈+선착순 증정 이벤트 \n",
      "스위트 아이스망고스틱 50g x 20봉 \n",
      "빅마마이혜정 포갈비 양념2팩 생1팩 총1040g \n",
      "(특가) 붙였다 떼었다 비지북 (Busy Book) 총4종 풀세트 : 공룡 농장 탈것 생활습관 \n",
      "(할인특가) 아람 - 원더스쿨 홈스쿨링 워크북 1 2 선택구매 \n",
      "두메산골 닭볶음탕용 냉장 닭 절단육 1kg+1kg (총 2kg) \n"
     ]
    }
   ],
   "source": [
    "for n in name_list:\n",
    "    print(n)"
   ]
  },
  {
   "cell_type": "code",
   "execution_count": null,
   "id": "9c5f41f2",
   "metadata": {},
   "outputs": [],
   "source": []
  }
 ],
 "metadata": {
  "kernelspec": {
   "display_name": "Python 3 (ipykernel)",
   "language": "python",
   "name": "python3"
  },
  "language_info": {
   "codemirror_mode": {
    "name": "ipython",
    "version": 3
   },
   "file_extension": ".py",
   "mimetype": "text/x-python",
   "name": "python",
   "nbconvert_exporter": "python",
   "pygments_lexer": "ipython3",
   "version": "3.10.9"
  }
 },
 "nbformat": 4,
 "nbformat_minor": 5
}
