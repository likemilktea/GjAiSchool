{
 "cells": [
  {
   "cell_type": "markdown",
   "id": "b62ac22c",
   "metadata": {},
   "source": [
    "# 함수 (function)\n",
    "- 함수 정의 \n",
    "- 함수 호출"
   ]
  },
  {
   "cell_type": "markdown",
   "id": "b952db5f",
   "metadata": {},
   "source": [
    "### 함수 정의\n",
    "def 함수명(매개변수1, 매개변수2):\n",
    "    실행문장\n",
    "    return 리턴값"
   ]
  },
  {
   "cell_type": "code",
   "execution_count": 12,
   "id": "baa91482",
   "metadata": {},
   "outputs": [],
   "source": [
    "# 두 개의 숫자가 주어지면\n",
    "# 두 값을 더해서 출력\n",
    "\n",
    "def addNumber(num1,num2):\n",
    "    print(num1*2+num2)"
   ]
  },
  {
   "cell_type": "markdown",
   "id": "f00e106a",
   "metadata": {},
   "source": [
    "### 함수 호출\n",
    "함수명(전달인자1,전달인자2)"
   ]
  },
  {
   "cell_type": "code",
   "execution_count": 13,
   "id": "7c672882",
   "metadata": {},
   "outputs": [
    {
     "name": "stdout",
     "output_type": "stream",
     "text": [
      "11\n",
      "14\n",
      "23\n",
      "35\n"
     ]
    }
   ],
   "source": [
    "addNumber(3,5)\n",
    "addNumber(4,6)\n",
    "addNumber(7,9)\n",
    "addNumber(11,13)"
   ]
  },
  {
   "cell_type": "markdown",
   "id": "4f23487e",
   "metadata": {},
   "source": [
    "# 리턴 여부!!"
   ]
  },
  {
   "cell_type": "code",
   "execution_count": 15,
   "id": "8bdfd37b",
   "metadata": {},
   "outputs": [],
   "source": [
    "def subNumber(num1,num2):\n",
    "    return num1-num2"
   ]
  },
  {
   "cell_type": "code",
   "execution_count": 18,
   "id": "3328f661",
   "metadata": {},
   "outputs": [
    {
     "name": "stdout",
     "output_type": "stream",
     "text": [
      "5\n",
      "10\n"
     ]
    },
    {
     "data": {
      "text/plain": [
       "15"
      ]
     },
     "execution_count": 18,
     "metadata": {},
     "output_type": "execute_result"
    }
   ],
   "source": [
    "print(subNumber(10,5))\n",
    "print(subNumber(20,10))\n",
    "\n",
    "subNumber(10,5)+subNumber(20,10)"
   ]
  },
  {
   "cell_type": "markdown",
   "id": "01468a2c",
   "metadata": {},
   "source": [
    "# 계산기 프로그램"
   ]
  },
  {
   "cell_type": "code",
   "execution_count": 33,
   "id": "075fd0db",
   "metadata": {},
   "outputs": [],
   "source": [
    "def cal(num1,num2,op):\n",
    "    '''두 개의 숫자와 연산자를 받아서 계산하는 프로그램'''\n",
    "    result = 0\n",
    "    if op == \"+\":\n",
    "        result = num1 + num2\n",
    "    elif op == \"-\":\n",
    "        result = num1 - num2\n",
    "    elif op == \"*\":\n",
    "        result = num1 + num2\n",
    "    elif op == \"/\":\n",
    "        result = num1 / num2\n",
    "    else:\n",
    "        result = \"연산자를 정확히 넣으시오\"\n",
    "    print(result)"
   ]
  },
  {
   "cell_type": "code",
   "execution_count": 25,
   "id": "6180782b",
   "metadata": {},
   "outputs": [
    {
     "name": "stdout",
     "output_type": "stream",
     "text": [
      "15\n",
      "-5\n",
      "15\n",
      "0.5\n"
     ]
    }
   ],
   "source": [
    "cal(5,10,'+')\n",
    "cal(5,10,'-')\n",
    "cal(5,10,'*')\n",
    "cal(5,10,'/')"
   ]
  },
  {
   "cell_type": "code",
   "execution_count": 32,
   "id": "6c2f6b93",
   "metadata": {},
   "outputs": [
    {
     "name": "stdout",
     "output_type": "stream",
     "text": [
      "6\n"
     ]
    }
   ],
   "source": [
    "cal(3,3,'+')"
   ]
  },
  {
   "cell_type": "markdown",
   "id": "5f0c8135",
   "metadata": {},
   "source": [
    "# 가변 매개변수를 활용한 함수"
   ]
  },
  {
   "cell_type": "code",
   "execution_count": 34,
   "id": "464e0f5f",
   "metadata": {},
   "outputs": [],
   "source": [
    "# arguments\n",
    "def add(*args):\n",
    "    #tuple 형태로 args가 정의됨\n",
    "    total = 0\n",
    "    for i in args:\n",
    "        total += i\n",
    "    print(total)"
   ]
  },
  {
   "cell_type": "code",
   "execution_count": 35,
   "id": "68398233",
   "metadata": {},
   "outputs": [
    {
     "name": "stdout",
     "output_type": "stream",
     "text": [
      "45\n"
     ]
    }
   ],
   "source": [
    "add(1,2,3,4,5,6,7,8,9)"
   ]
  },
  {
   "cell_type": "markdown",
   "id": "e4f48703",
   "metadata": {},
   "source": [
    "# return\n",
    "- 함수 하나에 하나씩 정의할 수 있음"
   ]
  },
  {
   "cell_type": "code",
   "execution_count": 38,
   "id": "47ed7401",
   "metadata": {},
   "outputs": [],
   "source": [
    "def absolute(num):\n",
    "    if num > 0:\n",
    "        return num\n",
    "    else:\n",
    "        return num*-1"
   ]
  },
  {
   "cell_type": "markdown",
   "id": "b94b5e05",
   "metadata": {},
   "source": [
    "# 모듈화"
   ]
  },
  {
   "cell_type": "code",
   "execution_count": 41,
   "id": "1ba9e446",
   "metadata": {},
   "outputs": [],
   "source": [
    "import sol"
   ]
  },
  {
   "cell_type": "code",
   "execution_count": 43,
   "id": "96b5797b",
   "metadata": {},
   "outputs": [
    {
     "name": "stdout",
     "output_type": "stream",
     "text": [
      "송솔님, 안녕하세요.\n"
     ]
    }
   ],
   "source": [
    "sol.hello(\"송솔\")"
   ]
  },
  {
   "cell_type": "code",
   "execution_count": 58,
   "id": "1529cb6f",
   "metadata": {},
   "outputs": [
    {
     "data": {
      "text/plain": [
       "{'boxOfficeResult': {'boxofficeType': '일별 박스오피스',\n",
       "  'showRange': '20230621~20230621',\n",
       "  'dailyBoxOfficeList': [{'rnum': '1',\n",
       "    'rank': '1',\n",
       "    'rankInten': '0',\n",
       "    'rankOldAndNew': 'OLD',\n",
       "    'movieCd': '20226411',\n",
       "    'movieNm': '범죄도시3',\n",
       "    'openDt': '2023-05-31',\n",
       "    'salesAmt': '800442310',\n",
       "    'salesShare': '25.5',\n",
       "    'salesInten': '34508976',\n",
       "    'salesChange': '4.5',\n",
       "    'salesAcc': '90730438745',\n",
       "    'audiCnt': '82542',\n",
       "    'audiInten': '3897',\n",
       "    'audiChange': '5',\n",
       "    'audiAcc': '9160073',\n",
       "    'scrnCnt': '1027',\n",
       "    'showCnt': '4368'},\n",
       "   {'rnum': '2',\n",
       "    'rank': '2',\n",
       "    'rankInten': '0',\n",
       "    'rankOldAndNew': 'NEW',\n",
       "    'movieCd': '20232180',\n",
       "    'movieNm': '스파이더맨: 어크로스 더 유니버스',\n",
       "    'openDt': '2023-06-21',\n",
       "    'salesAmt': '743953312',\n",
       "    'salesShare': '23.7',\n",
       "    'salesInten': '743953312',\n",
       "    'salesChange': '100',\n",
       "    'salesAcc': '771051312',\n",
       "    'audiCnt': '70801',\n",
       "    'audiInten': '70801',\n",
       "    'audiChange': '100',\n",
       "    'audiAcc': '72445',\n",
       "    'scrnCnt': '1103',\n",
       "    'showCnt': '4013'},\n",
       "   {'rnum': '3',\n",
       "    'rank': '3',\n",
       "    'rankInten': '0',\n",
       "    'rankOldAndNew': 'NEW',\n",
       "    'movieCd': '20211937',\n",
       "    'movieNm': '귀공자',\n",
       "    'openDt': '2023-06-21',\n",
       "    'salesAmt': '625217697',\n",
       "    'salesShare': '19.9',\n",
       "    'salesInten': '625217697',\n",
       "    'salesChange': '100',\n",
       "    'salesAcc': '813364686',\n",
       "    'audiCnt': '64917',\n",
       "    'audiInten': '64917',\n",
       "    'audiChange': '100',\n",
       "    'audiAcc': '93533',\n",
       "    'scrnCnt': '966',\n",
       "    'showCnt': '3875'},\n",
       "   {'rnum': '4',\n",
       "    'rank': '4',\n",
       "    'rankInten': '-2',\n",
       "    'rankOldAndNew': 'OLD',\n",
       "    'movieCd': '20228930',\n",
       "    'movieNm': '엘리멘탈',\n",
       "    'openDt': '2023-06-14',\n",
       "    'salesAmt': '590785509',\n",
       "    'salesShare': '18.8',\n",
       "    'salesInten': '48040758',\n",
       "    'salesChange': '8.9',\n",
       "    'salesAcc': '6780907227',\n",
       "    'audiCnt': '60867',\n",
       "    'audiInten': '5137',\n",
       "    'audiChange': '9.2',\n",
       "    'audiAcc': '685033',\n",
       "    'scrnCnt': '856',\n",
       "    'showCnt': '2524'},\n",
       "   {'rnum': '5',\n",
       "    'rank': '5',\n",
       "    'rankInten': '-2',\n",
       "    'rankOldAndNew': 'OLD',\n",
       "    'movieCd': '20231971',\n",
       "    'movieNm': '플래시',\n",
       "    'openDt': '2023-06-14',\n",
       "    'salesAmt': '170761457',\n",
       "    'salesShare': '5.4',\n",
       "    'salesInten': '-75404620',\n",
       "    'salesChange': '-30.6',\n",
       "    'salesAcc': '5290921224',\n",
       "    'audiCnt': '16461',\n",
       "    'audiInten': '-7356',\n",
       "    'audiChange': '-30.9',\n",
       "    'audiAcc': '495921',\n",
       "    'scrnCnt': '685',\n",
       "    'showCnt': '1737'},\n",
       "   {'rnum': '6',\n",
       "    'rank': '6',\n",
       "    'rankInten': '64',\n",
       "    'rankOldAndNew': 'OLD',\n",
       "    'movieCd': '20227654',\n",
       "    'movieNm': '수라',\n",
       "    'openDt': '2023-06-21',\n",
       "    'salesAmt': '77671200',\n",
       "    'salesShare': '2.5',\n",
       "    'salesInten': '77606200',\n",
       "    'salesChange': '119394.2',\n",
       "    'salesAcc': '121008200',\n",
       "    'audiCnt': '8936',\n",
       "    'audiInten': '8927',\n",
       "    'audiChange': '99188.9',\n",
       "    'audiAcc': '13793',\n",
       "    'scrnCnt': '136',\n",
       "    'showCnt': '155'},\n",
       "   {'rnum': '7',\n",
       "    'rank': '7',\n",
       "    'rankInten': '-3',\n",
       "    'rankOldAndNew': 'OLD',\n",
       "    'movieCd': '20232025',\n",
       "    'movieNm': '트랜스포머: 비스트의 서막',\n",
       "    'openDt': '2023-06-06',\n",
       "    'salesAmt': '29221628',\n",
       "    'salesShare': '0.9',\n",
       "    'salesInten': '-51611783',\n",
       "    'salesChange': '-63.8',\n",
       "    'salesAcc': '7484733008',\n",
       "    'audiCnt': '3195',\n",
       "    'audiInten': '-5343',\n",
       "    'audiChange': '-62.6',\n",
       "    'audiAcc': '738979',\n",
       "    'scrnCnt': '255',\n",
       "    'showCnt': '295'},\n",
       "   {'rnum': '8',\n",
       "    'rank': '8',\n",
       "    'rankInten': '-3',\n",
       "    'rankOldAndNew': 'OLD',\n",
       "    'movieCd': '20231496',\n",
       "    'movieNm': '가디언즈 오브 갤럭시: Volume 3',\n",
       "    'openDt': '2023-05-03',\n",
       "    'salesAmt': '10477641',\n",
       "    'salesShare': '0.3',\n",
       "    'salesInten': '-19709396',\n",
       "    'salesChange': '-65.3',\n",
       "    'salesAcc': '44223769066',\n",
       "    'audiCnt': '1029',\n",
       "    'audiInten': '-1954',\n",
       "    'audiChange': '-65.5',\n",
       "    'audiAcc': '4196193',\n",
       "    'scrnCnt': '67',\n",
       "    'showCnt': '79'},\n",
       "   {'rnum': '9',\n",
       "    'rank': '9',\n",
       "    'rankInten': '-3',\n",
       "    'rankOldAndNew': 'OLD',\n",
       "    'movieCd': '20231677',\n",
       "    'movieNm': '남은 인생 10년',\n",
       "    'openDt': '2023-05-24',\n",
       "    'salesAmt': '8128900',\n",
       "    'salesShare': '0.3',\n",
       "    'salesInten': '-3057200',\n",
       "    'salesChange': '-27.3',\n",
       "    'salesAcc': '1373520200',\n",
       "    'audiCnt': '796',\n",
       "    'audiInten': '-277',\n",
       "    'audiChange': '-25.8',\n",
       "    'audiAcc': '128123',\n",
       "    'scrnCnt': '41',\n",
       "    'showCnt': '53'},\n",
       "   {'rnum': '10',\n",
       "    'rank': '10',\n",
       "    'rankInten': '0',\n",
       "    'rankOldAndNew': 'NEW',\n",
       "    'movieCd': '20232169',\n",
       "    'movieNm': '마마무: 마이콘 더 무비',\n",
       "    'openDt': '2023-06-21',\n",
       "    'salesAmt': '12340000',\n",
       "    'salesShare': '0.4',\n",
       "    'salesInten': '12340000',\n",
       "    'salesChange': '100',\n",
       "    'salesAcc': '12340000',\n",
       "    'audiCnt': '617',\n",
       "    'audiInten': '617',\n",
       "    'audiChange': '100',\n",
       "    'audiAcc': '617',\n",
       "    'scrnCnt': '18',\n",
       "    'showCnt': '34'}]}}"
      ]
     },
     "execution_count": 58,
     "metadata": {},
     "output_type": "execute_result"
    }
   ],
   "source": [
    "import requests\n",
    "\n",
    "url = 'https://kobis.or.kr/kobisopenapi/webservice/rest/boxoffice/searchDailyBoxOfficeList.json?key=f5eef3421c602c6cb7ea224104795888&targetDt=20230621'\n",
    "\n",
    "response = requests.get(url)\n",
    "data = response.json()\n",
    "data"
   ]
  },
  {
   "cell_type": "code",
   "execution_count": 64,
   "id": "e3a05b95",
   "metadata": {},
   "outputs": [
    {
     "data": {
      "text/plain": [
       "[{'rnum': '1',\n",
       "  'rank': '1',\n",
       "  'rankInten': '0',\n",
       "  'rankOldAndNew': 'OLD',\n",
       "  'movieCd': '20226411',\n",
       "  'movieNm': '범죄도시3',\n",
       "  'openDt': '2023-05-31',\n",
       "  'salesAmt': '800442310',\n",
       "  'salesShare': '25.5',\n",
       "  'salesInten': '34508976',\n",
       "  'salesChange': '4.5',\n",
       "  'salesAcc': '90730438745',\n",
       "  'audiCnt': '82542',\n",
       "  'audiInten': '3897',\n",
       "  'audiChange': '5',\n",
       "  'audiAcc': '9160073',\n",
       "  'scrnCnt': '1027',\n",
       "  'showCnt': '4368'},\n",
       " {'rnum': '2',\n",
       "  'rank': '2',\n",
       "  'rankInten': '0',\n",
       "  'rankOldAndNew': 'NEW',\n",
       "  'movieCd': '20232180',\n",
       "  'movieNm': '스파이더맨: 어크로스 더 유니버스',\n",
       "  'openDt': '2023-06-21',\n",
       "  'salesAmt': '743953312',\n",
       "  'salesShare': '23.7',\n",
       "  'salesInten': '743953312',\n",
       "  'salesChange': '100',\n",
       "  'salesAcc': '771051312',\n",
       "  'audiCnt': '70801',\n",
       "  'audiInten': '70801',\n",
       "  'audiChange': '100',\n",
       "  'audiAcc': '72445',\n",
       "  'scrnCnt': '1103',\n",
       "  'showCnt': '4013'},\n",
       " {'rnum': '3',\n",
       "  'rank': '3',\n",
       "  'rankInten': '0',\n",
       "  'rankOldAndNew': 'NEW',\n",
       "  'movieCd': '20211937',\n",
       "  'movieNm': '귀공자',\n",
       "  'openDt': '2023-06-21',\n",
       "  'salesAmt': '625217697',\n",
       "  'salesShare': '19.9',\n",
       "  'salesInten': '625217697',\n",
       "  'salesChange': '100',\n",
       "  'salesAcc': '813364686',\n",
       "  'audiCnt': '64917',\n",
       "  'audiInten': '64917',\n",
       "  'audiChange': '100',\n",
       "  'audiAcc': '93533',\n",
       "  'scrnCnt': '966',\n",
       "  'showCnt': '3875'},\n",
       " {'rnum': '4',\n",
       "  'rank': '4',\n",
       "  'rankInten': '-2',\n",
       "  'rankOldAndNew': 'OLD',\n",
       "  'movieCd': '20228930',\n",
       "  'movieNm': '엘리멘탈',\n",
       "  'openDt': '2023-06-14',\n",
       "  'salesAmt': '590785509',\n",
       "  'salesShare': '18.8',\n",
       "  'salesInten': '48040758',\n",
       "  'salesChange': '8.9',\n",
       "  'salesAcc': '6780907227',\n",
       "  'audiCnt': '60867',\n",
       "  'audiInten': '5137',\n",
       "  'audiChange': '9.2',\n",
       "  'audiAcc': '685033',\n",
       "  'scrnCnt': '856',\n",
       "  'showCnt': '2524'},\n",
       " {'rnum': '5',\n",
       "  'rank': '5',\n",
       "  'rankInten': '-2',\n",
       "  'rankOldAndNew': 'OLD',\n",
       "  'movieCd': '20231971',\n",
       "  'movieNm': '플래시',\n",
       "  'openDt': '2023-06-14',\n",
       "  'salesAmt': '170761457',\n",
       "  'salesShare': '5.4',\n",
       "  'salesInten': '-75404620',\n",
       "  'salesChange': '-30.6',\n",
       "  'salesAcc': '5290921224',\n",
       "  'audiCnt': '16461',\n",
       "  'audiInten': '-7356',\n",
       "  'audiChange': '-30.9',\n",
       "  'audiAcc': '495921',\n",
       "  'scrnCnt': '685',\n",
       "  'showCnt': '1737'},\n",
       " {'rnum': '6',\n",
       "  'rank': '6',\n",
       "  'rankInten': '64',\n",
       "  'rankOldAndNew': 'OLD',\n",
       "  'movieCd': '20227654',\n",
       "  'movieNm': '수라',\n",
       "  'openDt': '2023-06-21',\n",
       "  'salesAmt': '77671200',\n",
       "  'salesShare': '2.5',\n",
       "  'salesInten': '77606200',\n",
       "  'salesChange': '119394.2',\n",
       "  'salesAcc': '121008200',\n",
       "  'audiCnt': '8936',\n",
       "  'audiInten': '8927',\n",
       "  'audiChange': '99188.9',\n",
       "  'audiAcc': '13793',\n",
       "  'scrnCnt': '136',\n",
       "  'showCnt': '155'},\n",
       " {'rnum': '7',\n",
       "  'rank': '7',\n",
       "  'rankInten': '-3',\n",
       "  'rankOldAndNew': 'OLD',\n",
       "  'movieCd': '20232025',\n",
       "  'movieNm': '트랜스포머: 비스트의 서막',\n",
       "  'openDt': '2023-06-06',\n",
       "  'salesAmt': '29221628',\n",
       "  'salesShare': '0.9',\n",
       "  'salesInten': '-51611783',\n",
       "  'salesChange': '-63.8',\n",
       "  'salesAcc': '7484733008',\n",
       "  'audiCnt': '3195',\n",
       "  'audiInten': '-5343',\n",
       "  'audiChange': '-62.6',\n",
       "  'audiAcc': '738979',\n",
       "  'scrnCnt': '255',\n",
       "  'showCnt': '295'},\n",
       " {'rnum': '8',\n",
       "  'rank': '8',\n",
       "  'rankInten': '-3',\n",
       "  'rankOldAndNew': 'OLD',\n",
       "  'movieCd': '20231496',\n",
       "  'movieNm': '가디언즈 오브 갤럭시: Volume 3',\n",
       "  'openDt': '2023-05-03',\n",
       "  'salesAmt': '10477641',\n",
       "  'salesShare': '0.3',\n",
       "  'salesInten': '-19709396',\n",
       "  'salesChange': '-65.3',\n",
       "  'salesAcc': '44223769066',\n",
       "  'audiCnt': '1029',\n",
       "  'audiInten': '-1954',\n",
       "  'audiChange': '-65.5',\n",
       "  'audiAcc': '4196193',\n",
       "  'scrnCnt': '67',\n",
       "  'showCnt': '79'},\n",
       " {'rnum': '9',\n",
       "  'rank': '9',\n",
       "  'rankInten': '-3',\n",
       "  'rankOldAndNew': 'OLD',\n",
       "  'movieCd': '20231677',\n",
       "  'movieNm': '남은 인생 10년',\n",
       "  'openDt': '2023-05-24',\n",
       "  'salesAmt': '8128900',\n",
       "  'salesShare': '0.3',\n",
       "  'salesInten': '-3057200',\n",
       "  'salesChange': '-27.3',\n",
       "  'salesAcc': '1373520200',\n",
       "  'audiCnt': '796',\n",
       "  'audiInten': '-277',\n",
       "  'audiChange': '-25.8',\n",
       "  'audiAcc': '128123',\n",
       "  'scrnCnt': '41',\n",
       "  'showCnt': '53'},\n",
       " {'rnum': '10',\n",
       "  'rank': '10',\n",
       "  'rankInten': '0',\n",
       "  'rankOldAndNew': 'NEW',\n",
       "  'movieCd': '20232169',\n",
       "  'movieNm': '마마무: 마이콘 더 무비',\n",
       "  'openDt': '2023-06-21',\n",
       "  'salesAmt': '12340000',\n",
       "  'salesShare': '0.4',\n",
       "  'salesInten': '12340000',\n",
       "  'salesChange': '100',\n",
       "  'salesAcc': '12340000',\n",
       "  'audiCnt': '617',\n",
       "  'audiInten': '617',\n",
       "  'audiChange': '100',\n",
       "  'audiAcc': '617',\n",
       "  'scrnCnt': '18',\n",
       "  'showCnt': '34'}]"
      ]
     },
     "execution_count": 64,
     "metadata": {},
     "output_type": "execute_result"
    }
   ],
   "source": [
    "data['boxOfficeResult']['dailyBoxOfficeList']"
   ]
  },
  {
   "cell_type": "code",
   "execution_count": 71,
   "id": "251e697b",
   "metadata": {},
   "outputs": [
    {
     "name": "stdout",
     "output_type": "stream",
     "text": [
      "1위 : 범죄도시3 (누적관객 : 9160073)\n",
      "2위 : 스파이더맨: 어크로스 더 유니버스 (누적관객 : 72445)\n",
      "3위 : 귀공자 (누적관객 : 93533)\n",
      "4위 : 엘리멘탈 (누적관객 : 685033)\n",
      "5위 : 플래시 (누적관객 : 495921)\n",
      "6위 : 수라 (누적관객 : 13793)\n",
      "7위 : 트랜스포머: 비스트의 서막 (누적관객 : 738979)\n",
      "8위 : 가디언즈 오브 갤럭시: Volume 3 (누적관객 : 4196193)\n",
      "9위 : 남은 인생 10년 (누적관객 : 128123)\n",
      "10위 : 마마무: 마이콘 더 무비 (누적관객 : 617)\n"
     ]
    }
   ],
   "source": [
    "data2 = data['boxOfficeResult']['dailyBoxOfficeList']\n",
    "for i in range(len(data2)):\n",
    "    print(f'{i+1}위 : {data2[i][\"movieNm\"]} (누적관객 : {data2[i][\"audiAcc\"]})')"
   ]
  },
  {
   "cell_type": "code",
   "execution_count": null,
   "id": "a2d2cc28",
   "metadata": {},
   "outputs": [],
   "source": []
  }
 ],
 "metadata": {
  "kernelspec": {
   "display_name": "Python 3 (ipykernel)",
   "language": "python",
   "name": "python3"
  },
  "language_info": {
   "codemirror_mode": {
    "name": "ipython",
    "version": 3
   },
   "file_extension": ".py",
   "mimetype": "text/x-python",
   "name": "python",
   "nbconvert_exporter": "python",
   "pygments_lexer": "ipython3",
   "version": "3.10.9"
  }
 },
 "nbformat": 4,
 "nbformat_minor": 5
}
