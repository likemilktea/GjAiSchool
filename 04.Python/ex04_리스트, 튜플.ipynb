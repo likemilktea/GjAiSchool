{
 "cells": [
  {
   "cell_type": "markdown",
   "id": "57d031d8",
   "metadata": {},
   "source": [
    "### 리스트"
   ]
  },
  {
   "cell_type": "markdown",
   "id": "f6bd7e2a",
   "metadata": {},
   "source": [
    "- 자료구조(Data Structure)\n",
    "    - 여러가지 자료를 하나로 묶어서 관리하기 위함\n",
    "\n",
    "- 리스트(List)\n",
    "    - 자료형 구분 없이 하나로 묶을 수 있다\n",
    "    - 인덱스 번호가 존재한다(0,1,2,...)\n",
    "    - 대괄호를 통해서 사용, 생성 가능\n",
    "    - 추가, 수정, 삭제 가능"
   ]
  },
  {
   "cell_type": "code",
   "execution_count": 1,
   "id": "2c4729c0",
   "metadata": {},
   "outputs": [
    {
     "data": {
      "text/plain": [
       "[1, 2, 3, 4, 5]"
      ]
     },
     "execution_count": 1,
     "metadata": {},
     "output_type": "execute_result"
    }
   ],
   "source": [
    "list1 = [1,2,3,4,5]\n",
    "list1"
   ]
  },
  {
   "cell_type": "code",
   "execution_count": 3,
   "id": "e327e130",
   "metadata": {},
   "outputs": [
    {
     "name": "stdout",
     "output_type": "stream",
     "text": [
      "<class 'list'>\n"
     ]
    }
   ],
   "source": [
    "print(type(list1))"
   ]
  },
  {
   "cell_type": "code",
   "execution_count": 5,
   "id": "ce96d1c1",
   "metadata": {},
   "outputs": [
    {
     "data": {
      "text/plain": [
       "['송솔', 37, True, 5.1, [1, 2, 3]]"
      ]
     },
     "execution_count": 5,
     "metadata": {},
     "output_type": "execute_result"
    }
   ],
   "source": [
    "list2 = ['송솔',37,True,5.1,[1,2,3]]\n",
    "list2"
   ]
  },
  {
   "cell_type": "code",
   "execution_count": 6,
   "id": "bfb28654",
   "metadata": {},
   "outputs": [
    {
     "data": {
      "text/plain": [
       "'송솔'"
      ]
     },
     "execution_count": 6,
     "metadata": {},
     "output_type": "execute_result"
    }
   ],
   "source": [
    "# 이름을 가져오고 싶다!!\n",
    "list2[0]"
   ]
  },
  {
   "cell_type": "code",
   "execution_count": 8,
   "id": "24216e27",
   "metadata": {},
   "outputs": [
    {
     "data": {
      "text/plain": [
       "37"
      ]
     },
     "execution_count": 8,
     "metadata": {},
     "output_type": "execute_result"
    }
   ],
   "source": [
    "# 두 번째에 있는 수자를 출력해주세요\n",
    "list2[1]"
   ]
  },
  {
   "cell_type": "code",
   "execution_count": 9,
   "id": "91375420",
   "metadata": {},
   "outputs": [
    {
     "data": {
      "text/plain": [
       "[1, 2, 3]"
      ]
     },
     "execution_count": 9,
     "metadata": {},
     "output_type": "execute_result"
    }
   ],
   "source": [
    "# [1,2,3]이라는 요소를 출력해주세요!!\n",
    "list2[-1]"
   ]
  },
  {
   "cell_type": "code",
   "execution_count": 10,
   "id": "c0270155",
   "metadata": {},
   "outputs": [
    {
     "data": {
      "text/plain": [
       "2"
      ]
     },
     "execution_count": 10,
     "metadata": {},
     "output_type": "execute_result"
    }
   ],
   "source": [
    "# 2를 출력해주세요\n",
    "list2[-1][1]"
   ]
  },
  {
   "cell_type": "code",
   "execution_count": 12,
   "id": "eeada13f",
   "metadata": {},
   "outputs": [
    {
     "name": "stdout",
     "output_type": "stream",
     "text": [
      "8\n",
      "8\n",
      "40\n"
     ]
    }
   ],
   "source": [
    "list3 = [3,5,7,1,6,43]\n",
    "\n",
    "# list3의 첫번째 값과 두번째 값을 더해서 출력\n",
    "# list3의 세번째 값과 네번째 값을 더해서 출력\n",
    "# list3의 마지막 값에서 첫번째 값을 뺀 후 출력\n",
    "print(list3[0]+list3[1])\n",
    "print(list3[2]+list3[3])\n",
    "print(list3[-1]-list3[0])"
   ]
  },
  {
   "cell_type": "code",
   "execution_count": 13,
   "id": "0d6aa49c",
   "metadata": {},
   "outputs": [
    {
     "name": "stdout",
     "output_type": "stream",
     "text": [
      "['콜라', '아아', '우유']\n"
     ]
    }
   ],
   "source": [
    "list4 = ['콜라','아아','우유','아침햇살','솔의눈']\n",
    "\n",
    "print(list4[0:3])"
   ]
  },
  {
   "cell_type": "code",
   "execution_count": 16,
   "id": "2b1320dc",
   "metadata": {},
   "outputs": [
    {
     "data": {
      "text/plain": [
       "['콜라', '아아', '우유', '아침햇살', '솔의눈', '데자와', '데자와']"
      ]
     },
     "execution_count": 16,
     "metadata": {},
     "output_type": "execute_result"
    }
   ],
   "source": [
    "# append : 리스트 끝에 요소 추가!!\n",
    "list4.append(\"데자와\")\n",
    "list4"
   ]
  },
  {
   "cell_type": "code",
   "execution_count": null,
   "id": "c3fbe073",
   "metadata": {},
   "outputs": [],
   "source": []
  },
  {
   "cell_type": "code",
   "execution_count": 21,
   "id": "20537828",
   "metadata": {},
   "outputs": [
    {
     "name": "stdout",
     "output_type": "stream",
     "text": [
      "['사과', '수박', '오렌지']\n",
      "['사과', '수박']\n",
      "['수박', '오렌지']\n"
     ]
    }
   ],
   "source": [
    "list5 = ['사과','포도',['수박','멜론'],'복숭아','딸기','오렌지']\n",
    "\n",
    "fruit1 = list5[0]\n",
    "fruit2 = list5[2][0]\n",
    "fruit3 = list5[-1]\n",
    "\n",
    "choice_list = []\n",
    "\n",
    "#append 활용해 사과, 수박, 오렌지 담아주세요!!\n",
    "choice_list.append(fruit1)\n",
    "choice_list.append(fruit2)\n",
    "choice_list.append(fruit3)\n",
    "\n",
    "print(choice_list)\n",
    "\n",
    "# choice_list에서 사과와 수박만 출력해주세요!!\n",
    "print(choice_list[:2])\n",
    "\n",
    "# choice_list에서 수박과 오렌지를 출력!!\n",
    "print(choice_list[1:])"
   ]
  },
  {
   "cell_type": "code",
   "execution_count": 22,
   "id": "ecdb7928",
   "metadata": {},
   "outputs": [
    {
     "data": {
      "text/plain": [
       "[1, 2, 3, 5, 6, 7]"
      ]
     },
     "execution_count": 22,
     "metadata": {},
     "output_type": "execute_result"
    }
   ],
   "source": [
    "# list의 맨 뒷 값 추가 : append\n",
    "\n",
    "list6 = [1,2,5,6,7]\n",
    "list6.insert(2,3)\n",
    "list6"
   ]
  },
  {
   "cell_type": "markdown",
   "id": "002a64e6",
   "metadata": {},
   "source": [
    "#### 리스트 요소 값 수정"
   ]
  },
  {
   "cell_type": "code",
   "execution_count": 24,
   "id": "480e4078",
   "metadata": {},
   "outputs": [
    {
     "data": {
      "text/plain": [
       "[0, 1, 20, 3, 4]"
      ]
     },
     "execution_count": 24,
     "metadata": {},
     "output_type": "execute_result"
    }
   ],
   "source": [
    "\n",
    "list7 = [0,1,2,3,4]\n",
    "list7[2] = 20\n",
    "list7"
   ]
  },
  {
   "cell_type": "code",
   "execution_count": 26,
   "id": "73399eb3",
   "metadata": {},
   "outputs": [
    {
     "data": {
      "text/plain": [
       "[0, 3, 40, 3, 4]"
      ]
     },
     "execution_count": 26,
     "metadata": {},
     "output_type": "execute_result"
    }
   ],
   "source": [
    "list7[1:3] = [3,40]\n",
    "list7"
   ]
  },
  {
   "cell_type": "code",
   "execution_count": 27,
   "id": "b163dbd7",
   "metadata": {},
   "outputs": [
    {
     "data": {
      "text/plain": [
       "[0, 100, 3, 4]"
      ]
     },
     "execution_count": 27,
     "metadata": {},
     "output_type": "execute_result"
    }
   ],
   "source": [
    "list7[1:3] = [100]\n",
    "list7"
   ]
  },
  {
   "cell_type": "code",
   "execution_count": 28,
   "id": "dc64355d",
   "metadata": {},
   "outputs": [
    {
     "data": {
      "text/plain": [
       "[1, 2, 3, 4, 5]"
      ]
     },
     "execution_count": 28,
     "metadata": {},
     "output_type": "execute_result"
    }
   ],
   "source": [
    "list8 = [1,2,3,4,5]\n",
    "list8"
   ]
  },
  {
   "cell_type": "code",
   "execution_count": 31,
   "id": "93e2516b",
   "metadata": {},
   "outputs": [
    {
     "name": "stdout",
     "output_type": "stream",
     "text": [
      "[('h', 'i', 'j'), ['a', 'b', 'c'], 3, ('d', 'e', 'f', 'g'), ('d', 'e', 'f', 'g')]\n"
     ]
    }
   ],
   "source": [
    "list8 = [1, 2, 3, 4, 5]\n",
    "\n",
    "# 1. 숫자 5를 7로 바꾸세요\n",
    "list8[-1] = 7\n",
    "\n",
    "# 2. 숫자 2를 리스트['a', 'b', 'c']로 바꾸세요\n",
    "list8[1] = ['a', 'b', 'c']\n",
    "\n",
    "# 3. 숫자 4, 7을 'd', 'e', 'f', 'g' 로 바꾸세요\n",
    "list8[3] = 'd', 'e', 'f', 'g' \n",
    "list8[-1] = 'd', 'e', 'f', 'g'\n",
    "\n",
    "# 4. 숫자 1을 'h', 'i', 'j' 로 바꾸세요\n",
    "list8[0] = 'h', 'i', 'j' \n",
    "\n",
    "print(list8)\n"
   ]
  },
  {
   "cell_type": "markdown",
   "id": "08baca5e",
   "metadata": {},
   "source": [
    "#### 리스트 요소 삭제"
   ]
  },
  {
   "cell_type": "code",
   "execution_count": 35,
   "id": "03b0c7bc",
   "metadata": {},
   "outputs": [
    {
     "data": {
      "text/plain": [
       "[1, 2, 5]"
      ]
     },
     "execution_count": 35,
     "metadata": {},
     "output_type": "execute_result"
    }
   ],
   "source": [
    "\n",
    "\n",
    "list9 = [1,2,3,4,5]\n",
    "del list9[2]\n",
    "list9.remove(4)\n",
    "list9"
   ]
  },
  {
   "cell_type": "code",
   "execution_count": 36,
   "id": "8ce7339e",
   "metadata": {},
   "outputs": [],
   "source": [
    "list10 = [1,1,1,2,2,3]\n",
    "list10.remove(1)"
   ]
  },
  {
   "cell_type": "code",
   "execution_count": 37,
   "id": "a1245393",
   "metadata": {},
   "outputs": [
    {
     "data": {
      "text/plain": [
       "2"
      ]
     },
     "execution_count": 37,
     "metadata": {},
     "output_type": "execute_result"
    }
   ],
   "source": [
    "list10.count(1)"
   ]
  },
  {
   "cell_type": "code",
   "execution_count": 4,
   "id": "777e3897",
   "metadata": {},
   "outputs": [
    {
     "data": {
      "text/plain": [
       "[['다이너마이트', 'BTS'], ['사건의지평선', '윤하']]"
      ]
     },
     "execution_count": 4,
     "metadata": {},
     "output_type": "execute_result"
    }
   ],
   "source": [
    "music_list = [['다이너마이트','BTS'],['사건의지평선','윤하']]\n",
    "music_list"
   ]
  },
  {
   "cell_type": "code",
   "execution_count": 5,
   "id": "da98008c",
   "metadata": {},
   "outputs": [
    {
     "name": "stdout",
     "output_type": "stream",
     "text": [
      "[['다이너마이트', 'BTS'], ['사건의지평선', '윤하']]\n"
     ]
    }
   ],
   "source": [
    "# 사용자로부터 3가지 정보를 입력!!\n",
    "# 1. 인덱스 위치 : loc\n",
    "# 2. 노래 제목 : title\n",
    "# 3. 가수 : singer\n",
    "\n",
    "#위 3개의 정보를 토대로\n",
    "# 예를 들어 \n",
    "# 인덱스 위치 : 1, \n",
    "# 노래 제목 : 퀸카\n",
    "# 가수 : 아이들\n",
    "print(music_list)"
   ]
  },
  {
   "cell_type": "code",
   "execution_count": 6,
   "id": "a9fdddfe",
   "metadata": {},
   "outputs": [
    {
     "name": "stdout",
     "output_type": "stream",
     "text": [
      "음악을 재생할 순서 >> 2\n",
      "노래 제목 >> 그것은자그마한빛과도같이\n",
      "가수 >> 사유리\n",
      "[['다이너마이트', 'BTS'], ['사건의지평선', '윤하'], ['그것은자그마한빛과도같이', '사유리']]\n"
     ]
    }
   ],
   "source": [
    "loc = int(input(\"음악을 재생할 순서 >> \"))\n",
    "title = input(\"노래 제목 >> \")\n",
    "singer = input(\"가수 >> \")\n",
    "\n",
    "music_list.insert(loc,[title,singer])\n",
    "print(music_list)"
   ]
  },
  {
   "cell_type": "code",
   "execution_count": 8,
   "id": "2ef613cd",
   "metadata": {},
   "outputs": [
    {
     "name": "stdout",
     "output_type": "stream",
     "text": [
      "2\n",
      "음악을 재생할 순서 >> 1\n",
      "노래 제목 >> 라젠카세이브어스\n",
      "가수 >> 넥스트\n",
      "[['다이너마이트', 'BTS'], ['라젠카세이브어스', '넥스트'], ['사건의지평선', '윤하'], ['그것은자그마한빛과도같이', '사유리']]\n"
     ]
    }
   ],
   "source": [
    "menu = int(input())\n",
    "if menu == 1:\n",
    "    print(music_list)\n",
    "elif menu == 2:\n",
    "    loc = int(input(\"음악을 재생할 순서 >> \"))\n",
    "    title = input(\"노래 제목 >> \")\n",
    "    singer = input(\"가수 >> \")\n",
    "\n",
    "    music_list.insert(loc,[title,singer])\n",
    "    print(music_list)\n",
    "elif menu == 3:\n",
    "    delete = int(input())\n",
    "    del music_list[delete]\n",
    "    print(music_list)"
   ]
  },
  {
   "cell_type": "markdown",
   "id": "68cbb027",
   "metadata": {},
   "source": [
    "#### 정렬\n",
    "- 탐색 이전에 값들을 규칙에 맞게 배열"
   ]
  },
  {
   "cell_type": "code",
   "execution_count": 9,
   "id": "7a7d8d75",
   "metadata": {},
   "outputs": [
    {
     "data": {
      "text/plain": [
       "[7, 49, 22, 30, 1, 15]"
      ]
     },
     "execution_count": 9,
     "metadata": {},
     "output_type": "execute_result"
    }
   ],
   "source": [
    "list11 = [7,49, 22, 30, 1, 15]\n",
    "list11"
   ]
  },
  {
   "cell_type": "code",
   "execution_count": 11,
   "id": "c552e86c",
   "metadata": {},
   "outputs": [
    {
     "data": {
      "text/plain": [
       "[1, 7, 15, 22, 30, 49]"
      ]
     },
     "execution_count": 11,
     "metadata": {},
     "output_type": "execute_result"
    }
   ],
   "source": [
    "list11.sort()\n",
    "list11"
   ]
  },
  {
   "cell_type": "code",
   "execution_count": 14,
   "id": "7f57c51d",
   "metadata": {},
   "outputs": [
    {
     "data": {
      "text/plain": [
       "[49, 22, 10, 8, 7, 1]"
      ]
     },
     "execution_count": 14,
     "metadata": {},
     "output_type": "execute_result"
    }
   ],
   "source": [
    "list13 = [7,49,22,10,1,8]\n",
    "list13.sort(reverse=True)\n",
    "list13"
   ]
  },
  {
   "cell_type": "code",
   "execution_count": 15,
   "id": "ad0ffb2d",
   "metadata": {},
   "outputs": [],
   "source": [
    "# 문자열 정렬 기준은은 아스키코드\n",
    "\n",
    "fruits = ['파인애플','방토','딸기','바나나','사과','오렌지']"
   ]
  },
  {
   "cell_type": "markdown",
   "id": "54373e89",
   "metadata": {},
   "source": [
    "#### 그 외 함수\n",
    "- index()\n",
    "- count()\n",
    "- pop()\n",
    "- len()"
   ]
  },
  {
   "cell_type": "code",
   "execution_count": 17,
   "id": "fffd122d",
   "metadata": {},
   "outputs": [
    {
     "data": {
      "text/plain": [
       "1"
      ]
     },
     "execution_count": 17,
     "metadata": {},
     "output_type": "execute_result"
    }
   ],
   "source": [
    "fruits.index('방토') # 방토의 위치 -> 인덱스 값\n",
    "#여러개 있을 경우 첫 번째 인덱스"
   ]
  },
  {
   "cell_type": "code",
   "execution_count": 18,
   "id": "4e3726c0",
   "metadata": {},
   "outputs": [
    {
     "name": "stdout",
     "output_type": "stream",
     "text": [
      "['파인애플', '방토', '딸기', '바나나', '사과', '오렌지']\n",
      "['파인애플', '방토', '딸기', '바나나', '사과']\n"
     ]
    }
   ],
   "source": [
    "print(fruits)\n",
    "fruits.pop()\n",
    "print(fruits)"
   ]
  },
  {
   "cell_type": "code",
   "execution_count": 21,
   "id": "1fa3292d",
   "metadata": {},
   "outputs": [
    {
     "name": "stdout",
     "output_type": "stream",
     "text": [
      "['파인애플', '방토', '딸기', '바나나', '사과']\n",
      "1\n"
     ]
    }
   ],
   "source": [
    "print(fruits)\n",
    "print(fruits.count('방토'))"
   ]
  },
  {
   "cell_type": "code",
   "execution_count": 22,
   "id": "ac66a6d3",
   "metadata": {},
   "outputs": [
    {
     "name": "stdout",
     "output_type": "stream",
     "text": [
      "['파인애플', '방토', '딸기', '바나나', '사과']\n"
     ]
    },
    {
     "data": {
      "text/plain": [
       "5"
      ]
     },
     "execution_count": 22,
     "metadata": {},
     "output_type": "execute_result"
    }
   ],
   "source": [
    "print(fruits)\n",
    "len(fruits) # length : 리스트의 길이 반환"
   ]
  },
  {
   "cell_type": "markdown",
   "id": "58da1e85",
   "metadata": {},
   "source": [
    "### 튜플"
   ]
  },
  {
   "cell_type": "markdown",
   "id": "0a64c785",
   "metadata": {},
   "source": [
    "- Python의 자료구조 중 하나!!\n",
    "- 순서가 있음 : 인덱싱과 슬라이싱 가능 -> 확인만 가능\n",
    "- 소괄호로 만든다()\n",
    "- 추가, 수정, 삭제 -> 불가능\n",
    "- -> 변하지 않는 자료를 써야할 때 사용\n",
    "- -> 메모리를 아낄 수 있다."
   ]
  },
  {
   "cell_type": "code",
   "execution_count": 23,
   "id": "6e8a3c0f",
   "metadata": {},
   "outputs": [
    {
     "data": {
      "text/plain": [
       "(1, 2, 3, 4, 5)"
      ]
     },
     "execution_count": 23,
     "metadata": {},
     "output_type": "execute_result"
    }
   ],
   "source": [
    "tuple1 = (1,2,3,4,5)\n",
    "tuple1"
   ]
  },
  {
   "cell_type": "code",
   "execution_count": 25,
   "id": "e7d1e378",
   "metadata": {},
   "outputs": [
    {
     "data": {
      "text/plain": [
       "(1, 2, True)"
      ]
     },
     "execution_count": 25,
     "metadata": {},
     "output_type": "execute_result"
    }
   ],
   "source": [
    "tuple2 = (1,2,True)\n",
    "tuple2"
   ]
  },
  {
   "cell_type": "code",
   "execution_count": 26,
   "id": "3fbc645c",
   "metadata": {},
   "outputs": [
    {
     "name": "stdout",
     "output_type": "stream",
     "text": [
      "(1, 2, True, (4, 5))\n"
     ]
    },
    {
     "data": {
      "text/plain": [
       "4"
      ]
     },
     "execution_count": 26,
     "metadata": {},
     "output_type": "execute_result"
    }
   ],
   "source": [
    "tuple3 = (1,2,True,(4,5))\n",
    "print(tuple3)\n",
    "tuple3[3][0]"
   ]
  },
  {
   "cell_type": "code",
   "execution_count": 27,
   "id": "fbee1969",
   "metadata": {},
   "outputs": [
    {
     "name": "stdout",
     "output_type": "stream",
     "text": [
      "('사과', '바나나', '복숭아', '방토')\n"
     ]
    },
    {
     "data": {
      "text/plain": [
       "('복숭아', '방토')"
      ]
     },
     "execution_count": 27,
     "metadata": {},
     "output_type": "execute_result"
    }
   ],
   "source": [
    "tuple4=('사과','바나나','복숭아','방토')\n",
    "print(tuple4)\n",
    "tuple4[-2:]"
   ]
  },
  {
   "cell_type": "markdown",
   "id": "67ea3a1b",
   "metadata": {},
   "source": [
    "#### in, not in"
   ]
  },
  {
   "cell_type": "markdown",
   "id": "085fc27d",
   "metadata": {},
   "source": [
    "- in : 찾고자 하는 값 포함되어 있으면 -> True\n",
    "- not in : 찾고자 하는 값이 포함되어 있지 않으면 -> True"
   ]
  },
  {
   "cell_type": "code",
   "execution_count": 29,
   "id": "85008d53",
   "metadata": {},
   "outputs": [
    {
     "data": {
      "text/plain": [
       "True"
      ]
     },
     "execution_count": 29,
     "metadata": {},
     "output_type": "execute_result"
    }
   ],
   "source": [
    "'방토' in fruits"
   ]
  },
  {
   "cell_type": "code",
   "execution_count": 30,
   "id": "ed636c41",
   "metadata": {},
   "outputs": [
    {
     "data": {
      "text/plain": [
       "True"
      ]
     },
     "execution_count": 30,
     "metadata": {},
     "output_type": "execute_result"
    }
   ],
   "source": [
    "'두리안' not in fruits"
   ]
  },
  {
   "cell_type": "code",
   "execution_count": 31,
   "id": "c298d2f4",
   "metadata": {},
   "outputs": [
    {
     "data": {
      "text/plain": [
       "True"
      ]
     },
     "execution_count": 31,
     "metadata": {},
     "output_type": "execute_result"
    }
   ],
   "source": [
    "words = \"hello world\"\n",
    "# 위 문장 중 'hello'가 들어있는지 여부 판단\n",
    "'hello' in words"
   ]
  },
  {
   "cell_type": "code",
   "execution_count": null,
   "id": "96a1ff70",
   "metadata": {},
   "outputs": [],
   "source": []
  }
 ],
 "metadata": {
  "kernelspec": {
   "display_name": "Python 3 (ipykernel)",
   "language": "python",
   "name": "python3"
  },
  "language_info": {
   "codemirror_mode": {
    "name": "ipython",
    "version": 3
   },
   "file_extension": ".py",
   "mimetype": "text/x-python",
   "name": "python",
   "nbconvert_exporter": "python",
   "pygments_lexer": "ipython3",
   "version": "3.10.9"
  }
 },
 "nbformat": 4,
 "nbformat_minor": 5
}
