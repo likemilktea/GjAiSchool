{
 "cells": [
  {
   "cell_type": "markdown",
   "id": "0599d756",
   "metadata": {},
   "source": [
    "### Numpy\n",
    "- numerical python의 약자로 \"수치 계산용 라이브러리\"\n",
    "- list와 비슷한 형태\n",
    "- 반복문 없이 전체 데이터의 배열 연산이 가능하다!\n",
    "- 동일한 자료형을 가지는 값들만 배열에 담을 수 있다!\n",
    "- 각 값들은 양의 정수로 index를 가진다!\n",
    "- numpy.array()"
   ]
  },
  {
   "cell_type": "markdown",
   "id": "1fd9527d",
   "metadata": {},
   "source": [
    "### 1.numpy 라이브러리 불러오기"
   ]
  },
  {
   "cell_type": "code",
   "execution_count": 1,
   "id": "bbf25fc7",
   "metadata": {},
   "outputs": [],
   "source": [
    "# numpy를 불러올 건데 이제부터는 'np'라는 별칭으로 불러줄 거야\n",
    "import numpy as np"
   ]
  },
  {
   "cell_type": "code",
   "execution_count": 2,
   "id": "93a2d027",
   "metadata": {},
   "outputs": [],
   "source": [
    "# 라이브러리가 없을 때 설치하는 방법\n",
    "# !pip install numpy "
   ]
  },
  {
   "cell_type": "markdown",
   "id": "2cc40a3e",
   "metadata": {},
   "source": [
    "### 1차원 배열 만들기!"
   ]
  },
  {
   "cell_type": "code",
   "execution_count": 16,
   "id": "df9874e2",
   "metadata": {},
   "outputs": [],
   "source": [
    "# np.array(데이터)\n",
    "arr=np.array([1,2,3,4,5])\n",
    "# numpy 안에 있는 array라는 자료형 (Numpy 배열)"
   ]
  },
  {
   "cell_type": "code",
   "execution_count": 5,
   "id": "563ff8e5",
   "metadata": {},
   "outputs": [
    {
     "data": {
      "text/plain": [
       "[1, 2, 3, 4, 5]"
      ]
     },
     "execution_count": 5,
     "metadata": {},
     "output_type": "execute_result"
    }
   ],
   "source": [
    "# 그냥 list 생성해보기\n",
    "list1 = [1,2,3,4,5]\n",
    "list1"
   ]
  },
  {
   "cell_type": "markdown",
   "id": "954a2f11",
   "metadata": {},
   "source": [
    "### 2차원 배열 만들기!"
   ]
  },
  {
   "cell_type": "code",
   "execution_count": 10,
   "id": "cf3949f6",
   "metadata": {},
   "outputs": [
    {
     "data": {
      "text/plain": [
       "[[1, 2, 3], [4, 5, 6]]"
      ]
     },
     "execution_count": 10,
     "metadata": {},
     "output_type": "execute_result"
    }
   ],
   "source": [
    "list2 = [[1,2,3],[4,5,6]]\n",
    "list2"
   ]
  },
  {
   "cell_type": "code",
   "execution_count": 13,
   "id": "aeea6828",
   "metadata": {},
   "outputs": [],
   "source": [
    "arr1=np.array(list2)\n"
   ]
  },
  {
   "cell_type": "markdown",
   "id": "31ca8863",
   "metadata": {},
   "source": [
    "##### 배열 데이터 확인하기\n",
    "- 크기\n",
    "- 개수\n",
    "- 차원\n",
    "- 타입"
   ]
  },
  {
   "cell_type": "markdown",
   "id": "0eab827d",
   "metadata": {},
   "source": [
    "- 배열의 크기 확인 : shape"
   ]
  },
  {
   "cell_type": "code",
   "execution_count": 14,
   "id": "5c250e89",
   "metadata": {},
   "outputs": [
    {
     "data": {
      "text/plain": [
       "(2, 3)"
      ]
     },
     "execution_count": 14,
     "metadata": {},
     "output_type": "execute_result"
    }
   ],
   "source": [
    "# 배열의 크기 확인하기 (shape)\n",
    "arr1.shape\n",
    "# 행, 열"
   ]
  },
  {
   "cell_type": "code",
   "execution_count": 17,
   "id": "c208b0a1",
   "metadata": {},
   "outputs": [
    {
     "data": {
      "text/plain": [
       "(5,)"
      ]
     },
     "execution_count": 17,
     "metadata": {},
     "output_type": "execute_result"
    }
   ],
   "source": [
    "# 1차원 배열의 경우 크기를 확인했을 때 데이터의 개수가 출력이 된다!\n",
    "arr.shape"
   ]
  },
  {
   "cell_type": "code",
   "execution_count": null,
   "id": "860af50f",
   "metadata": {},
   "outputs": [],
   "source": []
  }
 ],
 "metadata": {
  "kernelspec": {
   "display_name": "Python 3 (ipykernel)",
   "language": "python",
   "name": "python3"
  },
  "language_info": {
   "codemirror_mode": {
    "name": "ipython",
    "version": 3
   },
   "file_extension": ".py",
   "mimetype": "text/x-python",
   "name": "python",
   "nbconvert_exporter": "python",
   "pygments_lexer": "ipython3",
   "version": "3.10.9"
  }
 },
 "nbformat": 4,
 "nbformat_minor": 5
}
