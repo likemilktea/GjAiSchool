{
 "cells": [
  {
   "cell_type": "markdown",
   "id": "cb9af17a",
   "metadata": {},
   "source": [
    "### Pandas 라이브러리\n",
    "- Seiries : 1차원 배열구조 인덱스 + 값을 1:1로 가진다\n",
    "- Dataframe : 2차원 배열구조 행과 열을 가지는 표와 같은 형태"
   ]
  },
  {
   "cell_type": "code",
   "execution_count": 3,
   "id": "b687e8f3",
   "metadata": {},
   "outputs": [],
   "source": [
    "import pandas as pd"
   ]
  },
  {
   "cell_type": "code",
   "execution_count": 6,
   "id": "21537778",
   "metadata": {},
   "outputs": [
    {
     "data": {
      "text/plain": [
       "0    9668465\n",
       "1    3391946\n",
       "2    2942858\n",
       "3    1450062\n",
       "dtype: int64"
      ]
     },
     "execution_count": 6,
     "metadata": {},
     "output_type": "execute_result"
    }
   ],
   "source": [
    "# Series 생성하기\n",
    "population = pd.Series([9668465,3391946,2942858,1450062])\n",
    "population"
   ]
  },
  {
   "cell_type": "code",
   "execution_count": 7,
   "id": "5c5a0c71",
   "metadata": {},
   "outputs": [
    {
     "data": {
      "text/plain": [
       "서울    9668465\n",
       "부산    3391946\n",
       "인천    2942858\n",
       "광주    1450062\n",
       "dtype: int64"
      ]
     },
     "execution_count": 7,
     "metadata": {},
     "output_type": "execute_result"
    }
   ],
   "source": [
    "# index를 지정하면서 Series 생성해보기\n",
    "population = pd.Series([9668465,3391946,2942858,1450062],\n",
    "                      index=['서울','부산','인천','광주'])\n",
    "population"
   ]
  },
  {
   "cell_type": "markdown",
   "id": "cf206b32",
   "metadata": {},
   "source": [
    "##### Series 데이터 확인속성\n",
    "- value : 데이터의 값 확인\n",
    "- index : 인덱스 값 확인\n",
    "- dtype : 데이터의 타입 확인"
   ]
  },
  {
   "cell_type": "code",
   "execution_count": 11,
   "id": "0d4f6f25",
   "metadata": {},
   "outputs": [
    {
     "data": {
      "text/plain": [
       "array([9668465, 3391946, 2942858, 1450062], dtype=int64)"
      ]
     },
     "execution_count": 11,
     "metadata": {},
     "output_type": "execute_result"
    }
   ],
   "source": [
    "# Series 데이터 값 확인(value)\n",
    "population.values"
   ]
  },
  {
   "cell_type": "code",
   "execution_count": 12,
   "id": "0932a852",
   "metadata": {},
   "outputs": [
    {
     "data": {
      "text/plain": [
       "Index(['서울', '부산', '인천', '광주'], dtype='object')"
      ]
     },
     "execution_count": 12,
     "metadata": {},
     "output_type": "execute_result"
    }
   ],
   "source": [
    "# Series 데이터 인덱스 확인 (index)\n",
    "population.index"
   ]
  },
  {
   "cell_type": "code",
   "execution_count": 14,
   "id": "e3a98c6e",
   "metadata": {},
   "outputs": [
    {
     "data": {
      "text/plain": [
       "dtype('int64')"
      ]
     },
     "execution_count": 14,
     "metadata": {},
     "output_type": "execute_result"
    }
   ],
   "source": [
    "# Series 데이터 타입 확인(dtype)\n",
    "population.dtype\n",
    "# index값은 고정되어 있기 때문에 dtype을 출력해보면 실제 value에 대한 타입을 알려줌"
   ]
  },
  {
   "cell_type": "markdown",
   "id": "97e4904b",
   "metadata": {},
   "source": [
    "#### Series 이름 지정(데이터의 정보를 나타내주기)"
   ]
  },
  {
   "cell_type": "code",
   "execution_count": 16,
   "id": "364ae204",
   "metadata": {},
   "outputs": [
    {
     "data": {
      "text/plain": [
       "도시\n",
       "서울    9668465\n",
       "부산    3391946\n",
       "인천    2942858\n",
       "광주    1450062\n",
       "Name: 인구, dtype: int64"
      ]
     },
     "execution_count": 16,
     "metadata": {},
     "output_type": "execute_result"
    }
   ],
   "source": [
    "# Series 이름 지정하기\n",
    "population.name='인구'\n",
    "# index 이름 지정하기\n",
    "population.index.name='도시'\n",
    "population\n",
    "\n"
   ]
  },
  {
   "cell_type": "markdown",
   "id": "c95c9470",
   "metadata": {},
   "source": [
    "#### Series 연산\n",
    "- Series 데이터 value => 넘파이 배열 형태\n",
    "- 요소별 연산이 가능!!"
   ]
  },
  {
   "cell_type": "code",
   "execution_count": 17,
   "id": "554e5bdf",
   "metadata": {},
   "outputs": [
    {
     "data": {
      "text/plain": [
       "array([9668465, 3391946, 2942858, 1450062], dtype=int64)"
      ]
     },
     "execution_count": 17,
     "metadata": {},
     "output_type": "execute_result"
    }
   ],
   "source": [
    "population.values\n",
    "# 데이터가 넘파이 배열 형태인 것을 확인"
   ]
  },
  {
   "cell_type": "code",
   "execution_count": 18,
   "id": "e0428c1d",
   "metadata": {},
   "outputs": [
    {
     "data": {
      "text/plain": [
       "도시\n",
       "서울    9.668465\n",
       "부산    3.391946\n",
       "인천    2.942858\n",
       "광주    1.450062\n",
       "Name: 인구, dtype: float64"
      ]
     },
     "execution_count": 18,
     "metadata": {},
     "output_type": "execute_result"
    }
   ],
   "source": [
    "population / 1000000\n",
    "# 각각 요소별로 연산이 진행"
   ]
  },
  {
   "cell_type": "markdown",
   "id": "aae4c1d5",
   "metadata": {},
   "source": [
    "#### 인덱싱 슬라이싱"
   ]
  },
  {
   "cell_type": "code",
   "execution_count": 21,
   "id": "00f0e111",
   "metadata": {},
   "outputs": [
    {
     "data": {
      "text/plain": [
       "도시\n",
       "부산    3391946\n",
       "Name: 인구, dtype: int64"
      ]
     },
     "execution_count": 21,
     "metadata": {},
     "output_type": "execute_result"
    }
   ],
   "source": [
    "# population에서 부산의 인구수만 출력\n",
    "population.loc['부산':'부산']"
   ]
  },
  {
   "cell_type": "code",
   "execution_count": 22,
   "id": "9752b842",
   "metadata": {},
   "outputs": [
    {
     "data": {
      "text/plain": [
       "도시\n",
       "부산    3391946\n",
       "Name: 인구, dtype: int64"
      ]
     },
     "execution_count": 22,
     "metadata": {},
     "output_type": "execute_result"
    }
   ],
   "source": [
    "# 지정한 인덱스 이름으로도 인덱싱이 가능\n",
    "population.loc['부산':'부산']"
   ]
  },
  {
   "cell_type": "code",
   "execution_count": 33,
   "id": "97c34475",
   "metadata": {},
   "outputs": [
    {
     "data": {
      "text/plain": [
       "도시\n",
       "광주    1450062\n",
       "서울    9668465\n",
       "부산    3391946\n",
       "Name: 인구, dtype: int64"
      ]
     },
     "execution_count": 33,
     "metadata": {},
     "output_type": "execute_result"
    }
   ],
   "source": [
    "population.loc[['광주','서울','부산']]\n",
    "# 여러개의 값을 가져오고 싶을 때는 리스트로 묵어서 작성[]"
   ]
  },
  {
   "cell_type": "code",
   "execution_count": 34,
   "id": "98d895ce",
   "metadata": {},
   "outputs": [
    {
     "data": {
      "text/plain": [
       "도시\n",
       "서울     True\n",
       "부산     True\n",
       "인천     True\n",
       "광주    False\n",
       "Name: 인구, dtype: bool"
      ]
     },
     "execution_count": 34,
     "metadata": {},
     "output_type": "execute_result"
    }
   ],
   "source": [
    "# 논리연산 (인구가 250만 이상인)\n",
    "population >= 2500000"
   ]
  },
  {
   "cell_type": "code",
   "execution_count": 37,
   "id": "99e68b15",
   "metadata": {},
   "outputs": [
    {
     "data": {
      "text/plain": [
       "도시\n",
       "서울    9668465\n",
       "부산    3391946\n",
       "Name: 인구, dtype: int64"
      ]
     },
     "execution_count": 37,
     "metadata": {},
     "output_type": "execute_result"
    }
   ],
   "source": [
    "# 불리언 인덱싱(조건인 참인 값들만 출력)\n",
    "# 인구수가 300만 이상인 도시만 출력\n",
    "population[population >= 3000000]"
   ]
  },
  {
   "cell_type": "code",
   "execution_count": 45,
   "id": "a844f833",
   "metadata": {},
   "outputs": [
    {
     "data": {
      "text/plain": [
       "도시\n",
       "부산    3391946\n",
       "인천    2942858\n",
       "Name: 인구, dtype: int64"
      ]
     },
     "execution_count": 45,
     "metadata": {},
     "output_type": "execute_result"
    }
   ],
   "source": [
    "# 다중 조건 우선 순위 지정 -> ()\n",
    "# 인구수가 250만 이상 500만 이하의 도시 찾기!\n",
    "# 논리 연산자 사용 불가\n",
    "population[(population<=5000000) & (population>=2500000)]"
   ]
  },
  {
   "cell_type": "code",
   "execution_count": 96,
   "id": "946dd506",
   "metadata": {},
   "outputs": [
    {
     "data": {
      "text/plain": [
       "도시\n",
       "부산    3391946\n",
       "인천    2942858\n",
       "Name: 인구, dtype: int64"
      ]
     },
     "execution_count": 96,
     "metadata": {},
     "output_type": "execute_result"
    }
   ],
   "source": [
    "population[population<=5000000][population[population<=5000000]>= 2500000]"
   ]
  },
  {
   "cell_type": "code",
   "execution_count": null,
   "id": "0cb30ace",
   "metadata": {},
   "outputs": [],
   "source": []
  },
  {
   "cell_type": "code",
   "execution_count": 55,
   "id": "ef69754a",
   "metadata": {},
   "outputs": [
    {
     "data": {
      "text/plain": [
       "도시\n",
       "부산    3391946\n",
       "인천    2942858\n",
       "Name: 인구, dtype: int64"
      ]
     },
     "execution_count": 55,
     "metadata": {},
     "output_type": "execute_result"
    }
   ],
   "source": [
    "population['부산':'인천']\n",
    "# 인덱스 이름으로 슬라이싱 할 때에는 가져오고 싶은 가져오고 싶은 인덱스명 작성"
   ]
  },
  {
   "cell_type": "markdown",
   "id": "1de1f1d8",
   "metadata": {},
   "source": [
    "### dictionary 자료구조를 활용하여 Series 생성하기\n",
    "- key 값은 index\n",
    "- value 값은 value"
   ]
  },
  {
   "cell_type": "code",
   "execution_count": 67,
   "id": "2e9bb3b9",
   "metadata": {},
   "outputs": [
    {
     "data": {
      "text/plain": [
       "피카츄     9536\n",
       "치코리타    5201\n",
       "마자용     1021\n",
       "리자몽     9599\n",
       "dtype: int64"
      ]
     },
     "execution_count": 67,
     "metadata": {},
     "output_type": "execute_result"
    }
   ],
   "source": [
    "# dictionary 생성\n",
    "# 포켓몬 이름 : 능력치\n",
    "data = {'피카츄':9536,'치코리타':5201,'마자용':1021,'리자몽':9599}\n",
    "pokemon = pd.Series(data)\n",
    "pokemon"
   ]
  },
  {
   "cell_type": "code",
   "execution_count": 68,
   "id": "4fd1b44f",
   "metadata": {},
   "outputs": [
    {
     "data": {
      "text/plain": [
       "치코리타    6000\n",
       "마자용     1500\n",
       "잉어킹     2035\n",
       "뮤       8452\n",
       "dtype: int64"
      ]
     },
     "execution_count": 68,
     "metadata": {},
     "output_type": "execute_result"
    }
   ],
   "source": [
    "# 레벨업한 포케못의 능력치\n",
    "data2 = {'치코리타':6000,'마자용':1500,'잉어킹':2035,'뮤':8452}\n",
    "pokemon_up = pd.Series(data2)\n",
    "pokemon_up"
   ]
  },
  {
   "cell_type": "code",
   "execution_count": 71,
   "id": "6bffcb44",
   "metadata": {},
   "outputs": [],
   "source": [
    "# 올라간 능력치 확인 (레벨업 능력치 - 원래 능력치)\n",
    "stat = pokemon_up - pokemon\n",
    "# 인덱스 번호가 아닌 인덱스 이름이 동일한 데이터끼리 연산\n",
    "# 둘 중에 하나만 있던 데이터는 NaN 출력 -> 비어있는 값(결측치)\n",
    "# 결측치와의 연산은 결측치"
   ]
  },
  {
   "cell_type": "code",
   "execution_count": 73,
   "id": "ef3a73f4",
   "metadata": {},
   "outputs": [
    {
     "data": {
      "text/plain": [
       "리자몽      True\n",
       "마자용     False\n",
       "뮤        True\n",
       "잉어킹      True\n",
       "치코리타    False\n",
       "피카츄      True\n",
       "dtype: bool"
      ]
     },
     "execution_count": 73,
     "metadata": {},
     "output_type": "execute_result"
    }
   ],
   "source": [
    "# 비어있는 데이터만 출력 -> isnull()\n",
    "stat.isnull()"
   ]
  },
  {
   "cell_type": "code",
   "execution_count": 74,
   "id": "83a8ce0c",
   "metadata": {},
   "outputs": [
    {
     "data": {
      "text/plain": [
       "리자몽   NaN\n",
       "뮤     NaN\n",
       "잉어킹   NaN\n",
       "피카츄   NaN\n",
       "dtype: float64"
      ]
     },
     "execution_count": 74,
     "metadata": {},
     "output_type": "execute_result"
    }
   ],
   "source": [
    "# 비어있는 값만 출력\n",
    "stat[stat.isnull()]"
   ]
  },
  {
   "cell_type": "code",
   "execution_count": 78,
   "id": "7fbe2cfc",
   "metadata": {},
   "outputs": [
    {
     "data": {
      "text/plain": [
       "마자용     479.0\n",
       "치코리타    799.0\n",
       "dtype: float64"
      ]
     },
     "execution_count": 78,
     "metadata": {},
     "output_type": "execute_result"
    }
   ],
   "source": [
    "# 비어있지 않은 값만 출력\n",
    "stat[stat.notnull()]"
   ]
  },
  {
   "cell_type": "code",
   "execution_count": 84,
   "id": "593e1ac6",
   "metadata": {},
   "outputs": [
    {
     "data": {
      "text/plain": [
       "마자용     46.914789\n",
       "치코리타    15.362430\n",
       "dtype: float64"
      ]
     },
     "execution_count": 84,
     "metadata": {},
     "output_type": "execute_result"
    }
   ],
   "source": [
    "# 레벨업해서 올라간 공격력의 증가율(%)\n",
    "# (레벨업한 데이터 - 원래 데이터) / 원래데이터 *100\n",
    "stat2\n",
    "((pokemon_up-pokemon)/pokemon*100)[((pokemon_up-pokemon)/pokemon*100).notnull()]"
   ]
  },
  {
   "cell_type": "code",
   "execution_count": null,
   "id": "37b83b42",
   "metadata": {},
   "outputs": [],
   "source": []
  }
 ],
 "metadata": {
  "kernelspec": {
   "display_name": "Python 3 (ipykernel)",
   "language": "python",
   "name": "python3"
  },
  "language_info": {
   "codemirror_mode": {
    "name": "ipython",
    "version": 3
   },
   "file_extension": ".py",
   "mimetype": "text/x-python",
   "name": "python",
   "nbconvert_exporter": "python",
   "pygments_lexer": "ipython3",
   "version": "3.10.9"
  }
 },
 "nbformat": 4,
 "nbformat_minor": 5
}
