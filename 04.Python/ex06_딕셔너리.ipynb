{
 "cells": [
  {
   "cell_type": "markdown",
   "id": "e8d68d3f",
   "metadata": {},
   "source": [
    "# 딕셔너리"
   ]
  },
  {
   "cell_type": "code",
   "execution_count": 2,
   "id": "05f2b000",
   "metadata": {},
   "outputs": [
    {
     "data": {
      "text/plain": [
       "{'이름': '송솔', '나이': 37}"
      ]
     },
     "execution_count": 2,
     "metadata": {},
     "output_type": "execute_result"
    }
   ],
   "source": [
    "# 딕셔너리 만들기\n",
    "dic1 = {'이름' : '송솔', '나이':37, 'MBTI':'INFP'}\n",
    "dic1"
   ]
  },
  {
   "cell_type": "code",
   "execution_count": 3,
   "id": "ecb23077",
   "metadata": {},
   "outputs": [
    {
     "data": {
      "text/plain": [
       "37"
      ]
     },
     "execution_count": 3,
     "metadata": {},
     "output_type": "execute_result"
    }
   ],
   "source": [
    "# 딕셔너리 키를 통한 값 불러오기\n",
    "dic1['나이']"
   ]
  },
  {
   "cell_type": "code",
   "execution_count": 5,
   "id": "115ee80a",
   "metadata": {},
   "outputs": [
    {
     "data": {
      "text/plain": [
       "{'이름': '송솔', '나이': 37, '전화번호': '010-1111-1111'}"
      ]
     },
     "execution_count": 5,
     "metadata": {},
     "output_type": "execute_result"
    }
   ],
   "source": [
    "# 딕셔너리 값 추가하기\n",
    "dic1['전화번호'] = '010-1111-1111'\n",
    "dic1"
   ]
  },
  {
   "cell_type": "code",
   "execution_count": 6,
   "id": "3bc15b0a",
   "metadata": {},
   "outputs": [
    {
     "data": {
      "text/plain": [
       "{'이름': '송솔', '나이': 38, '전화번호': '010-1111-1111'}"
      ]
     },
     "execution_count": 6,
     "metadata": {},
     "output_type": "execute_result"
    }
   ],
   "source": [
    "# 딕셔너리 값 수정하기\n",
    "dic1['나이'] = 38\n",
    "dic1"
   ]
  },
  {
   "cell_type": "code",
   "execution_count": 10,
   "id": "0b1d4ccd",
   "metadata": {},
   "outputs": [
    {
     "data": {
      "text/plain": [
       "'BTS'"
      ]
     },
     "execution_count": 10,
     "metadata": {},
     "output_type": "execute_result"
    }
   ],
   "source": [
    "# 딕셔너리를 활용해 \n",
    "dic_music = {'노래제목':'다이너마이트','가수':'BTS'}\n",
    "# 노래 제목 : 좋아하는 노래제목\n",
    "# 가수 : 좋아하는 가수\n",
    "\n",
    "dic_music['노래제목'] # 없으면 Error\n",
    "dic_music.get('가수') # 없으면 None 반환"
   ]
  },
  {
   "cell_type": "code",
   "execution_count": 12,
   "id": "c3d6a0e6",
   "metadata": {},
   "outputs": [
    {
     "data": {
      "text/plain": [
       "dict_keys(['이름', '나이', '전화번호'])"
      ]
     },
     "execution_count": 12,
     "metadata": {},
     "output_type": "execute_result"
    }
   ],
   "source": [
    "dic1.keys() # 딕셔너리의 key만 가져오기"
   ]
  },
  {
   "cell_type": "code",
   "execution_count": 13,
   "id": "85866da4",
   "metadata": {},
   "outputs": [
    {
     "data": {
      "text/plain": [
       "dict_values(['송솔', 38, '010-1111-1111'])"
      ]
     },
     "execution_count": 13,
     "metadata": {},
     "output_type": "execute_result"
    }
   ],
   "source": [
    "dic1.values() # 딕셔너리의 value만 가져오기"
   ]
  },
  {
   "cell_type": "code",
   "execution_count": 14,
   "id": "b6ede686",
   "metadata": {},
   "outputs": [
    {
     "data": {
      "text/plain": [
       "dict_items([('이름', '송솔'), ('나이', 38), ('전화번호', '010-1111-1111')])"
      ]
     },
     "execution_count": 14,
     "metadata": {},
     "output_type": "execute_result"
    }
   ],
   "source": [
    "dic1.items() # 딕셔너리의 key와 value 튜플형태로 가져오기"
   ]
  },
  {
   "cell_type": "code",
   "execution_count": 15,
   "id": "6a2ec806",
   "metadata": {},
   "outputs": [
    {
     "data": {
      "text/plain": [
       "{'이름': '송솔', '나이': 38, '전화번호': '010-1111-1111'}"
      ]
     },
     "execution_count": 15,
     "metadata": {},
     "output_type": "execute_result"
    }
   ],
   "source": [
    "dic1.clear # 딕셔너리 모든 값 삭제\n",
    "dic1"
   ]
  },
  {
   "cell_type": "code",
   "execution_count": 28,
   "id": "1ed01463",
   "metadata": {},
   "outputs": [],
   "source": [
    "dic_team = {}\n",
    "\n",
    "dic_sol = {'이름':'송솔','나이':37}\n",
    "dic_ma = {'이름':'송민아','나이':25}\n",
    "dic_du = {'이름':'김도운','나이':25}\n",
    "dic_bm = {'이름':'최병민','나이':30}\n",
    "dic_yb = {'이름':'김유빈','나이':30}\n",
    "\n",
    "dic_team['팀원1'] = dic_sol\n",
    "dic_team['팀원2'] = dic_ma\n",
    "dic_team['팀원3'] = dic_du\n",
    "dic_team['팀원4'] = dic_bm\n",
    "dic_team['팀원5'] = dic_yb\n",
    "sum1=0\n",
    "# for team in dic_team:\n",
    "#     sum1+=dic_team[team]['나이']\n",
    "\n",
    "list_team = list(dic_team.values())\n",
    "for i in range(len(list_team)):\n",
    "    sum1 += list_team[i]['나이']\n",
    "\n",
    "avg1 = sum1/len(list_team)"
   ]
  },
  {
   "cell_type": "code",
   "execution_count": 34,
   "id": "0c956616",
   "metadata": {},
   "outputs": [
    {
     "name": "stdout",
     "output_type": "stream",
     "text": [
      "수학 평균 : 67.5\n",
      "국어 평균 : 70.0\n",
      "영어 평균 : 58.75\n"
     ]
    }
   ],
   "source": [
    "# 평균 점수 구하기\n",
    "dic_members = {'홍길동':{'수학':50, '국어':70, '영어':80},\n",
    "               '김인공':{'국어':70, '영어':60, '수학':90},\n",
    "              '박사관':{'영어':65, '수학':50, '국어':100},\n",
    "              '조학교':{'수학':80, '국어':40, '영어':30}}\n",
    "dic_members\n",
    "\n",
    "total = 0\n",
    "avg = 0\n",
    "for member in dic_members.keys():\n",
    "    total+=dic_members[member]['수학']\n",
    "avg = total/len(dic_members)\n",
    "print(f'수학 평균 : {avg}')\n",
    "total = 0\n",
    "avg = 0\n",
    "for member in dic_members:\n",
    "    total+=dic_members[member]['국어']\n",
    "avg = total/len(dic_members)\n",
    "print(f'국어 평균 : {avg}')\n",
    "total = 0\n",
    "avg = 0\n",
    "for member in dic_members:\n",
    "    total+=dic_members[member]['영어']\n",
    "avg = total/len(dic_members)\n",
    "print(f'영어 평균 : {avg}')"
   ]
  },
  {
   "cell_type": "markdown",
   "id": "36dde37a",
   "metadata": {},
   "source": [
    "CSV(Comma Seperated Value)\n",
    ": 나예호,21,ENFJ\n",
    "\n",
    "장점 : 비용이 저렴하다\n",
    "단점 : 의미가 불분명할 수 있다\n",
    "\n",
    "XML(Extensible Markup Language)\n",
    "<name>나예호</name>\n",
    "<age>21</age>\n",
    "<mbti>ENFJ</mbti>\n",
    "\n",
    "장점 : 의미가 분명하다\n",
    "단점 : 비용이 비싸다\n",
    "\n",
    "Json(JavaScript Object Notation)\n",
    "{\"name\":\"나예호\", \"age\":21, \"mbti\":\"ENFJ\"}"
   ]
  },
  {
   "cell_type": "code",
   "execution_count": null,
   "id": "66613f47",
   "metadata": {},
   "outputs": [],
   "source": []
  }
 ],
 "metadata": {
  "kernelspec": {
   "display_name": "Python 3 (ipykernel)",
   "language": "python",
   "name": "python3"
  },
  "language_info": {
   "codemirror_mode": {
    "name": "ipython",
    "version": 3
   },
   "file_extension": ".py",
   "mimetype": "text/x-python",
   "name": "python",
   "nbconvert_exporter": "python",
   "pygments_lexer": "ipython3",
   "version": "3.10.9"
  }
 },
 "nbformat": 4,
 "nbformat_minor": 5
}
