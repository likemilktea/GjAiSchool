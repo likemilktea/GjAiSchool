{
 "cells": [
  {
   "cell_type": "markdown",
   "id": "4dae5f2f",
   "metadata": {},
   "source": [
    "### 연산자"
   ]
  },
  {
   "cell_type": "markdown",
   "id": "2a266bb3",
   "metadata": {},
   "source": [
    "#### 1) 산술연산자\n",
    "- 주의사항\n",
    "    - / : 나누기 (소수점 끝까지 쭉 표시)\n",
    "    - // : 나누기 (몫) -> 소수점 한 번 더 잘라낸다고 생각하기\n",
    "    - % : 나머지"
   ]
  },
  {
   "cell_type": "code",
   "execution_count": 1,
   "id": "3964634a",
   "metadata": {},
   "outputs": [
    {
     "name": "stdout",
     "output_type": "stream",
     "text": [
      "1.4285714285714286\n",
      "1\n",
      "3\n"
     ]
    }
   ],
   "source": [
    "num1=10\n",
    "num2=7\n",
    "print(num1/num2)\n",
    "print(num1//num2)\n",
    "print(num1%num2)"
   ]
  },
  {
   "cell_type": "code",
   "execution_count": 2,
   "id": "980f6e58",
   "metadata": {},
   "outputs": [
    {
     "name": "stdout",
     "output_type": "stream",
     "text": [
      "안녕하세요\n"
     ]
    }
   ],
   "source": [
    "# 문자열 더하기 -> 가능하다\n",
    "s1 = \"안녕\"\n",
    "s2 = \"하세요\"\n",
    "print(s1+s2)"
   ]
  },
  {
   "cell_type": "code",
   "execution_count": 3,
   "id": "1e63c268",
   "metadata": {},
   "outputs": [
    {
     "name": "stdout",
     "output_type": "stream",
     "text": [
      "안녕안녕안녕안녕안녕안녕안녕안녕안녕안녕\n"
     ]
    }
   ],
   "source": [
    "print(s1*10)\n",
    "\n",
    "# 문자열은 더하기와 곱하기만 가능!"
   ]
  },
  {
   "cell_type": "code",
   "execution_count": 4,
   "id": "baca81f6",
   "metadata": {},
   "outputs": [
    {
     "name": "stdout",
     "output_type": "stream",
     "text": [
      "더하기 결과 : 26\n",
      "빼기 결과 : 20\n",
      "곱하기 결과 : 69\n",
      "나누기 결과 : 7.666666666666667\n"
     ]
    }
   ],
   "source": [
    "num1=23\n",
    "num2=3\n",
    "print(\"더하기 결과 :\",num1+num2)\n",
    "print(\"빼기 결과 :\",num1-num2)\n",
    "print(\"곱하기 결과 :\",num1*num2)\n",
    "print(\"나누기 결과 :\",num1/num2)"
   ]
  },
  {
   "cell_type": "code",
   "execution_count": 5,
   "id": "776283bf",
   "metadata": {},
   "outputs": [],
   "source": [
    "# 파이썬에서는 문자열과 숫자의 연산이 불가능하다!\n",
    "# 연산을 위해서는 자료형을 통일해주어야 한다~"
   ]
  },
  {
   "cell_type": "markdown",
   "id": "9160dd71",
   "metadata": {},
   "source": [
    "#### 형변환\n",
    "\n",
    "- 형변환 -> 자료형을 변환\n",
    "- 문자 - > 숫자, 숫자 -> 문자\n",
    "- 문자열을 정수로 변환하는 방법 : int(문자열)\n",
    "- 정수 데이터를 문자열로 변환하는 방법 : str(정수)"
   ]
  },
  {
   "cell_type": "code",
   "execution_count": 6,
   "id": "801a3bfb",
   "metadata": {},
   "outputs": [
    {
     "data": {
      "text/plain": [
       "17"
      ]
     },
     "execution_count": 6,
     "metadata": {},
     "output_type": "execute_result"
    }
   ],
   "source": [
    "# 문자 -> 숫자 형변환\n",
    "num1,num2 = \"10\",7\n",
    "int(num1)+num2\n"
   ]
  },
  {
   "cell_type": "code",
   "execution_count": 7,
   "id": "00bf2904",
   "metadata": {},
   "outputs": [
    {
     "data": {
      "text/plain": [
       "'107'"
      ]
     },
     "execution_count": 7,
     "metadata": {},
     "output_type": "execute_result"
    }
   ],
   "source": [
    "# 숫자 -> 문자 형변환\n",
    "num1+str(num2)"
   ]
  },
  {
   "cell_type": "code",
   "execution_count": 9,
   "id": "b8162da4",
   "metadata": {},
   "outputs": [
    {
     "name": "stdout",
     "output_type": "stream",
     "text": [
      "10\n",
      "7\n",
      "더하기 결과 : 17\n",
      "빼기 결과 : 3\n",
      "곱하기 결과 : 70\n",
      "나누기 결과 : 1.4285714285714286\n"
     ]
    }
   ],
   "source": [
    "# 파이썬에서 입력을 받는 기능 : input()\n",
    "# 결과값은 문자열 형태!!\n",
    "\n",
    "num1 = int(input(\"정수를 입력하시오>>\"))\n",
    "num2 = int(input(\"정수를 입력하시오>>\"))\n",
    "print(f\"더하기 결과 : {num1+num2}\")\n",
    "print(f\"빼기 결과 : {num1-num2}\")\n",
    "print(f\"곱하기 결과 : {num1*num2}\")\n",
    "print(f\"나누기 결과 : {num1/num2}\")"
   ]
  },
  {
   "cell_type": "code",
   "execution_count": 13,
   "id": "31fc3148",
   "metadata": {},
   "outputs": [
    {
     "name": "stdout",
     "output_type": "stream",
     "text": [
      "python 점수 입력 >>100\n",
      "머신러닝 점수 입력 >>90\n",
      "딥러닝 점수 입력 >>80\n",
      "합계 : 270\n",
      "평균 : 90.0\n"
     ]
    }
   ],
   "source": [
    "pytonScore=int(input(\"python 점수 입력 >>\"))\n",
    "machineScore=int(input(\"머신러닝 점수 입력 >>\"))\n",
    "deepScore=int(input(\"딥러닝 점수 입력 >>\"))\n",
    "sumScore=sum((pytonScore,machineScore,deepScore))\n",
    "avgScore=sumScore/3\n",
    "\n",
    "print(f\"합계 : {sumScore}\")\n",
    "print(f\"평균 : {avgScore}\")"
   ]
  },
  {
   "cell_type": "code",
   "execution_count": null,
   "id": "d2127e25",
   "metadata": {},
   "outputs": [],
   "source": []
  }
 ],
 "metadata": {
  "kernelspec": {
   "display_name": "Python 3 (ipykernel)",
   "language": "python",
   "name": "python3"
  },
  "language_info": {
   "codemirror_mode": {
    "name": "ipython",
    "version": 3
   },
   "file_extension": ".py",
   "mimetype": "text/x-python",
   "name": "python",
   "nbconvert_exporter": "python",
   "pygments_lexer": "ipython3",
   "version": "3.10.9"
  }
 },
 "nbformat": 4,
 "nbformat_minor": 5
}
