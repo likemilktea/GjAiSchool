{
 "cells": [
  {
   "cell_type": "code",
   "execution_count": 1,
   "id": "a95afb55",
   "metadata": {
    "collapsed": true
   },
   "outputs": [
    {
     "name": "stdout",
     "output_type": "stream",
     "text": [
      "Requirement already satisfied: mediapipe in c:\\users\\gjaischool1\\appdata\\roaming\\python\\python38\\site-packages (0.10.2)\n",
      "Requirement already satisfied: absl-py in c:\\users\\gjaischool1\\appdata\\roaming\\python\\python38\\site-packages (from mediapipe) (1.4.0)\n",
      "Requirement already satisfied: attrs>=19.1.0 in c:\\users\\gjaischool1\\anaconda3\\envs\\machine\\lib\\site-packages (from mediapipe) (22.1.0)\n",
      "Requirement already satisfied: flatbuffers>=2.0 in c:\\users\\gjaischool1\\anaconda3\\envs\\machine\\lib\\site-packages (from mediapipe) (23.5.26)\n",
      "Requirement already satisfied: matplotlib in c:\\users\\gjaischool1\\anaconda3\\envs\\machine\\lib\\site-packages (from mediapipe) (3.7.2)\n",
      "Requirement already satisfied: numpy in c:\\users\\gjaischool1\\anaconda3\\envs\\machine\\lib\\site-packages (from mediapipe) (1.24.4)\n",
      "Requirement already satisfied: opencv-contrib-python in c:\\users\\gjaischool1\\appdata\\roaming\\python\\python38\\site-packages (from mediapipe) (4.8.0.74)\n",
      "Requirement already satisfied: protobuf<4,>=3.11 in c:\\users\\gjaischool1\\anaconda3\\envs\\machine\\lib\\site-packages (from mediapipe) (3.20.3)\n",
      "Requirement already satisfied: sounddevice>=0.4.4 in c:\\users\\gjaischool1\\appdata\\roaming\\python\\python38\\site-packages (from mediapipe) (0.4.6)\n",
      "Requirement already satisfied: CFFI>=1.0 in c:\\users\\gjaischool1\\anaconda3\\envs\\machine\\lib\\site-packages (from sounddevice>=0.4.4->mediapipe) (1.15.1)\n",
      "Requirement already satisfied: contourpy>=1.0.1 in c:\\users\\gjaischool1\\anaconda3\\envs\\machine\\lib\\site-packages (from matplotlib->mediapipe) (1.1.0)\n",
      "Requirement already satisfied: cycler>=0.10 in c:\\users\\gjaischool1\\anaconda3\\envs\\machine\\lib\\site-packages (from matplotlib->mediapipe) (0.11.0)\n",
      "Requirement already satisfied: fonttools>=4.22.0 in c:\\users\\gjaischool1\\anaconda3\\envs\\machine\\lib\\site-packages (from matplotlib->mediapipe) (4.40.0)\n",
      "Requirement already satisfied: kiwisolver>=1.0.1 in c:\\users\\gjaischool1\\anaconda3\\envs\\machine\\lib\\site-packages (from matplotlib->mediapipe) (1.4.4)\n",
      "Requirement already satisfied: packaging>=20.0 in c:\\users\\gjaischool1\\anaconda3\\envs\\machine\\lib\\site-packages (from matplotlib->mediapipe) (23.0)\n",
      "Requirement already satisfied: pillow>=6.2.0 in c:\\users\\gjaischool1\\anaconda3\\envs\\machine\\lib\\site-packages (from matplotlib->mediapipe) (10.0.0)\n",
      "Requirement already satisfied: pyparsing<3.1,>=2.3.1 in c:\\users\\gjaischool1\\anaconda3\\envs\\machine\\lib\\site-packages (from matplotlib->mediapipe) (3.0.9)\n",
      "Requirement already satisfied: python-dateutil>=2.7 in c:\\users\\gjaischool1\\anaconda3\\envs\\machine\\lib\\site-packages (from matplotlib->mediapipe) (2.8.2)\n",
      "Requirement already satisfied: importlib-resources>=3.2.0 in c:\\users\\gjaischool1\\anaconda3\\envs\\machine\\lib\\site-packages (from matplotlib->mediapipe) (5.2.0)\n",
      "Requirement already satisfied: pycparser in c:\\users\\gjaischool1\\anaconda3\\envs\\machine\\lib\\site-packages (from CFFI>=1.0->sounddevice>=0.4.4->mediapipe) (2.21)\n",
      "Requirement already satisfied: zipp>=3.1.0 in c:\\users\\gjaischool1\\anaconda3\\envs\\machine\\lib\\site-packages (from importlib-resources>=3.2.0->matplotlib->mediapipe) (3.11.0)\n",
      "Requirement already satisfied: six>=1.5 in c:\\users\\gjaischool1\\anaconda3\\envs\\machine\\lib\\site-packages (from python-dateutil>=2.7->matplotlib->mediapipe) (1.16.0)\n"
     ]
    }
   ],
   "source": [
    "! pip install mediapipe"
   ]
  },
  {
   "cell_type": "code",
   "execution_count": 7,
   "id": "5272d7a6",
   "metadata": {},
   "outputs": [],
   "source": [
    "import cv2\n",
    "import mediapipe as mp"
   ]
  },
  {
   "cell_type": "code",
   "execution_count": 10,
   "id": "1e50ebcb",
   "metadata": {},
   "outputs": [
    {
     "name": "stdout",
     "output_type": "stream",
     "text": [
      "동영상을 종료합니다\n"
     ]
    }
   ],
   "source": [
    "# 얼굴 메시, 그리기 라이브러리 가져오기\n",
    "mp_drawing = mp.solutions.drawing_utils\n",
    "mp_face_mesh = mp.solutions.face_mesh\n",
    "\n",
    "# 그리기 설정 ( 선 두깨, 원의 반지름)\n",
    "drawing_spec = mp_drawing.DrawingSpec(thickness=1,circle_radius=1)\n",
    "\n",
    "\n",
    "\n",
    "\n",
    "# 영상 재생\n",
    "cap = cv2.VideoCapture(0)\n",
    "\n",
    "# 최소 검출 신뢰도, 최소 추적 신뢰도\n",
    "with mp_face_mesh.FaceMesh(min_detection_confidence=0.5,\n",
    "                          min_tracking_confidence=0.5) as face_mesh:\n",
    "    while True: \n",
    "\n",
    "        ret, frame = cap.read()\n",
    "\n",
    "        if not ret:\n",
    "            print(\"비디오 읽기 실패 또는 비디오 모두 읽음\")\n",
    "            cap.release() # 연결해놓은 카메라 or 동영상 닫기\n",
    "            cv2.destroyAllWindows() # 윈도우에 열어놓은 창 닫기\n",
    "            break # 더이상 사진을 불러오지 않아도 되므로 while문 종료\n",
    "\n",
    "        \n",
    "        image = cv2.cvtColor(frame,cv2.COLOR_BGR2RGB)\n",
    "        # 성능 향상을 위해 이미지 읽기 불가처리\n",
    "        image.flags.writeable = False\n",
    "        \n",
    "        \n",
    "        # 얼굴 메시 검출\n",
    "        results = face_mesh.process(frame)\n",
    "        \n",
    "        image.flags.writeable = True\n",
    "        image = cv2.cvtColor(frame,cv2.COLOR_RGB2BGR)\n",
    "        \n",
    "        # 검출된 랜드마크와 랜드마크를 연결하는 선 그리기\n",
    "        if results.multi_face_landmarks:\n",
    "            for face_landmarks in results.multi_face_landmarks:\n",
    "                \n",
    "                mp_drawing.draw_landmarks(\n",
    "                image = frame,\n",
    "                landmark_list=face_landmarks,\n",
    "                connections=mp_face_mesh.FACEMESH_CONTOURS,\n",
    "                landmark_drawing_spec=drawing_spec,\n",
    "                connection_drawing_spec=drawing_spec)\n",
    "        \n",
    "        \n",
    "        # 이미지를 불러왔을 때\n",
    "        cv2.imshow('video', frame)\n",
    "        k = cv2.waitKey(33) # 33ms마다 사진 넘긱기 = 1초에 약 30장의 사진을 보내주고 있다.\n",
    "\n",
    "        # 종료 버튼 만들기\n",
    "        # 1(!) 누르면 종료하기\n",
    "        if k == 49: # 1은 아스키코드로 49를 가지고 있음\n",
    "            print('동영상을 종료합니다')\n",
    "            cap.release() # 카메라 닫기\n",
    "            cv2.destroyAllWindows() # 윈도우 창 닫기\n",
    "            break # while문 종료"
   ]
  },
  {
   "cell_type": "code",
   "execution_count": null,
   "id": "6fdad549",
   "metadata": {},
   "outputs": [],
   "source": []
  }
 ],
 "metadata": {
  "kernelspec": {
   "display_name": "Python 3 (ipykernel)",
   "language": "python",
   "name": "python3"
  },
  "language_info": {
   "codemirror_mode": {
    "name": "ipython",
    "version": 3
   },
   "file_extension": ".py",
   "mimetype": "text/x-python",
   "name": "python",
   "nbconvert_exporter": "python",
   "pygments_lexer": "ipython3",
   "version": "3.8.0"
  }
 },
 "nbformat": 4,
 "nbformat_minor": 5
}
