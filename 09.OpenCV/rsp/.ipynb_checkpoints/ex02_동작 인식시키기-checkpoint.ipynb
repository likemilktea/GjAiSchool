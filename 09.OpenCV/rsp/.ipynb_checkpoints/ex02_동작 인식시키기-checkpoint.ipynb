{
 "cells": [
  {
   "cell_type": "code",
   "execution_count": 1,
   "id": "9576ed55",
   "metadata": {},
   "outputs": [],
   "source": [
    "import pandas as pd"
   ]
  },
  {
   "cell_type": "code",
   "execution_count": null,
   "id": "dcc5c3c9",
   "metadata": {},
   "outputs": [],
   "source": [
    "import cv2\n",
    "import mediapipe as mp\n",
    "\n",
    "# 동영상과 mediapipe 연결하기\n",
    "\n",
    "# mediapipe 불러오기\n",
    "\n",
    "# 이미지에서 손과 손의 관절 출력(찾는다)하기 위한 함수\n",
    "mp_hands = mp.solutions.hands\n",
    "# 찾은 손의 관절을 그리는 함수\n",
    "mp_drawing = mp.solutions.drawing_utils\n",
    "# 손을 찾는다\n",
    "hands = mp_hands.Hands(\n",
    "    max_num_hands=2, # 최대로 찾을 손의 수\n",
    "    # 손 분류하기\n",
    "    min_detection_confidence=0.5, # 50% 이상 손이라고 판별된 것만 출력\n",
    "    # 손의 위치 찾기\n",
    "    min_tracking_confidence=0.5) # 50% 이상 손이라고 판별된 것만 출력\n",
    "\n",
    "cap = cv2.VideoCapture(0)\n",
    "\n",
    "while True:\n",
    "    ret, img = cap.read()\n",
    "    img = cv2.flip(img,1) # 좌우 반전\n",
    "    \n",
    "    if not ret:\n",
    "        print('비디오 읽기 실패 또는 모두 읽음')\n",
    "        cap.release()\n",
    "        cv2.destroyAllWindows()\n",
    "        break\n",
    "    \n",
    "    # 사진에서 손 찾고 값 저장하기\n",
    "    result = hands.process(img)\n",
    "    if result.multi_hand_landmarks is not None:\n",
    "        # 21개의 관절을 찾는다\n",
    "        # print(result.multi_hand_landmarks)\n",
    "        for res in result.multi_hand_landmarks:\n",
    "            mp_drawing.draw_landmarks(img,res,mp_hands.HAND_CONNECTIONS)\n",
    "    \n",
    "    cv2.imshow('Game',img)\n",
    "    k = cv2.waitKey(33)\n",
    "    \n",
    "    if k==49:\n",
    "        cap.release()\n",
    "        cv2.destroyAllWindows()\n",
    "        break"
   ]
  }
 ],
 "metadata": {
  "kernelspec": {
   "display_name": "Python 3 (ipykernel)",
   "language": "python",
   "name": "python3"
  },
  "language_info": {
   "codemirror_mode": {
    "name": "ipython",
    "version": 3
   },
   "file_extension": ".py",
   "mimetype": "text/x-python",
   "name": "python",
   "nbconvert_exporter": "python",
   "pygments_lexer": "ipython3",
   "version": "3.8.0"
  }
 },
 "nbformat": 4,
 "nbformat_minor": 5
}
