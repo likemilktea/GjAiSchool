{
 "cells": [
  {
   "cell_type": "code",
   "execution_count": 1,
   "id": "9901a440",
   "metadata": {},
   "outputs": [],
   "source": [
    "import cv2\n",
    "import numpy as np\n",
    "\n",
    "# 배경 이미지와 삽입할 이미지 파일 경로\n",
    "background_path = \"background.png\"\n",
    "insert_path = \"funny.jpeg\"\n",
    "\n",
    "# 이미지 파일 읽기\n",
    "background = cv2.imread(background_path)\n",
    "insert = cv2.imread(insert_path)\n",
    "\n",
    "# 삽입할 이미지 크기 설정 (임의로 설정)\n",
    "insert_height, insert_width = 100, 100\n",
    "\n",
    "# 삽입할 이미지를 배경 이미지의 (x, y) 위치에 덮어씌우기\n",
    "x, y = 50, 50\n",
    "roi = background[y:y+insert_height, x:x+insert_width]\n",
    "\n",
    "# 삽입할 이미지 크기 변경 (위에서 설정한 크기로 리사이즈)\n",
    "insert_resized = cv2.resize(insert, (insert_width, insert_height))\n",
    "\n",
    "# 이미지 합성\n",
    "cv2.addWeighted(roi, 1, insert_resized, 0.7, 0, roi)\n",
    "\n",
    "# 합성된 이미지 보여주기\n",
    "cv2.imshow(\"Composite Image\", background)\n",
    "cv2.waitKey(0)\n",
    "cv2.destroyAllWindows()"
   ]
  },
  {
   "cell_type": "code",
   "execution_count": null,
   "id": "4125dd89",
   "metadata": {},
   "outputs": [],
   "source": []
  }
 ],
 "metadata": {
  "kernelspec": {
   "display_name": "Python 3 (ipykernel)",
   "language": "python",
   "name": "python3"
  },
  "language_info": {
   "codemirror_mode": {
    "name": "ipython",
    "version": 3
   },
   "file_extension": ".py",
   "mimetype": "text/x-python",
   "name": "python",
   "nbconvert_exporter": "python",
   "pygments_lexer": "ipython3",
   "version": "3.8.0"
  }
 },
 "nbformat": 4,
 "nbformat_minor": 5
}
