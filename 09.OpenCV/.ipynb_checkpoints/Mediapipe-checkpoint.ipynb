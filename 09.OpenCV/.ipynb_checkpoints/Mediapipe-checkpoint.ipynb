{
 "cells": [
  {
   "cell_type": "code",
   "execution_count": 1,
   "id": "7f33699d",
   "metadata": {},
   "outputs": [
    {
     "name": "stdout",
     "output_type": "stream",
     "text": [
      "Requirement already satisfied: mediapipe in c:\\users\\gjaischool1\\appdata\\roaming\\python\\python38\\site-packages (0.10.2)\n",
      "Requirement already satisfied: absl-py in c:\\users\\gjaischool1\\appdata\\roaming\\python\\python38\\site-packages (from mediapipe) (1.4.0)\n",
      "Requirement already satisfied: attrs>=19.1.0 in c:\\users\\gjaischool1\\anaconda3\\envs\\machine\\lib\\site-packages (from mediapipe) (22.1.0)\n",
      "Requirement already satisfied: flatbuffers>=2.0 in c:\\users\\gjaischool1\\anaconda3\\envs\\machine\\lib\\site-packages (from mediapipe) (23.5.26)\n",
      "Requirement already satisfied: matplotlib in c:\\users\\gjaischool1\\anaconda3\\envs\\machine\\lib\\site-packages (from mediapipe) (3.7.2)\n",
      "Requirement already satisfied: numpy in c:\\users\\gjaischool1\\anaconda3\\envs\\machine\\lib\\site-packages (from mediapipe) (1.24.4)\n",
      "Requirement already satisfied: opencv-contrib-python in c:\\users\\gjaischool1\\appdata\\roaming\\python\\python38\\site-packages (from mediapipe) (4.8.0.74)\n",
      "Requirement already satisfied: protobuf<4,>=3.11 in c:\\users\\gjaischool1\\anaconda3\\envs\\machine\\lib\\site-packages (from mediapipe) (3.20.3)\n",
      "Requirement already satisfied: sounddevice>=0.4.4 in c:\\users\\gjaischool1\\appdata\\roaming\\python\\python38\\site-packages (from mediapipe) (0.4.6)\n",
      "Requirement already satisfied: CFFI>=1.0 in c:\\users\\gjaischool1\\anaconda3\\envs\\machine\\lib\\site-packages (from sounddevice>=0.4.4->mediapipe) (1.15.1)\n",
      "Requirement already satisfied: contourpy>=1.0.1 in c:\\users\\gjaischool1\\anaconda3\\envs\\machine\\lib\\site-packages (from matplotlib->mediapipe) (1.1.0)\n",
      "Requirement already satisfied: cycler>=0.10 in c:\\users\\gjaischool1\\anaconda3\\envs\\machine\\lib\\site-packages (from matplotlib->mediapipe) (0.11.0)\n",
      "Requirement already satisfied: fonttools>=4.22.0 in c:\\users\\gjaischool1\\anaconda3\\envs\\machine\\lib\\site-packages (from matplotlib->mediapipe) (4.40.0)\n",
      "Requirement already satisfied: kiwisolver>=1.0.1 in c:\\users\\gjaischool1\\anaconda3\\envs\\machine\\lib\\site-packages (from matplotlib->mediapipe) (1.4.4)\n",
      "Requirement already satisfied: packaging>=20.0 in c:\\users\\gjaischool1\\anaconda3\\envs\\machine\\lib\\site-packages (from matplotlib->mediapipe) (23.0)\n",
      "Requirement already satisfied: pillow>=6.2.0 in c:\\users\\gjaischool1\\anaconda3\\envs\\machine\\lib\\site-packages (from matplotlib->mediapipe) (10.0.0)\n",
      "Requirement already satisfied: pyparsing<3.1,>=2.3.1 in c:\\users\\gjaischool1\\anaconda3\\envs\\machine\\lib\\site-packages (from matplotlib->mediapipe) (3.0.9)\n",
      "Requirement already satisfied: python-dateutil>=2.7 in c:\\users\\gjaischool1\\anaconda3\\envs\\machine\\lib\\site-packages (from matplotlib->mediapipe) (2.8.2)\n",
      "Requirement already satisfied: importlib-resources>=3.2.0 in c:\\users\\gjaischool1\\anaconda3\\envs\\machine\\lib\\site-packages (from matplotlib->mediapipe) (5.2.0)\n",
      "Requirement already satisfied: pycparser in c:\\users\\gjaischool1\\anaconda3\\envs\\machine\\lib\\site-packages (from CFFI>=1.0->sounddevice>=0.4.4->mediapipe) (2.21)\n",
      "Requirement already satisfied: zipp>=3.1.0 in c:\\users\\gjaischool1\\anaconda3\\envs\\machine\\lib\\site-packages (from importlib-resources>=3.2.0->matplotlib->mediapipe) (3.11.0)\n",
      "Requirement already satisfied: six>=1.5 in c:\\users\\gjaischool1\\anaconda3\\envs\\machine\\lib\\site-packages (from python-dateutil>=2.7->matplotlib->mediapipe) (1.16.0)\n"
     ]
    }
   ],
   "source": [
    "! pip install mediapipe"
   ]
  },
  {
   "cell_type": "code",
   "execution_count": 2,
   "id": "361e2667",
   "metadata": {},
   "outputs": [],
   "source": [
    "import cv2\n",
    "import mediapipe as mp"
   ]
  },
  {
   "cell_type": "code",
   "execution_count": 5,
   "id": "370a3b58",
   "metadata": {},
   "outputs": [
    {
     "name": "stdout",
     "output_type": "stream",
     "text": [
      "비디오 읽기 실패 또는 비디오 모두 읽음\n"
     ]
    }
   ],
   "source": [
    "cap = cv2.VideoCapture('video2.mp4')\n",
    "\n",
    "while True: \n",
    "\n",
    "    ret, frame = cap.read()\n",
    "\n",
    "    if not ret:\n",
    "        print(\"비디오 읽기 실패 또는 비디오 모두 읽음\")\n",
    "        cap.release() # 연결해놓은 카메라 or 동영상 닫기\n",
    "        cv2.destroyAllWindows() # 윈도우에 열어놓은 창 닫기\n",
    "        break # 더이상 사진을 불러오지 않아도 되므로 while문 종료\n",
    "    \n",
    "       \n",
    "    # 이미지를 불러왔을 때\n",
    "    cv2.imshow('video', frame)\n",
    "    k = cv2.waitKey(33) # 33ms마다 사진 넘긱기 = 1초에 약 30장의 사진을 보내주고 있다.\n",
    "    \n",
    "    # 종료 버튼 만들기\n",
    "    # 1(!) 누르면 종료하기\n",
    "    if k == 49: # 1은 아스키코드로 49를 가지고 있음\n",
    "        print('동영상을 종료합니다')\n",
    "        cap.release() # 카메라 닫기\n",
    "        cv2.destroyAllWindows() # 윈도우 창 닫기\n",
    "        break # while문 종료"
   ]
  },
  {
   "cell_type": "code",
   "execution_count": null,
   "id": "a9ff9e57",
   "metadata": {},
   "outputs": [],
   "source": []
  }
 ],
 "metadata": {
  "kernelspec": {
   "display_name": "Python 3 (ipykernel)",
   "language": "python",
   "name": "python3"
  },
  "language_info": {
   "codemirror_mode": {
    "name": "ipython",
    "version": 3
   },
   "file_extension": ".py",
   "mimetype": "text/x-python",
   "name": "python",
   "nbconvert_exporter": "python",
   "pygments_lexer": "ipython3",
   "version": "3.8.0"
  }
 },
 "nbformat": 4,
 "nbformat_minor": 5
}
