{
 "cells": [
  {
   "cell_type": "markdown",
   "id": "6c9f6bdc",
   "metadata": {},
   "source": [
    "### 연산자"
   ]
  },
  {
   "cell_type": "markdown",
   "id": "556525f0",
   "metadata": {},
   "source": [
    "#### 1) 산술연산자\n",
    "- 주의사항\n",
    "    - / : 나누기 (소수점 끝까지 쭉 표시)\n",
    "    - // : 나누기 (몫) -> 소수점 한 번 더 잘라낸다고 생각하기\n",
    "    - % : 나머지"
   ]
  },
  {
   "cell_type": "code",
   "execution_count": 1,
   "id": "ea5b6561",
   "metadata": {},
   "outputs": [
    {
     "name": "stdout",
     "output_type": "stream",
     "text": [
      "1.4285714285714286\n",
      "1\n",
      "3\n"
     ]
    }
   ],
   "source": [
    "num1=10\n",
    "num2=7\n",
    "print(num1/num2)\n",
    "print(num1//num2)\n",
    "print(num1%num2)"
   ]
  },
  {
   "cell_type": "code",
   "execution_count": 2,
   "id": "27d8269c",
   "metadata": {},
   "outputs": [
    {
     "name": "stdout",
     "output_type": "stream",
     "text": [
      "안녕하세요\n"
     ]
    }
   ],
   "source": [
    "# 문자열 더하기 -> 가능하다\n",
    "s1 = \"안녕\"\n",
    "s2 = \"하세요\"\n",
    "print(s1+s2)"
   ]
  },
  {
   "cell_type": "code",
   "execution_count": 4,
   "id": "b0f78579",
   "metadata": {},
   "outputs": [
    {
     "name": "stdout",
     "output_type": "stream",
     "text": [
      "안녕안녕안녕안녕안녕안녕안녕안녕안녕안녕\n"
     ]
    }
   ],
   "source": [
    "print(s1*10)\n",
    "\n",
    "# 문자열은 더하기와 곱하기만 가능!"
   ]
  },
  {
   "cell_type": "code",
   "execution_count": 7,
   "id": "ac24e35c",
   "metadata": {},
   "outputs": [
    {
     "name": "stdout",
     "output_type": "stream",
     "text": [
      "26\n",
      "20\n",
      "69\n",
      "7.666666666666667\n"
     ]
    }
   ],
   "source": [
    "num1=23\n",
    "num2=3\n",
    "print(\"더하기 결과 :\",num1+num2)\n",
    "print(\"빼기 결과 :\"num1-num2)\n",
    "print(\"곱하기 결과 :\"num1*num2)\n",
    "print(\"나누기 결과 :\"num1/num2)"
   ]
  },
  {
   "cell_type": "code",
   "execution_count": null,
   "id": "bd49e98b",
   "metadata": {},
   "outputs": [],
   "source": []
  }
 ],
 "metadata": {
  "kernelspec": {
   "display_name": "Python 3 (ipykernel)",
   "language": "python",
   "name": "python3"
  },
  "language_info": {
   "codemirror_mode": {
    "name": "ipython",
    "version": 3
   },
   "file_extension": ".py",
   "mimetype": "text/x-python",
   "name": "python",
   "nbconvert_exporter": "python",
   "pygments_lexer": "ipython3",
   "version": "3.10.9"
  }
 },
 "nbformat": 4,
 "nbformat_minor": 5
}
