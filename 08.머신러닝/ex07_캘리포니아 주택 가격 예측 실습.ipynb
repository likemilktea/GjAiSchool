{
 "cells": [
  {
   "cell_type": "code",
   "execution_count": 1,
   "id": "930406a7",
   "metadata": {},
   "outputs": [],
   "source": [
    "import numpy as np\n",
    "import pandas as pd\n",
    "import matplotlib.pyplot as plt"
   ]
  },
  {
   "cell_type": "code",
   "execution_count": 2,
   "id": "3eabfdfc",
   "metadata": {},
   "outputs": [
    {
     "data": {
      "text/plain": [
       "dict_keys(['data', 'target', 'frame', 'target_names', 'feature_names', 'DESCR'])"
      ]
     },
     "execution_count": 2,
     "metadata": {},
     "output_type": "execute_result"
    }
   ],
   "source": [
    "from sklearn.datasets import fetch_california_housing\n",
    "housing = fetch_california_housing()\n",
    "housing.keys()"
   ]
  },
  {
   "cell_type": "code",
   "execution_count": 3,
   "id": "2001eaa0",
   "metadata": {},
   "outputs": [
    {
     "name": "stdout",
     "output_type": "stream",
     "text": [
      ".. _california_housing_dataset:\n",
      "\n",
      "California Housing dataset\n",
      "--------------------------\n",
      "\n",
      "**Data Set Characteristics:**\n",
      "\n",
      "    :Number of Instances: 20640\n",
      "\n",
      "    :Number of Attributes: 8 numeric, predictive attributes and the target\n",
      "\n",
      "    :Attribute Information:\n",
      "        - MedInc        median income in block group\n",
      "        - HouseAge      median house age in block group\n",
      "        - AveRooms      average number of rooms per household\n",
      "        - AveBedrms     average number of bedrooms per household\n",
      "        - Population    block group population\n",
      "        - AveOccup      average number of household members\n",
      "        - Latitude      block group latitude\n",
      "        - Longitude     block group longitude\n",
      "\n",
      "    :Missing Attribute Values: None\n",
      "\n",
      "This dataset was obtained from the StatLib repository.\n",
      "https://www.dcc.fc.up.pt/~ltorgo/Regression/cal_housing.html\n",
      "\n",
      "The target variable is the median house value for California districts,\n",
      "expressed in hundreds of thousands of dollars ($100,000).\n",
      "\n",
      "This dataset was derived from the 1990 U.S. census, using one row per census\n",
      "block group. A block group is the smallest geographical unit for which the U.S.\n",
      "Census Bureau publishes sample data (a block group typically has a population\n",
      "of 600 to 3,000 people).\n",
      "\n",
      "A household is a group of people residing within a home. Since the average\n",
      "number of rooms and bedrooms in this dataset are provided per household, these\n",
      "columns may take surprisingly large values for block groups with few households\n",
      "and many empty houses, such as vacation resorts.\n",
      "\n",
      "It can be downloaded/loaded using the\n",
      ":func:`sklearn.datasets.fetch_california_housing` function.\n",
      "\n",
      ".. topic:: References\n",
      "\n",
      "    - Pace, R. Kelley and Ronald Barry, Sparse Spatial Autoregressions,\n",
      "      Statistics and Probability Letters, 33 (1997) 291-297\n",
      "\n"
     ]
    }
   ],
   "source": [
    "print(housing.DESCR)"
   ]
  },
  {
   "cell_type": "code",
   "execution_count": 4,
   "id": "4626d004",
   "metadata": {},
   "outputs": [],
   "source": [
    "# 문제 데이터\n",
    "housing_df=pd.DataFrame(housing.data,columns=housing.feature_names)\n",
    "# 주택에 대한 일반적인 정보"
   ]
  },
  {
   "cell_type": "code",
   "execution_count": 5,
   "id": "707333e5",
   "metadata": {},
   "outputs": [
    {
     "data": {
      "text/html": [
       "<div>\n",
       "<style scoped>\n",
       "    .dataframe tbody tr th:only-of-type {\n",
       "        vertical-align: middle;\n",
       "    }\n",
       "\n",
       "    .dataframe tbody tr th {\n",
       "        vertical-align: top;\n",
       "    }\n",
       "\n",
       "    .dataframe thead th {\n",
       "        text-align: right;\n",
       "    }\n",
       "</style>\n",
       "<table border=\"1\" class=\"dataframe\">\n",
       "  <thead>\n",
       "    <tr style=\"text-align: right;\">\n",
       "      <th></th>\n",
       "      <th>MedInc</th>\n",
       "      <th>HouseAge</th>\n",
       "      <th>AveRooms</th>\n",
       "      <th>AveBedrms</th>\n",
       "      <th>Population</th>\n",
       "      <th>AveOccup</th>\n",
       "      <th>Latitude</th>\n",
       "      <th>Longitude</th>\n",
       "    </tr>\n",
       "  </thead>\n",
       "  <tbody>\n",
       "    <tr>\n",
       "      <th>0</th>\n",
       "      <td>8.3252</td>\n",
       "      <td>41.0</td>\n",
       "      <td>6.984127</td>\n",
       "      <td>1.023810</td>\n",
       "      <td>322.0</td>\n",
       "      <td>2.555556</td>\n",
       "      <td>37.88</td>\n",
       "      <td>-122.23</td>\n",
       "    </tr>\n",
       "    <tr>\n",
       "      <th>1</th>\n",
       "      <td>8.3014</td>\n",
       "      <td>21.0</td>\n",
       "      <td>6.238137</td>\n",
       "      <td>0.971880</td>\n",
       "      <td>2401.0</td>\n",
       "      <td>2.109842</td>\n",
       "      <td>37.86</td>\n",
       "      <td>-122.22</td>\n",
       "    </tr>\n",
       "    <tr>\n",
       "      <th>2</th>\n",
       "      <td>7.2574</td>\n",
       "      <td>52.0</td>\n",
       "      <td>8.288136</td>\n",
       "      <td>1.073446</td>\n",
       "      <td>496.0</td>\n",
       "      <td>2.802260</td>\n",
       "      <td>37.85</td>\n",
       "      <td>-122.24</td>\n",
       "    </tr>\n",
       "    <tr>\n",
       "      <th>3</th>\n",
       "      <td>5.6431</td>\n",
       "      <td>52.0</td>\n",
       "      <td>5.817352</td>\n",
       "      <td>1.073059</td>\n",
       "      <td>558.0</td>\n",
       "      <td>2.547945</td>\n",
       "      <td>37.85</td>\n",
       "      <td>-122.25</td>\n",
       "    </tr>\n",
       "    <tr>\n",
       "      <th>4</th>\n",
       "      <td>3.8462</td>\n",
       "      <td>52.0</td>\n",
       "      <td>6.281853</td>\n",
       "      <td>1.081081</td>\n",
       "      <td>565.0</td>\n",
       "      <td>2.181467</td>\n",
       "      <td>37.85</td>\n",
       "      <td>-122.25</td>\n",
       "    </tr>\n",
       "  </tbody>\n",
       "</table>\n",
       "</div>"
      ],
      "text/plain": [
       "   MedInc  HouseAge  AveRooms  AveBedrms  Population  AveOccup  Latitude  \\\n",
       "0  8.3252      41.0  6.984127   1.023810       322.0  2.555556     37.88   \n",
       "1  8.3014      21.0  6.238137   0.971880      2401.0  2.109842     37.86   \n",
       "2  7.2574      52.0  8.288136   1.073446       496.0  2.802260     37.85   \n",
       "3  5.6431      52.0  5.817352   1.073059       558.0  2.547945     37.85   \n",
       "4  3.8462      52.0  6.281853   1.081081       565.0  2.181467     37.85   \n",
       "\n",
       "   Longitude  \n",
       "0    -122.23  \n",
       "1    -122.22  \n",
       "2    -122.24  \n",
       "3    -122.25  \n",
       "4    -122.25  "
      ]
     },
     "execution_count": 5,
     "metadata": {},
     "output_type": "execute_result"
    }
   ],
   "source": [
    "housing_df.head()"
   ]
  },
  {
   "cell_type": "code",
   "execution_count": 6,
   "id": "d29eef22",
   "metadata": {},
   "outputs": [],
   "source": [
    "# 정답 데이터\n",
    "housing_price=housing.target"
   ]
  },
  {
   "cell_type": "markdown",
   "id": "237b4054",
   "metadata": {},
   "source": [
    "## 1. train test로 분리"
   ]
  },
  {
   "cell_type": "code",
   "execution_count": 7,
   "id": "b3af75b7",
   "metadata": {},
   "outputs": [],
   "source": [
    "from sklearn.model_selection import train_test_split"
   ]
  },
  {
   "cell_type": "code",
   "execution_count": 8,
   "id": "5c6592c0",
   "metadata": {},
   "outputs": [],
   "source": [
    "X_train,X_test,y_train,y_test=train_test_split(housing_df,housing_price, test_size=3)"
   ]
  },
  {
   "cell_type": "markdown",
   "id": "9b67b332",
   "metadata": {},
   "source": [
    "## 2. LinearRegression"
   ]
  },
  {
   "cell_type": "code",
   "execution_count": 9,
   "id": "356a623a",
   "metadata": {},
   "outputs": [],
   "source": [
    "from sklearn.linear_model import LinearRegression"
   ]
  },
  {
   "cell_type": "code",
   "execution_count": 10,
   "id": "696ff419",
   "metadata": {},
   "outputs": [],
   "source": [
    "linear_model = LinearRegression()"
   ]
  },
  {
   "cell_type": "code",
   "execution_count": 11,
   "id": "14092387",
   "metadata": {},
   "outputs": [
    {
     "data": {
      "text/html": [
       "<style>#sk-container-id-1 {color: black;}#sk-container-id-1 pre{padding: 0;}#sk-container-id-1 div.sk-toggleable {background-color: white;}#sk-container-id-1 label.sk-toggleable__label {cursor: pointer;display: block;width: 100%;margin-bottom: 0;padding: 0.3em;box-sizing: border-box;text-align: center;}#sk-container-id-1 label.sk-toggleable__label-arrow:before {content: \"▸\";float: left;margin-right: 0.25em;color: #696969;}#sk-container-id-1 label.sk-toggleable__label-arrow:hover:before {color: black;}#sk-container-id-1 div.sk-estimator:hover label.sk-toggleable__label-arrow:before {color: black;}#sk-container-id-1 div.sk-toggleable__content {max-height: 0;max-width: 0;overflow: hidden;text-align: left;background-color: #f0f8ff;}#sk-container-id-1 div.sk-toggleable__content pre {margin: 0.2em;color: black;border-radius: 0.25em;background-color: #f0f8ff;}#sk-container-id-1 input.sk-toggleable__control:checked~div.sk-toggleable__content {max-height: 200px;max-width: 100%;overflow: auto;}#sk-container-id-1 input.sk-toggleable__control:checked~label.sk-toggleable__label-arrow:before {content: \"▾\";}#sk-container-id-1 div.sk-estimator input.sk-toggleable__control:checked~label.sk-toggleable__label {background-color: #d4ebff;}#sk-container-id-1 div.sk-label input.sk-toggleable__control:checked~label.sk-toggleable__label {background-color: #d4ebff;}#sk-container-id-1 input.sk-hidden--visually {border: 0;clip: rect(1px 1px 1px 1px);clip: rect(1px, 1px, 1px, 1px);height: 1px;margin: -1px;overflow: hidden;padding: 0;position: absolute;width: 1px;}#sk-container-id-1 div.sk-estimator {font-family: monospace;background-color: #f0f8ff;border: 1px dotted black;border-radius: 0.25em;box-sizing: border-box;margin-bottom: 0.5em;}#sk-container-id-1 div.sk-estimator:hover {background-color: #d4ebff;}#sk-container-id-1 div.sk-parallel-item::after {content: \"\";width: 100%;border-bottom: 1px solid gray;flex-grow: 1;}#sk-container-id-1 div.sk-label:hover label.sk-toggleable__label {background-color: #d4ebff;}#sk-container-id-1 div.sk-serial::before {content: \"\";position: absolute;border-left: 1px solid gray;box-sizing: border-box;top: 0;bottom: 0;left: 50%;z-index: 0;}#sk-container-id-1 div.sk-serial {display: flex;flex-direction: column;align-items: center;background-color: white;padding-right: 0.2em;padding-left: 0.2em;position: relative;}#sk-container-id-1 div.sk-item {position: relative;z-index: 1;}#sk-container-id-1 div.sk-parallel {display: flex;align-items: stretch;justify-content: center;background-color: white;position: relative;}#sk-container-id-1 div.sk-item::before, #sk-container-id-1 div.sk-parallel-item::before {content: \"\";position: absolute;border-left: 1px solid gray;box-sizing: border-box;top: 0;bottom: 0;left: 50%;z-index: -1;}#sk-container-id-1 div.sk-parallel-item {display: flex;flex-direction: column;z-index: 1;position: relative;background-color: white;}#sk-container-id-1 div.sk-parallel-item:first-child::after {align-self: flex-end;width: 50%;}#sk-container-id-1 div.sk-parallel-item:last-child::after {align-self: flex-start;width: 50%;}#sk-container-id-1 div.sk-parallel-item:only-child::after {width: 0;}#sk-container-id-1 div.sk-dashed-wrapped {border: 1px dashed gray;margin: 0 0.4em 0.5em 0.4em;box-sizing: border-box;padding-bottom: 0.4em;background-color: white;}#sk-container-id-1 div.sk-label label {font-family: monospace;font-weight: bold;display: inline-block;line-height: 1.2em;}#sk-container-id-1 div.sk-label-container {text-align: center;}#sk-container-id-1 div.sk-container {/* jupyter's `normalize.less` sets `[hidden] { display: none; }` but bootstrap.min.css set `[hidden] { display: none !important; }` so we also need the `!important` here to be able to override the default hidden behavior on the sphinx rendered scikit-learn.org. See: https://github.com/scikit-learn/scikit-learn/issues/21755 */display: inline-block !important;position: relative;}#sk-container-id-1 div.sk-text-repr-fallback {display: none;}</style><div id=\"sk-container-id-1\" class=\"sk-top-container\"><div class=\"sk-text-repr-fallback\"><pre>LinearRegression()</pre><b>In a Jupyter environment, please rerun this cell to show the HTML representation or trust the notebook. <br />On GitHub, the HTML representation is unable to render, please try loading this page with nbviewer.org.</b></div><div class=\"sk-container\" hidden><div class=\"sk-item\"><div class=\"sk-estimator sk-toggleable\"><input class=\"sk-toggleable__control sk-hidden--visually\" id=\"sk-estimator-id-1\" type=\"checkbox\" checked><label for=\"sk-estimator-id-1\" class=\"sk-toggleable__label sk-toggleable__label-arrow\">LinearRegression</label><div class=\"sk-toggleable__content\"><pre>LinearRegression()</pre></div></div></div></div></div>"
      ],
      "text/plain": [
       "LinearRegression()"
      ]
     },
     "execution_count": 11,
     "metadata": {},
     "output_type": "execute_result"
    }
   ],
   "source": [
    "linear_model.fit(X_train,y_train)"
   ]
  },
  {
   "cell_type": "code",
   "execution_count": 12,
   "id": "3b53302a",
   "metadata": {},
   "outputs": [
    {
     "data": {
      "text/plain": [
       "0.3012213575143684"
      ]
     },
     "execution_count": 12,
     "metadata": {},
     "output_type": "execute_result"
    }
   ],
   "source": [
    "# 회귀 모델의 Score -> R square\n",
    "linear_model.score(X_test, y_test) "
   ]
  },
  {
   "cell_type": "code",
   "execution_count": 13,
   "id": "514c4a51",
   "metadata": {},
   "outputs": [],
   "source": [
    "from sklearn.model_selection import cross_val_score"
   ]
  },
  {
   "cell_type": "code",
   "execution_count": 14,
   "id": "654e36e7",
   "metadata": {},
   "outputs": [],
   "source": [
    "# 교차 검증\n",
    "result = cross_val_score(linear_model,X_train,y_train,cv=5)"
   ]
  },
  {
   "cell_type": "code",
   "execution_count": 15,
   "id": "37dffffc",
   "metadata": {},
   "outputs": [
    {
     "data": {
      "text/plain": [
       "array([-0.10847506,  0.6156134 ,  0.58597485,  0.60569997,  0.61641945])"
      ]
     },
     "execution_count": 15,
     "metadata": {},
     "output_type": "execute_result"
    }
   ],
   "source": [
    "result"
   ]
  },
  {
   "cell_type": "code",
   "execution_count": 16,
   "id": "07ede2d3",
   "metadata": {},
   "outputs": [
    {
     "data": {
      "text/plain": [
       "0.46304652146669395"
      ]
     },
     "execution_count": 16,
     "metadata": {},
     "output_type": "execute_result"
    }
   ],
   "source": [
    "result.mean()"
   ]
  },
  {
   "cell_type": "markdown",
   "id": "e704ca07",
   "metadata": {},
   "source": [
    "## 3. 특성 확장"
   ]
  },
  {
   "cell_type": "code",
   "execution_count": 17,
   "id": "eeb5e475",
   "metadata": {},
   "outputs": [
    {
     "data": {
      "text/html": [
       "<div>\n",
       "<style scoped>\n",
       "    .dataframe tbody tr th:only-of-type {\n",
       "        vertical-align: middle;\n",
       "    }\n",
       "\n",
       "    .dataframe tbody tr th {\n",
       "        vertical-align: top;\n",
       "    }\n",
       "\n",
       "    .dataframe thead th {\n",
       "        text-align: right;\n",
       "    }\n",
       "</style>\n",
       "<table border=\"1\" class=\"dataframe\">\n",
       "  <thead>\n",
       "    <tr style=\"text-align: right;\">\n",
       "      <th></th>\n",
       "      <th>MedInc</th>\n",
       "      <th>HouseAge</th>\n",
       "      <th>AveRooms</th>\n",
       "      <th>AveBedrms</th>\n",
       "      <th>Population</th>\n",
       "      <th>AveOccup</th>\n",
       "      <th>Latitude</th>\n",
       "      <th>Longitude</th>\n",
       "    </tr>\n",
       "  </thead>\n",
       "  <tbody>\n",
       "    <tr>\n",
       "      <th>15206</th>\n",
       "      <td>4.4219</td>\n",
       "      <td>9.0</td>\n",
       "      <td>5.784543</td>\n",
       "      <td>0.976581</td>\n",
       "      <td>904.0</td>\n",
       "      <td>2.117096</td>\n",
       "      <td>33.01</td>\n",
       "      <td>-117.06</td>\n",
       "    </tr>\n",
       "    <tr>\n",
       "      <th>20524</th>\n",
       "      <td>4.1060</td>\n",
       "      <td>10.0</td>\n",
       "      <td>5.781801</td>\n",
       "      <td>1.080780</td>\n",
       "      <td>2909.0</td>\n",
       "      <td>2.701021</td>\n",
       "      <td>38.55</td>\n",
       "      <td>-121.55</td>\n",
       "    </tr>\n",
       "    <tr>\n",
       "      <th>70</th>\n",
       "      <td>1.7719</td>\n",
       "      <td>26.0</td>\n",
       "      <td>6.047244</td>\n",
       "      <td>1.196850</td>\n",
       "      <td>392.0</td>\n",
       "      <td>3.086614</td>\n",
       "      <td>37.81</td>\n",
       "      <td>-122.29</td>\n",
       "    </tr>\n",
       "    <tr>\n",
       "      <th>10391</th>\n",
       "      <td>7.8061</td>\n",
       "      <td>2.0</td>\n",
       "      <td>11.110599</td>\n",
       "      <td>1.631336</td>\n",
       "      <td>703.0</td>\n",
       "      <td>3.239631</td>\n",
       "      <td>33.58</td>\n",
       "      <td>-117.65</td>\n",
       "    </tr>\n",
       "    <tr>\n",
       "      <th>15168</th>\n",
       "      <td>1.9176</td>\n",
       "      <td>24.0</td>\n",
       "      <td>4.234694</td>\n",
       "      <td>0.969388</td>\n",
       "      <td>279.0</td>\n",
       "      <td>1.423469</td>\n",
       "      <td>33.02</td>\n",
       "      <td>-117.06</td>\n",
       "    </tr>\n",
       "    <tr>\n",
       "      <th>...</th>\n",
       "      <td>...</td>\n",
       "      <td>...</td>\n",
       "      <td>...</td>\n",
       "      <td>...</td>\n",
       "      <td>...</td>\n",
       "      <td>...</td>\n",
       "      <td>...</td>\n",
       "      <td>...</td>\n",
       "    </tr>\n",
       "    <tr>\n",
       "      <th>17510</th>\n",
       "      <td>3.0139</td>\n",
       "      <td>35.0</td>\n",
       "      <td>3.606061</td>\n",
       "      <td>1.212121</td>\n",
       "      <td>377.0</td>\n",
       "      <td>3.808081</td>\n",
       "      <td>37.34</td>\n",
       "      <td>-121.92</td>\n",
       "    </tr>\n",
       "    <tr>\n",
       "      <th>8688</th>\n",
       "      <td>4.6406</td>\n",
       "      <td>34.0</td>\n",
       "      <td>5.042453</td>\n",
       "      <td>1.023585</td>\n",
       "      <td>601.0</td>\n",
       "      <td>2.834906</td>\n",
       "      <td>33.87</td>\n",
       "      <td>-118.34</td>\n",
       "    </tr>\n",
       "    <tr>\n",
       "      <th>2039</th>\n",
       "      <td>4.0027</td>\n",
       "      <td>13.0</td>\n",
       "      <td>5.785185</td>\n",
       "      <td>1.009877</td>\n",
       "      <td>1347.0</td>\n",
       "      <td>3.325926</td>\n",
       "      <td>36.75</td>\n",
       "      <td>-119.69</td>\n",
       "    </tr>\n",
       "    <tr>\n",
       "      <th>3240</th>\n",
       "      <td>1.8500</td>\n",
       "      <td>14.0</td>\n",
       "      <td>4.541219</td>\n",
       "      <td>1.039427</td>\n",
       "      <td>1077.0</td>\n",
       "      <td>3.860215</td>\n",
       "      <td>36.09</td>\n",
       "      <td>-119.56</td>\n",
       "    </tr>\n",
       "    <tr>\n",
       "      <th>512</th>\n",
       "      <td>12.2138</td>\n",
       "      <td>52.0</td>\n",
       "      <td>9.210227</td>\n",
       "      <td>1.039773</td>\n",
       "      <td>1001.0</td>\n",
       "      <td>2.843750</td>\n",
       "      <td>37.82</td>\n",
       "      <td>-122.23</td>\n",
       "    </tr>\n",
       "  </tbody>\n",
       "</table>\n",
       "<p>20637 rows × 8 columns</p>\n",
       "</div>"
      ],
      "text/plain": [
       "        MedInc  HouseAge   AveRooms  AveBedrms  Population  AveOccup  \\\n",
       "15206   4.4219       9.0   5.784543   0.976581       904.0  2.117096   \n",
       "20524   4.1060      10.0   5.781801   1.080780      2909.0  2.701021   \n",
       "70      1.7719      26.0   6.047244   1.196850       392.0  3.086614   \n",
       "10391   7.8061       2.0  11.110599   1.631336       703.0  3.239631   \n",
       "15168   1.9176      24.0   4.234694   0.969388       279.0  1.423469   \n",
       "...        ...       ...        ...        ...         ...       ...   \n",
       "17510   3.0139      35.0   3.606061   1.212121       377.0  3.808081   \n",
       "8688    4.6406      34.0   5.042453   1.023585       601.0  2.834906   \n",
       "2039    4.0027      13.0   5.785185   1.009877      1347.0  3.325926   \n",
       "3240    1.8500      14.0   4.541219   1.039427      1077.0  3.860215   \n",
       "512    12.2138      52.0   9.210227   1.039773      1001.0  2.843750   \n",
       "\n",
       "       Latitude  Longitude  \n",
       "15206     33.01    -117.06  \n",
       "20524     38.55    -121.55  \n",
       "70        37.81    -122.29  \n",
       "10391     33.58    -117.65  \n",
       "15168     33.02    -117.06  \n",
       "...         ...        ...  \n",
       "17510     37.34    -121.92  \n",
       "8688      33.87    -118.34  \n",
       "2039      36.75    -119.69  \n",
       "3240      36.09    -119.56  \n",
       "512       37.82    -122.23  \n",
       "\n",
       "[20637 rows x 8 columns]"
      ]
     },
     "execution_count": 17,
     "metadata": {},
     "output_type": "execute_result"
    }
   ],
   "source": [
    "# 복사!\n",
    "extended_X_train = X_train.copy()\n",
    "extended_X_train"
   ]
  },
  {
   "cell_type": "code",
   "execution_count": 18,
   "id": "17c89048",
   "metadata": {},
   "outputs": [],
   "source": [
    "for col1 in X_train.columns:\n",
    "    for col2 in X_train.columns:\n",
    "        extended_X_train[col1+'x'+col2] = X_train[col1]*X_train[col2]"
   ]
  },
  {
   "cell_type": "code",
   "execution_count": 19,
   "id": "379bef0f",
   "metadata": {},
   "outputs": [
    {
     "data": {
      "text/html": [
       "<div>\n",
       "<style scoped>\n",
       "    .dataframe tbody tr th:only-of-type {\n",
       "        vertical-align: middle;\n",
       "    }\n",
       "\n",
       "    .dataframe tbody tr th {\n",
       "        vertical-align: top;\n",
       "    }\n",
       "\n",
       "    .dataframe thead th {\n",
       "        text-align: right;\n",
       "    }\n",
       "</style>\n",
       "<table border=\"1\" class=\"dataframe\">\n",
       "  <thead>\n",
       "    <tr style=\"text-align: right;\">\n",
       "      <th></th>\n",
       "      <th>MedInc</th>\n",
       "      <th>HouseAge</th>\n",
       "      <th>AveRooms</th>\n",
       "      <th>AveBedrms</th>\n",
       "      <th>Population</th>\n",
       "      <th>AveOccup</th>\n",
       "      <th>Latitude</th>\n",
       "      <th>Longitude</th>\n",
       "      <th>MedIncxMedInc</th>\n",
       "      <th>MedIncxHouseAge</th>\n",
       "      <th>...</th>\n",
       "      <th>LatitudexLatitude</th>\n",
       "      <th>LatitudexLongitude</th>\n",
       "      <th>LongitudexMedInc</th>\n",
       "      <th>LongitudexHouseAge</th>\n",
       "      <th>LongitudexAveRooms</th>\n",
       "      <th>LongitudexAveBedrms</th>\n",
       "      <th>LongitudexPopulation</th>\n",
       "      <th>LongitudexAveOccup</th>\n",
       "      <th>LongitudexLatitude</th>\n",
       "      <th>LongitudexLongitude</th>\n",
       "    </tr>\n",
       "  </thead>\n",
       "  <tbody>\n",
       "    <tr>\n",
       "      <th>15206</th>\n",
       "      <td>4.4219</td>\n",
       "      <td>9.0</td>\n",
       "      <td>5.784543</td>\n",
       "      <td>0.976581</td>\n",
       "      <td>904.0</td>\n",
       "      <td>2.117096</td>\n",
       "      <td>33.01</td>\n",
       "      <td>-117.06</td>\n",
       "      <td>19.553200</td>\n",
       "      <td>39.7971</td>\n",
       "      <td>...</td>\n",
       "      <td>1089.6601</td>\n",
       "      <td>-3864.1506</td>\n",
       "      <td>-517.627614</td>\n",
       "      <td>-1053.54</td>\n",
       "      <td>-677.138642</td>\n",
       "      <td>-114.318548</td>\n",
       "      <td>-105822.24</td>\n",
       "      <td>-247.827260</td>\n",
       "      <td>-3864.1506</td>\n",
       "      <td>13703.0436</td>\n",
       "    </tr>\n",
       "    <tr>\n",
       "      <th>20524</th>\n",
       "      <td>4.1060</td>\n",
       "      <td>10.0</td>\n",
       "      <td>5.781801</td>\n",
       "      <td>1.080780</td>\n",
       "      <td>2909.0</td>\n",
       "      <td>2.701021</td>\n",
       "      <td>38.55</td>\n",
       "      <td>-121.55</td>\n",
       "      <td>16.859236</td>\n",
       "      <td>41.0600</td>\n",
       "      <td>...</td>\n",
       "      <td>1486.1025</td>\n",
       "      <td>-4685.7525</td>\n",
       "      <td>-499.084300</td>\n",
       "      <td>-1215.50</td>\n",
       "      <td>-702.777948</td>\n",
       "      <td>-131.368802</td>\n",
       "      <td>-353588.95</td>\n",
       "      <td>-328.309146</td>\n",
       "      <td>-4685.7525</td>\n",
       "      <td>14774.4025</td>\n",
       "    </tr>\n",
       "    <tr>\n",
       "      <th>70</th>\n",
       "      <td>1.7719</td>\n",
       "      <td>26.0</td>\n",
       "      <td>6.047244</td>\n",
       "      <td>1.196850</td>\n",
       "      <td>392.0</td>\n",
       "      <td>3.086614</td>\n",
       "      <td>37.81</td>\n",
       "      <td>-122.29</td>\n",
       "      <td>3.139630</td>\n",
       "      <td>46.0694</td>\n",
       "      <td>...</td>\n",
       "      <td>1429.5961</td>\n",
       "      <td>-4623.7849</td>\n",
       "      <td>-216.685651</td>\n",
       "      <td>-3179.54</td>\n",
       "      <td>-739.517480</td>\n",
       "      <td>-146.362835</td>\n",
       "      <td>-47937.68</td>\n",
       "      <td>-377.462047</td>\n",
       "      <td>-4623.7849</td>\n",
       "      <td>14954.8441</td>\n",
       "    </tr>\n",
       "    <tr>\n",
       "      <th>10391</th>\n",
       "      <td>7.8061</td>\n",
       "      <td>2.0</td>\n",
       "      <td>11.110599</td>\n",
       "      <td>1.631336</td>\n",
       "      <td>703.0</td>\n",
       "      <td>3.239631</td>\n",
       "      <td>33.58</td>\n",
       "      <td>-117.65</td>\n",
       "      <td>60.935197</td>\n",
       "      <td>15.6122</td>\n",
       "      <td>...</td>\n",
       "      <td>1127.6164</td>\n",
       "      <td>-3950.6870</td>\n",
       "      <td>-918.387665</td>\n",
       "      <td>-235.30</td>\n",
       "      <td>-1307.161982</td>\n",
       "      <td>-191.926728</td>\n",
       "      <td>-82707.95</td>\n",
       "      <td>-381.142627</td>\n",
       "      <td>-3950.6870</td>\n",
       "      <td>13841.5225</td>\n",
       "    </tr>\n",
       "    <tr>\n",
       "      <th>15168</th>\n",
       "      <td>1.9176</td>\n",
       "      <td>24.0</td>\n",
       "      <td>4.234694</td>\n",
       "      <td>0.969388</td>\n",
       "      <td>279.0</td>\n",
       "      <td>1.423469</td>\n",
       "      <td>33.02</td>\n",
       "      <td>-117.06</td>\n",
       "      <td>3.677190</td>\n",
       "      <td>46.0224</td>\n",
       "      <td>...</td>\n",
       "      <td>1090.3204</td>\n",
       "      <td>-3865.3212</td>\n",
       "      <td>-224.474256</td>\n",
       "      <td>-2809.44</td>\n",
       "      <td>-495.713265</td>\n",
       "      <td>-113.476531</td>\n",
       "      <td>-32659.74</td>\n",
       "      <td>-166.631327</td>\n",
       "      <td>-3865.3212</td>\n",
       "      <td>13703.0436</td>\n",
       "    </tr>\n",
       "    <tr>\n",
       "      <th>...</th>\n",
       "      <td>...</td>\n",
       "      <td>...</td>\n",
       "      <td>...</td>\n",
       "      <td>...</td>\n",
       "      <td>...</td>\n",
       "      <td>...</td>\n",
       "      <td>...</td>\n",
       "      <td>...</td>\n",
       "      <td>...</td>\n",
       "      <td>...</td>\n",
       "      <td>...</td>\n",
       "      <td>...</td>\n",
       "      <td>...</td>\n",
       "      <td>...</td>\n",
       "      <td>...</td>\n",
       "      <td>...</td>\n",
       "      <td>...</td>\n",
       "      <td>...</td>\n",
       "      <td>...</td>\n",
       "      <td>...</td>\n",
       "      <td>...</td>\n",
       "    </tr>\n",
       "    <tr>\n",
       "      <th>17510</th>\n",
       "      <td>3.0139</td>\n",
       "      <td>35.0</td>\n",
       "      <td>3.606061</td>\n",
       "      <td>1.212121</td>\n",
       "      <td>377.0</td>\n",
       "      <td>3.808081</td>\n",
       "      <td>37.34</td>\n",
       "      <td>-121.92</td>\n",
       "      <td>9.083593</td>\n",
       "      <td>105.4865</td>\n",
       "      <td>...</td>\n",
       "      <td>1394.2756</td>\n",
       "      <td>-4552.4928</td>\n",
       "      <td>-367.454688</td>\n",
       "      <td>-4267.20</td>\n",
       "      <td>-439.650909</td>\n",
       "      <td>-147.781818</td>\n",
       "      <td>-45963.84</td>\n",
       "      <td>-464.281212</td>\n",
       "      <td>-4552.4928</td>\n",
       "      <td>14864.4864</td>\n",
       "    </tr>\n",
       "    <tr>\n",
       "      <th>8688</th>\n",
       "      <td>4.6406</td>\n",
       "      <td>34.0</td>\n",
       "      <td>5.042453</td>\n",
       "      <td>1.023585</td>\n",
       "      <td>601.0</td>\n",
       "      <td>2.834906</td>\n",
       "      <td>33.87</td>\n",
       "      <td>-118.34</td>\n",
       "      <td>21.535168</td>\n",
       "      <td>157.7804</td>\n",
       "      <td>...</td>\n",
       "      <td>1147.1769</td>\n",
       "      <td>-4008.1758</td>\n",
       "      <td>-549.168604</td>\n",
       "      <td>-4023.56</td>\n",
       "      <td>-596.723868</td>\n",
       "      <td>-121.131038</td>\n",
       "      <td>-71122.34</td>\n",
       "      <td>-335.482736</td>\n",
       "      <td>-4008.1758</td>\n",
       "      <td>14004.3556</td>\n",
       "    </tr>\n",
       "    <tr>\n",
       "      <th>2039</th>\n",
       "      <td>4.0027</td>\n",
       "      <td>13.0</td>\n",
       "      <td>5.785185</td>\n",
       "      <td>1.009877</td>\n",
       "      <td>1347.0</td>\n",
       "      <td>3.325926</td>\n",
       "      <td>36.75</td>\n",
       "      <td>-119.69</td>\n",
       "      <td>16.021607</td>\n",
       "      <td>52.0351</td>\n",
       "      <td>...</td>\n",
       "      <td>1350.5625</td>\n",
       "      <td>-4398.6075</td>\n",
       "      <td>-479.083163</td>\n",
       "      <td>-1555.97</td>\n",
       "      <td>-692.428815</td>\n",
       "      <td>-120.872123</td>\n",
       "      <td>-161222.43</td>\n",
       "      <td>-398.080074</td>\n",
       "      <td>-4398.6075</td>\n",
       "      <td>14325.6961</td>\n",
       "    </tr>\n",
       "    <tr>\n",
       "      <th>3240</th>\n",
       "      <td>1.8500</td>\n",
       "      <td>14.0</td>\n",
       "      <td>4.541219</td>\n",
       "      <td>1.039427</td>\n",
       "      <td>1077.0</td>\n",
       "      <td>3.860215</td>\n",
       "      <td>36.09</td>\n",
       "      <td>-119.56</td>\n",
       "      <td>3.422500</td>\n",
       "      <td>25.9000</td>\n",
       "      <td>...</td>\n",
       "      <td>1302.4881</td>\n",
       "      <td>-4314.9204</td>\n",
       "      <td>-221.186000</td>\n",
       "      <td>-1673.84</td>\n",
       "      <td>-542.948100</td>\n",
       "      <td>-124.273835</td>\n",
       "      <td>-128766.12</td>\n",
       "      <td>-461.527312</td>\n",
       "      <td>-4314.9204</td>\n",
       "      <td>14294.5936</td>\n",
       "    </tr>\n",
       "    <tr>\n",
       "      <th>512</th>\n",
       "      <td>12.2138</td>\n",
       "      <td>52.0</td>\n",
       "      <td>9.210227</td>\n",
       "      <td>1.039773</td>\n",
       "      <td>1001.0</td>\n",
       "      <td>2.843750</td>\n",
       "      <td>37.82</td>\n",
       "      <td>-122.23</td>\n",
       "      <td>149.176910</td>\n",
       "      <td>635.1176</td>\n",
       "      <td>...</td>\n",
       "      <td>1430.3524</td>\n",
       "      <td>-4622.7386</td>\n",
       "      <td>-1492.892774</td>\n",
       "      <td>-6355.96</td>\n",
       "      <td>-1125.766080</td>\n",
       "      <td>-127.091420</td>\n",
       "      <td>-122352.23</td>\n",
       "      <td>-347.591563</td>\n",
       "      <td>-4622.7386</td>\n",
       "      <td>14940.1729</td>\n",
       "    </tr>\n",
       "  </tbody>\n",
       "</table>\n",
       "<p>20637 rows × 72 columns</p>\n",
       "</div>"
      ],
      "text/plain": [
       "        MedInc  HouseAge   AveRooms  AveBedrms  Population  AveOccup  \\\n",
       "15206   4.4219       9.0   5.784543   0.976581       904.0  2.117096   \n",
       "20524   4.1060      10.0   5.781801   1.080780      2909.0  2.701021   \n",
       "70      1.7719      26.0   6.047244   1.196850       392.0  3.086614   \n",
       "10391   7.8061       2.0  11.110599   1.631336       703.0  3.239631   \n",
       "15168   1.9176      24.0   4.234694   0.969388       279.0  1.423469   \n",
       "...        ...       ...        ...        ...         ...       ...   \n",
       "17510   3.0139      35.0   3.606061   1.212121       377.0  3.808081   \n",
       "8688    4.6406      34.0   5.042453   1.023585       601.0  2.834906   \n",
       "2039    4.0027      13.0   5.785185   1.009877      1347.0  3.325926   \n",
       "3240    1.8500      14.0   4.541219   1.039427      1077.0  3.860215   \n",
       "512    12.2138      52.0   9.210227   1.039773      1001.0  2.843750   \n",
       "\n",
       "       Latitude  Longitude  MedIncxMedInc  MedIncxHouseAge  ...  \\\n",
       "15206     33.01    -117.06      19.553200          39.7971  ...   \n",
       "20524     38.55    -121.55      16.859236          41.0600  ...   \n",
       "70        37.81    -122.29       3.139630          46.0694  ...   \n",
       "10391     33.58    -117.65      60.935197          15.6122  ...   \n",
       "15168     33.02    -117.06       3.677190          46.0224  ...   \n",
       "...         ...        ...            ...              ...  ...   \n",
       "17510     37.34    -121.92       9.083593         105.4865  ...   \n",
       "8688      33.87    -118.34      21.535168         157.7804  ...   \n",
       "2039      36.75    -119.69      16.021607          52.0351  ...   \n",
       "3240      36.09    -119.56       3.422500          25.9000  ...   \n",
       "512       37.82    -122.23     149.176910         635.1176  ...   \n",
       "\n",
       "       LatitudexLatitude  LatitudexLongitude  LongitudexMedInc  \\\n",
       "15206          1089.6601          -3864.1506       -517.627614   \n",
       "20524          1486.1025          -4685.7525       -499.084300   \n",
       "70             1429.5961          -4623.7849       -216.685651   \n",
       "10391          1127.6164          -3950.6870       -918.387665   \n",
       "15168          1090.3204          -3865.3212       -224.474256   \n",
       "...                  ...                 ...               ...   \n",
       "17510          1394.2756          -4552.4928       -367.454688   \n",
       "8688           1147.1769          -4008.1758       -549.168604   \n",
       "2039           1350.5625          -4398.6075       -479.083163   \n",
       "3240           1302.4881          -4314.9204       -221.186000   \n",
       "512            1430.3524          -4622.7386      -1492.892774   \n",
       "\n",
       "       LongitudexHouseAge  LongitudexAveRooms  LongitudexAveBedrms  \\\n",
       "15206            -1053.54         -677.138642          -114.318548   \n",
       "20524            -1215.50         -702.777948          -131.368802   \n",
       "70               -3179.54         -739.517480          -146.362835   \n",
       "10391             -235.30        -1307.161982          -191.926728   \n",
       "15168            -2809.44         -495.713265          -113.476531   \n",
       "...                   ...                 ...                  ...   \n",
       "17510            -4267.20         -439.650909          -147.781818   \n",
       "8688             -4023.56         -596.723868          -121.131038   \n",
       "2039             -1555.97         -692.428815          -120.872123   \n",
       "3240             -1673.84         -542.948100          -124.273835   \n",
       "512              -6355.96        -1125.766080          -127.091420   \n",
       "\n",
       "       LongitudexPopulation  LongitudexAveOccup  LongitudexLatitude  \\\n",
       "15206            -105822.24         -247.827260          -3864.1506   \n",
       "20524            -353588.95         -328.309146          -4685.7525   \n",
       "70                -47937.68         -377.462047          -4623.7849   \n",
       "10391             -82707.95         -381.142627          -3950.6870   \n",
       "15168             -32659.74         -166.631327          -3865.3212   \n",
       "...                     ...                 ...                 ...   \n",
       "17510             -45963.84         -464.281212          -4552.4928   \n",
       "8688              -71122.34         -335.482736          -4008.1758   \n",
       "2039             -161222.43         -398.080074          -4398.6075   \n",
       "3240             -128766.12         -461.527312          -4314.9204   \n",
       "512              -122352.23         -347.591563          -4622.7386   \n",
       "\n",
       "       LongitudexLongitude  \n",
       "15206           13703.0436  \n",
       "20524           14774.4025  \n",
       "70              14954.8441  \n",
       "10391           13841.5225  \n",
       "15168           13703.0436  \n",
       "...                    ...  \n",
       "17510           14864.4864  \n",
       "8688            14004.3556  \n",
       "2039            14325.6961  \n",
       "3240            14294.5936  \n",
       "512             14940.1729  \n",
       "\n",
       "[20637 rows x 72 columns]"
      ]
     },
     "execution_count": 19,
     "metadata": {},
     "output_type": "execute_result"
    }
   ],
   "source": [
    "extended_X_train"
   ]
  },
  {
   "cell_type": "code",
   "execution_count": 20,
   "id": "07f34265",
   "metadata": {},
   "outputs": [
    {
     "data": {
      "text/plain": [
       "(20637, 72)"
      ]
     },
     "execution_count": 20,
     "metadata": {},
     "output_type": "execute_result"
    }
   ],
   "source": [
    "extended_X_train.shape\n",
    "# 특성 확장으로 기존 8 + 새로운 8*8(64) -> 72개 특성"
   ]
  },
  {
   "cell_type": "code",
   "execution_count": 21,
   "id": "4a5e6c24",
   "metadata": {},
   "outputs": [],
   "source": [
    "extended_X_test = X_test.copy()"
   ]
  },
  {
   "cell_type": "code",
   "execution_count": 22,
   "id": "4cfbc589",
   "metadata": {},
   "outputs": [],
   "source": [
    "for col1 in X_test.columns:\n",
    "    for col2 in X_test.columns:\n",
    "        extended_X_test[col1+'x'+col2] = X_test[col1]*X_test[col2]"
   ]
  },
  {
   "cell_type": "code",
   "execution_count": 23,
   "id": "7c05d421",
   "metadata": {},
   "outputs": [
    {
     "data": {
      "text/html": [
       "<div>\n",
       "<style scoped>\n",
       "    .dataframe tbody tr th:only-of-type {\n",
       "        vertical-align: middle;\n",
       "    }\n",
       "\n",
       "    .dataframe tbody tr th {\n",
       "        vertical-align: top;\n",
       "    }\n",
       "\n",
       "    .dataframe thead th {\n",
       "        text-align: right;\n",
       "    }\n",
       "</style>\n",
       "<table border=\"1\" class=\"dataframe\">\n",
       "  <thead>\n",
       "    <tr style=\"text-align: right;\">\n",
       "      <th></th>\n",
       "      <th>MedInc</th>\n",
       "      <th>HouseAge</th>\n",
       "      <th>AveRooms</th>\n",
       "      <th>AveBedrms</th>\n",
       "      <th>Population</th>\n",
       "      <th>AveOccup</th>\n",
       "      <th>Latitude</th>\n",
       "      <th>Longitude</th>\n",
       "      <th>MedIncxMedInc</th>\n",
       "      <th>MedIncxHouseAge</th>\n",
       "      <th>...</th>\n",
       "      <th>LatitudexLatitude</th>\n",
       "      <th>LatitudexLongitude</th>\n",
       "      <th>LongitudexMedInc</th>\n",
       "      <th>LongitudexHouseAge</th>\n",
       "      <th>LongitudexAveRooms</th>\n",
       "      <th>LongitudexAveBedrms</th>\n",
       "      <th>LongitudexPopulation</th>\n",
       "      <th>LongitudexAveOccup</th>\n",
       "      <th>LongitudexLatitude</th>\n",
       "      <th>LongitudexLongitude</th>\n",
       "    </tr>\n",
       "  </thead>\n",
       "  <tbody>\n",
       "    <tr>\n",
       "      <th>2305</th>\n",
       "      <td>4.7804</td>\n",
       "      <td>19.0</td>\n",
       "      <td>6.347059</td>\n",
       "      <td>0.994118</td>\n",
       "      <td>1378.0</td>\n",
       "      <td>2.701961</td>\n",
       "      <td>36.83</td>\n",
       "      <td>-119.77</td>\n",
       "      <td>22.852224</td>\n",
       "      <td>90.8276</td>\n",
       "      <td>...</td>\n",
       "      <td>1356.4489</td>\n",
       "      <td>-4411.1291</td>\n",
       "      <td>-572.548508</td>\n",
       "      <td>-2275.63</td>\n",
       "      <td>-760.187235</td>\n",
       "      <td>-119.065471</td>\n",
       "      <td>-165043.06</td>\n",
       "      <td>-323.613843</td>\n",
       "      <td>-4411.1291</td>\n",
       "      <td>14344.8529</td>\n",
       "    </tr>\n",
       "    <tr>\n",
       "      <th>9978</th>\n",
       "      <td>3.6641</td>\n",
       "      <td>32.0</td>\n",
       "      <td>5.614887</td>\n",
       "      <td>1.071197</td>\n",
       "      <td>785.0</td>\n",
       "      <td>2.540453</td>\n",
       "      <td>38.53</td>\n",
       "      <td>-122.46</td>\n",
       "      <td>13.425629</td>\n",
       "      <td>117.2512</td>\n",
       "      <td>...</td>\n",
       "      <td>1484.5609</td>\n",
       "      <td>-4718.3838</td>\n",
       "      <td>-448.705686</td>\n",
       "      <td>-3918.72</td>\n",
       "      <td>-687.599029</td>\n",
       "      <td>-131.178835</td>\n",
       "      <td>-96131.10</td>\n",
       "      <td>-311.103883</td>\n",
       "      <td>-4718.3838</td>\n",
       "      <td>14996.4516</td>\n",
       "    </tr>\n",
       "    <tr>\n",
       "      <th>5042</th>\n",
       "      <td>1.7067</td>\n",
       "      <td>49.0</td>\n",
       "      <td>4.304878</td>\n",
       "      <td>1.015244</td>\n",
       "      <td>901.0</td>\n",
       "      <td>2.746951</td>\n",
       "      <td>33.98</td>\n",
       "      <td>-118.32</td>\n",
       "      <td>2.912825</td>\n",
       "      <td>83.6283</td>\n",
       "      <td>...</td>\n",
       "      <td>1154.6404</td>\n",
       "      <td>-4020.5136</td>\n",
       "      <td>-201.936744</td>\n",
       "      <td>-5797.68</td>\n",
       "      <td>-509.353171</td>\n",
       "      <td>-120.123659</td>\n",
       "      <td>-106606.32</td>\n",
       "      <td>-325.019268</td>\n",
       "      <td>-4020.5136</td>\n",
       "      <td>13999.6224</td>\n",
       "    </tr>\n",
       "  </tbody>\n",
       "</table>\n",
       "<p>3 rows × 72 columns</p>\n",
       "</div>"
      ],
      "text/plain": [
       "      MedInc  HouseAge  AveRooms  AveBedrms  Population  AveOccup  Latitude  \\\n",
       "2305  4.7804      19.0  6.347059   0.994118      1378.0  2.701961     36.83   \n",
       "9978  3.6641      32.0  5.614887   1.071197       785.0  2.540453     38.53   \n",
       "5042  1.7067      49.0  4.304878   1.015244       901.0  2.746951     33.98   \n",
       "\n",
       "      Longitude  MedIncxMedInc  MedIncxHouseAge  ...  LatitudexLatitude  \\\n",
       "2305    -119.77      22.852224          90.8276  ...          1356.4489   \n",
       "9978    -122.46      13.425629         117.2512  ...          1484.5609   \n",
       "5042    -118.32       2.912825          83.6283  ...          1154.6404   \n",
       "\n",
       "      LatitudexLongitude  LongitudexMedInc  LongitudexHouseAge  \\\n",
       "2305          -4411.1291       -572.548508            -2275.63   \n",
       "9978          -4718.3838       -448.705686            -3918.72   \n",
       "5042          -4020.5136       -201.936744            -5797.68   \n",
       "\n",
       "      LongitudexAveRooms  LongitudexAveBedrms  LongitudexPopulation  \\\n",
       "2305         -760.187235          -119.065471            -165043.06   \n",
       "9978         -687.599029          -131.178835             -96131.10   \n",
       "5042         -509.353171          -120.123659            -106606.32   \n",
       "\n",
       "      LongitudexAveOccup  LongitudexLatitude  LongitudexLongitude  \n",
       "2305         -323.613843          -4411.1291           14344.8529  \n",
       "9978         -311.103883          -4718.3838           14996.4516  \n",
       "5042         -325.019268          -4020.5136           13999.6224  \n",
       "\n",
       "[3 rows x 72 columns]"
      ]
     },
     "execution_count": 23,
     "metadata": {},
     "output_type": "execute_result"
    }
   ],
   "source": [
    "extended_X_test"
   ]
  },
  {
   "cell_type": "code",
   "execution_count": 24,
   "id": "f98e5372",
   "metadata": {},
   "outputs": [
    {
     "data": {
      "text/html": [
       "<style>#sk-container-id-2 {color: black;}#sk-container-id-2 pre{padding: 0;}#sk-container-id-2 div.sk-toggleable {background-color: white;}#sk-container-id-2 label.sk-toggleable__label {cursor: pointer;display: block;width: 100%;margin-bottom: 0;padding: 0.3em;box-sizing: border-box;text-align: center;}#sk-container-id-2 label.sk-toggleable__label-arrow:before {content: \"▸\";float: left;margin-right: 0.25em;color: #696969;}#sk-container-id-2 label.sk-toggleable__label-arrow:hover:before {color: black;}#sk-container-id-2 div.sk-estimator:hover label.sk-toggleable__label-arrow:before {color: black;}#sk-container-id-2 div.sk-toggleable__content {max-height: 0;max-width: 0;overflow: hidden;text-align: left;background-color: #f0f8ff;}#sk-container-id-2 div.sk-toggleable__content pre {margin: 0.2em;color: black;border-radius: 0.25em;background-color: #f0f8ff;}#sk-container-id-2 input.sk-toggleable__control:checked~div.sk-toggleable__content {max-height: 200px;max-width: 100%;overflow: auto;}#sk-container-id-2 input.sk-toggleable__control:checked~label.sk-toggleable__label-arrow:before {content: \"▾\";}#sk-container-id-2 div.sk-estimator input.sk-toggleable__control:checked~label.sk-toggleable__label {background-color: #d4ebff;}#sk-container-id-2 div.sk-label input.sk-toggleable__control:checked~label.sk-toggleable__label {background-color: #d4ebff;}#sk-container-id-2 input.sk-hidden--visually {border: 0;clip: rect(1px 1px 1px 1px);clip: rect(1px, 1px, 1px, 1px);height: 1px;margin: -1px;overflow: hidden;padding: 0;position: absolute;width: 1px;}#sk-container-id-2 div.sk-estimator {font-family: monospace;background-color: #f0f8ff;border: 1px dotted black;border-radius: 0.25em;box-sizing: border-box;margin-bottom: 0.5em;}#sk-container-id-2 div.sk-estimator:hover {background-color: #d4ebff;}#sk-container-id-2 div.sk-parallel-item::after {content: \"\";width: 100%;border-bottom: 1px solid gray;flex-grow: 1;}#sk-container-id-2 div.sk-label:hover label.sk-toggleable__label {background-color: #d4ebff;}#sk-container-id-2 div.sk-serial::before {content: \"\";position: absolute;border-left: 1px solid gray;box-sizing: border-box;top: 0;bottom: 0;left: 50%;z-index: 0;}#sk-container-id-2 div.sk-serial {display: flex;flex-direction: column;align-items: center;background-color: white;padding-right: 0.2em;padding-left: 0.2em;position: relative;}#sk-container-id-2 div.sk-item {position: relative;z-index: 1;}#sk-container-id-2 div.sk-parallel {display: flex;align-items: stretch;justify-content: center;background-color: white;position: relative;}#sk-container-id-2 div.sk-item::before, #sk-container-id-2 div.sk-parallel-item::before {content: \"\";position: absolute;border-left: 1px solid gray;box-sizing: border-box;top: 0;bottom: 0;left: 50%;z-index: -1;}#sk-container-id-2 div.sk-parallel-item {display: flex;flex-direction: column;z-index: 1;position: relative;background-color: white;}#sk-container-id-2 div.sk-parallel-item:first-child::after {align-self: flex-end;width: 50%;}#sk-container-id-2 div.sk-parallel-item:last-child::after {align-self: flex-start;width: 50%;}#sk-container-id-2 div.sk-parallel-item:only-child::after {width: 0;}#sk-container-id-2 div.sk-dashed-wrapped {border: 1px dashed gray;margin: 0 0.4em 0.5em 0.4em;box-sizing: border-box;padding-bottom: 0.4em;background-color: white;}#sk-container-id-2 div.sk-label label {font-family: monospace;font-weight: bold;display: inline-block;line-height: 1.2em;}#sk-container-id-2 div.sk-label-container {text-align: center;}#sk-container-id-2 div.sk-container {/* jupyter's `normalize.less` sets `[hidden] { display: none; }` but bootstrap.min.css set `[hidden] { display: none !important; }` so we also need the `!important` here to be able to override the default hidden behavior on the sphinx rendered scikit-learn.org. See: https://github.com/scikit-learn/scikit-learn/issues/21755 */display: inline-block !important;position: relative;}#sk-container-id-2 div.sk-text-repr-fallback {display: none;}</style><div id=\"sk-container-id-2\" class=\"sk-top-container\"><div class=\"sk-text-repr-fallback\"><pre>LinearRegression()</pre><b>In a Jupyter environment, please rerun this cell to show the HTML representation or trust the notebook. <br />On GitHub, the HTML representation is unable to render, please try loading this page with nbviewer.org.</b></div><div class=\"sk-container\" hidden><div class=\"sk-item\"><div class=\"sk-estimator sk-toggleable\"><input class=\"sk-toggleable__control sk-hidden--visually\" id=\"sk-estimator-id-2\" type=\"checkbox\" checked><label for=\"sk-estimator-id-2\" class=\"sk-toggleable__label sk-toggleable__label-arrow\">LinearRegression</label><div class=\"sk-toggleable__content\"><pre>LinearRegression()</pre></div></div></div></div></div>"
      ],
      "text/plain": [
       "LinearRegression()"
      ]
     },
     "execution_count": 24,
     "metadata": {},
     "output_type": "execute_result"
    }
   ],
   "source": [
    "# 특성 확장시킨 데이터로 새로운 모델 학습하기!\n",
    "linear_model2 = LinearRegression()\n",
    "linear_model2.fit(extended_X_train,y_train)"
   ]
  },
  {
   "cell_type": "code",
   "execution_count": 25,
   "id": "4ab3a4f7",
   "metadata": {},
   "outputs": [
    {
     "data": {
      "text/plain": [
       "0.2254506923000683"
      ]
     },
     "execution_count": 25,
     "metadata": {},
     "output_type": "execute_result"
    }
   ],
   "source": [
    "linear_model2.score(extended_X_test,y_test)"
   ]
  },
  {
   "cell_type": "code",
   "execution_count": 26,
   "id": "eed8b3bd",
   "metadata": {},
   "outputs": [],
   "source": [
    "result2 = cross_val_score(linear_model2, extended_X_train,y_train,cv=5)"
   ]
  },
  {
   "cell_type": "code",
   "execution_count": 27,
   "id": "809ca9e7",
   "metadata": {},
   "outputs": [
    {
     "data": {
      "text/plain": [
       "array([-285.87935455,    0.68160533,    0.65934209,    0.50060114,\n",
       "          0.67289027])"
      ]
     },
     "execution_count": 27,
     "metadata": {},
     "output_type": "execute_result"
    }
   ],
   "source": [
    "result2"
   ]
  },
  {
   "cell_type": "code",
   "execution_count": 28,
   "id": "d9d59ab9",
   "metadata": {},
   "outputs": [
    {
     "data": {
      "text/plain": [
       "-56.67298314386873"
      ]
     },
     "execution_count": 28,
     "metadata": {},
     "output_type": "execute_result"
    }
   ],
   "source": [
    "result2.mean()"
   ]
  },
  {
   "cell_type": "code",
   "execution_count": 29,
   "id": "84854297",
   "metadata": {},
   "outputs": [
    {
     "data": {
      "text/html": [
       "<div>\n",
       "<style scoped>\n",
       "    .dataframe tbody tr th:only-of-type {\n",
       "        vertical-align: middle;\n",
       "    }\n",
       "\n",
       "    .dataframe tbody tr th {\n",
       "        vertical-align: top;\n",
       "    }\n",
       "\n",
       "    .dataframe thead th {\n",
       "        text-align: right;\n",
       "    }\n",
       "</style>\n",
       "<table border=\"1\" class=\"dataframe\">\n",
       "  <thead>\n",
       "    <tr style=\"text-align: right;\">\n",
       "      <th></th>\n",
       "      <th>MedInc</th>\n",
       "      <th>HouseAge</th>\n",
       "      <th>AveRooms</th>\n",
       "      <th>AveBedrms</th>\n",
       "      <th>Population</th>\n",
       "      <th>AveOccup</th>\n",
       "      <th>Latitude</th>\n",
       "      <th>Longitude</th>\n",
       "    </tr>\n",
       "  </thead>\n",
       "  <tbody>\n",
       "    <tr>\n",
       "      <th>count</th>\n",
       "      <td>20637.000000</td>\n",
       "      <td>20637.000000</td>\n",
       "      <td>20637.000000</td>\n",
       "      <td>20637.000000</td>\n",
       "      <td>20637.000000</td>\n",
       "      <td>20637.000000</td>\n",
       "      <td>20637.000000</td>\n",
       "      <td>20637.000000</td>\n",
       "    </tr>\n",
       "    <tr>\n",
       "      <th>mean</th>\n",
       "      <td>3.870742</td>\n",
       "      <td>28.638804</td>\n",
       "      <td>5.429001</td>\n",
       "      <td>1.096685</td>\n",
       "      <td>1425.535495</td>\n",
       "      <td>3.070714</td>\n",
       "      <td>35.631743</td>\n",
       "      <td>-119.569615</td>\n",
       "    </tr>\n",
       "    <tr>\n",
       "      <th>std</th>\n",
       "      <td>1.899889</td>\n",
       "      <td>12.585474</td>\n",
       "      <td>2.474332</td>\n",
       "      <td>0.473944</td>\n",
       "      <td>1132.529725</td>\n",
       "      <td>10.386803</td>\n",
       "      <td>2.135965</td>\n",
       "      <td>2.003557</td>\n",
       "    </tr>\n",
       "    <tr>\n",
       "      <th>min</th>\n",
       "      <td>0.499900</td>\n",
       "      <td>1.000000</td>\n",
       "      <td>0.846154</td>\n",
       "      <td>0.333333</td>\n",
       "      <td>3.000000</td>\n",
       "      <td>0.692308</td>\n",
       "      <td>32.540000</td>\n",
       "      <td>-124.350000</td>\n",
       "    </tr>\n",
       "    <tr>\n",
       "      <th>25%</th>\n",
       "      <td>2.563700</td>\n",
       "      <td>18.000000</td>\n",
       "      <td>4.440748</td>\n",
       "      <td>1.006085</td>\n",
       "      <td>787.000000</td>\n",
       "      <td>2.429603</td>\n",
       "      <td>33.930000</td>\n",
       "      <td>-121.800000</td>\n",
       "    </tr>\n",
       "    <tr>\n",
       "      <th>50%</th>\n",
       "      <td>3.534700</td>\n",
       "      <td>29.000000</td>\n",
       "      <td>5.229091</td>\n",
       "      <td>1.048780</td>\n",
       "      <td>1166.000000</td>\n",
       "      <td>2.818408</td>\n",
       "      <td>34.260000</td>\n",
       "      <td>-118.490000</td>\n",
       "    </tr>\n",
       "    <tr>\n",
       "      <th>75%</th>\n",
       "      <td>4.743100</td>\n",
       "      <td>37.000000</td>\n",
       "      <td>6.052381</td>\n",
       "      <td>1.099526</td>\n",
       "      <td>1725.000000</td>\n",
       "      <td>3.282270</td>\n",
       "      <td>37.710000</td>\n",
       "      <td>-118.010000</td>\n",
       "    </tr>\n",
       "    <tr>\n",
       "      <th>max</th>\n",
       "      <td>15.000100</td>\n",
       "      <td>52.000000</td>\n",
       "      <td>141.909091</td>\n",
       "      <td>34.066667</td>\n",
       "      <td>35682.000000</td>\n",
       "      <td>1243.333333</td>\n",
       "      <td>41.950000</td>\n",
       "      <td>-114.310000</td>\n",
       "    </tr>\n",
       "  </tbody>\n",
       "</table>\n",
       "</div>"
      ],
      "text/plain": [
       "             MedInc      HouseAge      AveRooms     AveBedrms    Population  \\\n",
       "count  20637.000000  20637.000000  20637.000000  20637.000000  20637.000000   \n",
       "mean       3.870742     28.638804      5.429001      1.096685   1425.535495   \n",
       "std        1.899889     12.585474      2.474332      0.473944   1132.529725   \n",
       "min        0.499900      1.000000      0.846154      0.333333      3.000000   \n",
       "25%        2.563700     18.000000      4.440748      1.006085    787.000000   \n",
       "50%        3.534700     29.000000      5.229091      1.048780   1166.000000   \n",
       "75%        4.743100     37.000000      6.052381      1.099526   1725.000000   \n",
       "max       15.000100     52.000000    141.909091     34.066667  35682.000000   \n",
       "\n",
       "           AveOccup      Latitude     Longitude  \n",
       "count  20637.000000  20637.000000  20637.000000  \n",
       "mean       3.070714     35.631743   -119.569615  \n",
       "std       10.386803      2.135965      2.003557  \n",
       "min        0.692308     32.540000   -124.350000  \n",
       "25%        2.429603     33.930000   -121.800000  \n",
       "50%        2.818408     34.260000   -118.490000  \n",
       "75%        3.282270     37.710000   -118.010000  \n",
       "max     1243.333333     41.950000   -114.310000  "
      ]
     },
     "execution_count": 29,
     "metadata": {},
     "output_type": "execute_result"
    }
   ],
   "source": [
    "X_train.describe()"
   ]
  },
  {
   "cell_type": "markdown",
   "id": "86bb46ec",
   "metadata": {},
   "source": [
    "## 4. Scaler 적용\n",
    "- 특성(Feature)들의 범위를 정규화 해주는 작업\n",
    "- 훈련데이터와 테스트데이터에 같은 변환을 적용해야 함!"
   ]
  },
  {
   "cell_type": "code",
   "execution_count": 30,
   "id": "22d19b94",
   "metadata": {},
   "outputs": [],
   "source": [
    "from sklearn.preprocessing import StandardScaler"
   ]
  },
  {
   "cell_type": "code",
   "execution_count": 31,
   "id": "9b3c5cb8",
   "metadata": {},
   "outputs": [],
   "source": [
    "scaler = StandardScaler()"
   ]
  },
  {
   "cell_type": "code",
   "execution_count": 32,
   "id": "ba0a832b",
   "metadata": {},
   "outputs": [
    {
     "data": {
      "text/html": [
       "<style>#sk-container-id-3 {color: black;}#sk-container-id-3 pre{padding: 0;}#sk-container-id-3 div.sk-toggleable {background-color: white;}#sk-container-id-3 label.sk-toggleable__label {cursor: pointer;display: block;width: 100%;margin-bottom: 0;padding: 0.3em;box-sizing: border-box;text-align: center;}#sk-container-id-3 label.sk-toggleable__label-arrow:before {content: \"▸\";float: left;margin-right: 0.25em;color: #696969;}#sk-container-id-3 label.sk-toggleable__label-arrow:hover:before {color: black;}#sk-container-id-3 div.sk-estimator:hover label.sk-toggleable__label-arrow:before {color: black;}#sk-container-id-3 div.sk-toggleable__content {max-height: 0;max-width: 0;overflow: hidden;text-align: left;background-color: #f0f8ff;}#sk-container-id-3 div.sk-toggleable__content pre {margin: 0.2em;color: black;border-radius: 0.25em;background-color: #f0f8ff;}#sk-container-id-3 input.sk-toggleable__control:checked~div.sk-toggleable__content {max-height: 200px;max-width: 100%;overflow: auto;}#sk-container-id-3 input.sk-toggleable__control:checked~label.sk-toggleable__label-arrow:before {content: \"▾\";}#sk-container-id-3 div.sk-estimator input.sk-toggleable__control:checked~label.sk-toggleable__label {background-color: #d4ebff;}#sk-container-id-3 div.sk-label input.sk-toggleable__control:checked~label.sk-toggleable__label {background-color: #d4ebff;}#sk-container-id-3 input.sk-hidden--visually {border: 0;clip: rect(1px 1px 1px 1px);clip: rect(1px, 1px, 1px, 1px);height: 1px;margin: -1px;overflow: hidden;padding: 0;position: absolute;width: 1px;}#sk-container-id-3 div.sk-estimator {font-family: monospace;background-color: #f0f8ff;border: 1px dotted black;border-radius: 0.25em;box-sizing: border-box;margin-bottom: 0.5em;}#sk-container-id-3 div.sk-estimator:hover {background-color: #d4ebff;}#sk-container-id-3 div.sk-parallel-item::after {content: \"\";width: 100%;border-bottom: 1px solid gray;flex-grow: 1;}#sk-container-id-3 div.sk-label:hover label.sk-toggleable__label {background-color: #d4ebff;}#sk-container-id-3 div.sk-serial::before {content: \"\";position: absolute;border-left: 1px solid gray;box-sizing: border-box;top: 0;bottom: 0;left: 50%;z-index: 0;}#sk-container-id-3 div.sk-serial {display: flex;flex-direction: column;align-items: center;background-color: white;padding-right: 0.2em;padding-left: 0.2em;position: relative;}#sk-container-id-3 div.sk-item {position: relative;z-index: 1;}#sk-container-id-3 div.sk-parallel {display: flex;align-items: stretch;justify-content: center;background-color: white;position: relative;}#sk-container-id-3 div.sk-item::before, #sk-container-id-3 div.sk-parallel-item::before {content: \"\";position: absolute;border-left: 1px solid gray;box-sizing: border-box;top: 0;bottom: 0;left: 50%;z-index: -1;}#sk-container-id-3 div.sk-parallel-item {display: flex;flex-direction: column;z-index: 1;position: relative;background-color: white;}#sk-container-id-3 div.sk-parallel-item:first-child::after {align-self: flex-end;width: 50%;}#sk-container-id-3 div.sk-parallel-item:last-child::after {align-self: flex-start;width: 50%;}#sk-container-id-3 div.sk-parallel-item:only-child::after {width: 0;}#sk-container-id-3 div.sk-dashed-wrapped {border: 1px dashed gray;margin: 0 0.4em 0.5em 0.4em;box-sizing: border-box;padding-bottom: 0.4em;background-color: white;}#sk-container-id-3 div.sk-label label {font-family: monospace;font-weight: bold;display: inline-block;line-height: 1.2em;}#sk-container-id-3 div.sk-label-container {text-align: center;}#sk-container-id-3 div.sk-container {/* jupyter's `normalize.less` sets `[hidden] { display: none; }` but bootstrap.min.css set `[hidden] { display: none !important; }` so we also need the `!important` here to be able to override the default hidden behavior on the sphinx rendered scikit-learn.org. See: https://github.com/scikit-learn/scikit-learn/issues/21755 */display: inline-block !important;position: relative;}#sk-container-id-3 div.sk-text-repr-fallback {display: none;}</style><div id=\"sk-container-id-3\" class=\"sk-top-container\"><div class=\"sk-text-repr-fallback\"><pre>StandardScaler()</pre><b>In a Jupyter environment, please rerun this cell to show the HTML representation or trust the notebook. <br />On GitHub, the HTML representation is unable to render, please try loading this page with nbviewer.org.</b></div><div class=\"sk-container\" hidden><div class=\"sk-item\"><div class=\"sk-estimator sk-toggleable\"><input class=\"sk-toggleable__control sk-hidden--visually\" id=\"sk-estimator-id-3\" type=\"checkbox\" checked><label for=\"sk-estimator-id-3\" class=\"sk-toggleable__label sk-toggleable__label-arrow\">StandardScaler</label><div class=\"sk-toggleable__content\"><pre>StandardScaler()</pre></div></div></div></div></div>"
      ],
      "text/plain": [
       "StandardScaler()"
      ]
     },
     "execution_count": 32,
     "metadata": {},
     "output_type": "execute_result"
    }
   ],
   "source": [
    "# 기준은 훈련 데이터!! 테스트X\n",
    "scaler.fit(X_train)"
   ]
  },
  {
   "cell_type": "code",
   "execution_count": 33,
   "id": "abcc7d02",
   "metadata": {},
   "outputs": [
    {
     "data": {
      "text/plain": [
       "array([[ 2.90107247e-01, -1.56047205e+00,  1.43695841e-01, ...,\n",
       "        -9.18127999e-02, -1.22745754e+00,  1.25261029e+00],\n",
       "       [ 1.23830346e-01, -1.48101344e+00,  1.42587626e-01, ...,\n",
       "        -3.55934348e-02,  1.36628060e+00, -9.88458412e-01],\n",
       "       [-1.10474488e+00, -2.09675701e-01,  2.49868793e-01, ...,\n",
       "         1.53080361e-03,  1.01982460e+00, -1.35781049e+00],\n",
       "       ...,\n",
       "       [ 6.94574309e-02, -1.24263761e+00,  1.43955255e-01, ...,\n",
       "         2.45713431e-02,  5.23549794e-01, -6.00869680e-02],\n",
       "       [-1.06363622e+00, -1.16317900e+00, -3.58805362e-01, ...,\n",
       "         7.60118162e-02,  2.14548500e-01,  4.79920827e-03],\n",
       "       [ 4.39144624e+00,  1.85624812e+00,  1.52821778e+00, ...,\n",
       "        -2.18517571e-02,  1.02450644e+00, -1.32786303e+00]])"
      ]
     },
     "execution_count": 33,
     "metadata": {},
     "output_type": "execute_result"
    }
   ],
   "source": [
    "# 데이터 스케일링은 transform 함수에서 진행된다\n",
    "\n",
    "trainsform_X_train=scaler.transform(X_train)\n",
    "trainsform_X_train"
   ]
  },
  {
   "cell_type": "code",
   "execution_count": 34,
   "id": "89f390c6",
   "metadata": {},
   "outputs": [
    {
     "data": {
      "text/plain": [
       "array([[ 0.47880705, -0.76588596,  0.3710417 , -0.21641808, -0.04197386,\n",
       "        -0.03550299,  0.5610045 , -0.10001692],\n",
       "       [-0.10876783,  0.26707595,  0.07512756, -0.05377953, -0.56559311,\n",
       "        -0.05105268,  1.35691692, -1.44266165],\n",
       "       [-1.13906351,  1.6178723 , -0.4543246 , -0.17184162, -0.46316506,\n",
       "        -0.03117138, -0.77331927,  0.6237135 ]])"
      ]
     },
     "execution_count": 34,
     "metadata": {},
     "output_type": "execute_result"
    }
   ],
   "source": [
    "trainsform_X_test=scaler.transform(X_test)\n",
    "trainsform_X_test"
   ]
  },
  {
   "cell_type": "code",
   "execution_count": 35,
   "id": "3fe2e257",
   "metadata": {},
   "outputs": [],
   "source": [
    "# 이번에는 스케일링 된 데이터로 학습을 시켜보자!\n",
    "linear_model3 = LinearRegression()"
   ]
  },
  {
   "cell_type": "code",
   "execution_count": 36,
   "id": "e94d9b6f",
   "metadata": {},
   "outputs": [
    {
     "data": {
      "text/plain": [
       "0.3012213575143775"
      ]
     },
     "execution_count": 36,
     "metadata": {},
     "output_type": "execute_result"
    }
   ],
   "source": [
    "linear_model3.fit(trainsform_X_train,y_train)\n",
    "linear_model3.score(trainsform_X_test,y_test)"
   ]
  },
  {
   "cell_type": "code",
   "execution_count": null,
   "id": "88b3a504",
   "metadata": {},
   "outputs": [],
   "source": []
  },
  {
   "cell_type": "markdown",
   "id": "2c055ec3",
   "metadata": {},
   "source": [
    "## 5. KNN에 스케일링 데이터 적용"
   ]
  },
  {
   "cell_type": "code",
   "execution_count": 37,
   "id": "0ae330e3",
   "metadata": {},
   "outputs": [],
   "source": [
    "from sklearn.neighbors import KNeighborsRegressor"
   ]
  },
  {
   "cell_type": "code",
   "execution_count": 38,
   "id": "f0131e3c",
   "metadata": {},
   "outputs": [],
   "source": [
    "# 1. 원본 데이터"
   ]
  },
  {
   "cell_type": "code",
   "execution_count": 39,
   "id": "96666e3c",
   "metadata": {},
   "outputs": [],
   "source": [
    "knn_model = KNeighborsRegressor()\n",
    "knn_result = cross_val_score(knn_model, X_train, y_train, cv=5)"
   ]
  },
  {
   "cell_type": "code",
   "execution_count": 40,
   "id": "3ab4e39b",
   "metadata": {},
   "outputs": [
    {
     "data": {
      "text/plain": [
       "0.1500409785165306"
      ]
     },
     "execution_count": 40,
     "metadata": {},
     "output_type": "execute_result"
    }
   ],
   "source": [
    "knn_result.mean()"
   ]
  },
  {
   "cell_type": "code",
   "execution_count": 41,
   "id": "01b69d0b",
   "metadata": {},
   "outputs": [],
   "source": [
    "# 2. 스케일링한 데이터"
   ]
  },
  {
   "cell_type": "code",
   "execution_count": 42,
   "id": "bcc4f12f",
   "metadata": {},
   "outputs": [
    {
     "data": {
      "text/plain": [
       "array([0.67116614, 0.68769774, 0.68218734, 0.69489486, 0.69467609])"
      ]
     },
     "execution_count": 42,
     "metadata": {},
     "output_type": "execute_result"
    }
   ],
   "source": [
    "knn_model2 = KNeighborsRegressor()\n",
    "knn_result2 = cross_val_score(knn_model2, trainsform_X_train, y_train, cv=5)\n",
    "knn_result2"
   ]
  },
  {
   "cell_type": "code",
   "execution_count": 43,
   "id": "212da812",
   "metadata": {},
   "outputs": [
    {
     "data": {
      "text/plain": [
       "0.68612443341632"
      ]
     },
     "execution_count": 43,
     "metadata": {},
     "output_type": "execute_result"
    }
   ],
   "source": [
    "knn_result2.mean()"
   ]
  },
  {
   "cell_type": "code",
   "execution_count": null,
   "id": "13a7c1b4",
   "metadata": {},
   "outputs": [],
   "source": []
  }
 ],
 "metadata": {
  "kernelspec": {
   "display_name": "Python 3 (ipykernel)",
   "language": "python",
   "name": "python3"
  },
  "language_info": {
   "codemirror_mode": {
    "name": "ipython",
    "version": 3
   },
   "file_extension": ".py",
   "mimetype": "text/x-python",
   "name": "python",
   "nbconvert_exporter": "python",
   "pygments_lexer": "ipython3",
   "version": "3.8.0"
  }
 },
 "nbformat": 4,
 "nbformat_minor": 5
}
