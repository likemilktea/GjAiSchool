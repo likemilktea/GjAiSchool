{
 "cells": [
  {
   "cell_type": "code",
   "execution_count": 1,
   "id": "930406a7",
   "metadata": {},
   "outputs": [],
   "source": [
    "import numpy as np\n",
    "import pandas as pd\n",
    "import matplotlib.pyplot as plt"
   ]
  },
  {
   "cell_type": "code",
   "execution_count": 2,
   "id": "3eabfdfc",
   "metadata": {},
   "outputs": [
    {
     "data": {
      "text/plain": [
       "dict_keys(['data', 'target', 'frame', 'target_names', 'feature_names', 'DESCR'])"
      ]
     },
     "execution_count": 2,
     "metadata": {},
     "output_type": "execute_result"
    }
   ],
   "source": [
    "from sklearn.datasets import fetch_california_housing\n",
    "housing = fetch_california_housing()\n",
    "housing.keys()"
   ]
  },
  {
   "cell_type": "code",
   "execution_count": 3,
   "id": "2001eaa0",
   "metadata": {},
   "outputs": [
    {
     "name": "stdout",
     "output_type": "stream",
     "text": [
      ".. _california_housing_dataset:\n",
      "\n",
      "California Housing dataset\n",
      "--------------------------\n",
      "\n",
      "**Data Set Characteristics:**\n",
      "\n",
      "    :Number of Instances: 20640\n",
      "\n",
      "    :Number of Attributes: 8 numeric, predictive attributes and the target\n",
      "\n",
      "    :Attribute Information:\n",
      "        - MedInc        median income in block group\n",
      "        - HouseAge      median house age in block group\n",
      "        - AveRooms      average number of rooms per household\n",
      "        - AveBedrms     average number of bedrooms per household\n",
      "        - Population    block group population\n",
      "        - AveOccup      average number of household members\n",
      "        - Latitude      block group latitude\n",
      "        - Longitude     block group longitude\n",
      "\n",
      "    :Missing Attribute Values: None\n",
      "\n",
      "This dataset was obtained from the StatLib repository.\n",
      "https://www.dcc.fc.up.pt/~ltorgo/Regression/cal_housing.html\n",
      "\n",
      "The target variable is the median house value for California districts,\n",
      "expressed in hundreds of thousands of dollars ($100,000).\n",
      "\n",
      "This dataset was derived from the 1990 U.S. census, using one row per census\n",
      "block group. A block group is the smallest geographical unit for which the U.S.\n",
      "Census Bureau publishes sample data (a block group typically has a population\n",
      "of 600 to 3,000 people).\n",
      "\n",
      "A household is a group of people residing within a home. Since the average\n",
      "number of rooms and bedrooms in this dataset are provided per household, these\n",
      "columns may take surprisingly large values for block groups with few households\n",
      "and many empty houses, such as vacation resorts.\n",
      "\n",
      "It can be downloaded/loaded using the\n",
      ":func:`sklearn.datasets.fetch_california_housing` function.\n",
      "\n",
      ".. topic:: References\n",
      "\n",
      "    - Pace, R. Kelley and Ronald Barry, Sparse Spatial Autoregressions,\n",
      "      Statistics and Probability Letters, 33 (1997) 291-297\n",
      "\n"
     ]
    }
   ],
   "source": [
    "print(housing.DESCR)"
   ]
  },
  {
   "cell_type": "code",
   "execution_count": 4,
   "id": "4626d004",
   "metadata": {},
   "outputs": [],
   "source": [
    "# 문제 데이터\n",
    "housing_df=pd.DataFrame(housing.data,columns=housing.feature_names)\n",
    "# 주택에 대한 일반적인 정보"
   ]
  },
  {
   "cell_type": "code",
   "execution_count": 5,
   "id": "707333e5",
   "metadata": {},
   "outputs": [
    {
     "data": {
      "text/html": [
       "<div>\n",
       "<style scoped>\n",
       "    .dataframe tbody tr th:only-of-type {\n",
       "        vertical-align: middle;\n",
       "    }\n",
       "\n",
       "    .dataframe tbody tr th {\n",
       "        vertical-align: top;\n",
       "    }\n",
       "\n",
       "    .dataframe thead th {\n",
       "        text-align: right;\n",
       "    }\n",
       "</style>\n",
       "<table border=\"1\" class=\"dataframe\">\n",
       "  <thead>\n",
       "    <tr style=\"text-align: right;\">\n",
       "      <th></th>\n",
       "      <th>MedInc</th>\n",
       "      <th>HouseAge</th>\n",
       "      <th>AveRooms</th>\n",
       "      <th>AveBedrms</th>\n",
       "      <th>Population</th>\n",
       "      <th>AveOccup</th>\n",
       "      <th>Latitude</th>\n",
       "      <th>Longitude</th>\n",
       "    </tr>\n",
       "  </thead>\n",
       "  <tbody>\n",
       "    <tr>\n",
       "      <th>0</th>\n",
       "      <td>8.3252</td>\n",
       "      <td>41.0</td>\n",
       "      <td>6.984127</td>\n",
       "      <td>1.023810</td>\n",
       "      <td>322.0</td>\n",
       "      <td>2.555556</td>\n",
       "      <td>37.88</td>\n",
       "      <td>-122.23</td>\n",
       "    </tr>\n",
       "    <tr>\n",
       "      <th>1</th>\n",
       "      <td>8.3014</td>\n",
       "      <td>21.0</td>\n",
       "      <td>6.238137</td>\n",
       "      <td>0.971880</td>\n",
       "      <td>2401.0</td>\n",
       "      <td>2.109842</td>\n",
       "      <td>37.86</td>\n",
       "      <td>-122.22</td>\n",
       "    </tr>\n",
       "    <tr>\n",
       "      <th>2</th>\n",
       "      <td>7.2574</td>\n",
       "      <td>52.0</td>\n",
       "      <td>8.288136</td>\n",
       "      <td>1.073446</td>\n",
       "      <td>496.0</td>\n",
       "      <td>2.802260</td>\n",
       "      <td>37.85</td>\n",
       "      <td>-122.24</td>\n",
       "    </tr>\n",
       "    <tr>\n",
       "      <th>3</th>\n",
       "      <td>5.6431</td>\n",
       "      <td>52.0</td>\n",
       "      <td>5.817352</td>\n",
       "      <td>1.073059</td>\n",
       "      <td>558.0</td>\n",
       "      <td>2.547945</td>\n",
       "      <td>37.85</td>\n",
       "      <td>-122.25</td>\n",
       "    </tr>\n",
       "    <tr>\n",
       "      <th>4</th>\n",
       "      <td>3.8462</td>\n",
       "      <td>52.0</td>\n",
       "      <td>6.281853</td>\n",
       "      <td>1.081081</td>\n",
       "      <td>565.0</td>\n",
       "      <td>2.181467</td>\n",
       "      <td>37.85</td>\n",
       "      <td>-122.25</td>\n",
       "    </tr>\n",
       "  </tbody>\n",
       "</table>\n",
       "</div>"
      ],
      "text/plain": [
       "   MedInc  HouseAge  AveRooms  AveBedrms  Population  AveOccup  Latitude  \\\n",
       "0  8.3252      41.0  6.984127   1.023810       322.0  2.555556     37.88   \n",
       "1  8.3014      21.0  6.238137   0.971880      2401.0  2.109842     37.86   \n",
       "2  7.2574      52.0  8.288136   1.073446       496.0  2.802260     37.85   \n",
       "3  5.6431      52.0  5.817352   1.073059       558.0  2.547945     37.85   \n",
       "4  3.8462      52.0  6.281853   1.081081       565.0  2.181467     37.85   \n",
       "\n",
       "   Longitude  \n",
       "0    -122.23  \n",
       "1    -122.22  \n",
       "2    -122.24  \n",
       "3    -122.25  \n",
       "4    -122.25  "
      ]
     },
     "execution_count": 5,
     "metadata": {},
     "output_type": "execute_result"
    }
   ],
   "source": [
    "housing_df.head()"
   ]
  },
  {
   "cell_type": "code",
   "execution_count": 6,
   "id": "d29eef22",
   "metadata": {},
   "outputs": [],
   "source": [
    "# 정답 데이터\n",
    "housing_price=housing.target"
   ]
  },
  {
   "cell_type": "markdown",
   "id": "237b4054",
   "metadata": {},
   "source": [
    "## 1. train test로 분리"
   ]
  },
  {
   "cell_type": "code",
   "execution_count": 7,
   "id": "b3af75b7",
   "metadata": {},
   "outputs": [],
   "source": [
    "from sklearn.model_selection import train_test_split"
   ]
  },
  {
   "cell_type": "code",
   "execution_count": 8,
   "id": "5c6592c0",
   "metadata": {},
   "outputs": [],
   "source": [
    "X_train,X_test,y_train,y_test=train_test_split(housing_df,housing_price, test_size=3)"
   ]
  },
  {
   "cell_type": "markdown",
   "id": "9b67b332",
   "metadata": {},
   "source": [
    "## 2. LinearRegression"
   ]
  },
  {
   "cell_type": "code",
   "execution_count": 9,
   "id": "356a623a",
   "metadata": {},
   "outputs": [],
   "source": [
    "from sklearn.linear_model import LinearRegression"
   ]
  },
  {
   "cell_type": "code",
   "execution_count": 10,
   "id": "696ff419",
   "metadata": {},
   "outputs": [],
   "source": [
    "linear_model = LinearRegression()"
   ]
  },
  {
   "cell_type": "code",
   "execution_count": 11,
   "id": "14092387",
   "metadata": {},
   "outputs": [
    {
     "data": {
      "text/html": [
       "<style>#sk-container-id-1 {color: black;}#sk-container-id-1 pre{padding: 0;}#sk-container-id-1 div.sk-toggleable {background-color: white;}#sk-container-id-1 label.sk-toggleable__label {cursor: pointer;display: block;width: 100%;margin-bottom: 0;padding: 0.3em;box-sizing: border-box;text-align: center;}#sk-container-id-1 label.sk-toggleable__label-arrow:before {content: \"▸\";float: left;margin-right: 0.25em;color: #696969;}#sk-container-id-1 label.sk-toggleable__label-arrow:hover:before {color: black;}#sk-container-id-1 div.sk-estimator:hover label.sk-toggleable__label-arrow:before {color: black;}#sk-container-id-1 div.sk-toggleable__content {max-height: 0;max-width: 0;overflow: hidden;text-align: left;background-color: #f0f8ff;}#sk-container-id-1 div.sk-toggleable__content pre {margin: 0.2em;color: black;border-radius: 0.25em;background-color: #f0f8ff;}#sk-container-id-1 input.sk-toggleable__control:checked~div.sk-toggleable__content {max-height: 200px;max-width: 100%;overflow: auto;}#sk-container-id-1 input.sk-toggleable__control:checked~label.sk-toggleable__label-arrow:before {content: \"▾\";}#sk-container-id-1 div.sk-estimator input.sk-toggleable__control:checked~label.sk-toggleable__label {background-color: #d4ebff;}#sk-container-id-1 div.sk-label input.sk-toggleable__control:checked~label.sk-toggleable__label {background-color: #d4ebff;}#sk-container-id-1 input.sk-hidden--visually {border: 0;clip: rect(1px 1px 1px 1px);clip: rect(1px, 1px, 1px, 1px);height: 1px;margin: -1px;overflow: hidden;padding: 0;position: absolute;width: 1px;}#sk-container-id-1 div.sk-estimator {font-family: monospace;background-color: #f0f8ff;border: 1px dotted black;border-radius: 0.25em;box-sizing: border-box;margin-bottom: 0.5em;}#sk-container-id-1 div.sk-estimator:hover {background-color: #d4ebff;}#sk-container-id-1 div.sk-parallel-item::after {content: \"\";width: 100%;border-bottom: 1px solid gray;flex-grow: 1;}#sk-container-id-1 div.sk-label:hover label.sk-toggleable__label {background-color: #d4ebff;}#sk-container-id-1 div.sk-serial::before {content: \"\";position: absolute;border-left: 1px solid gray;box-sizing: border-box;top: 0;bottom: 0;left: 50%;z-index: 0;}#sk-container-id-1 div.sk-serial {display: flex;flex-direction: column;align-items: center;background-color: white;padding-right: 0.2em;padding-left: 0.2em;position: relative;}#sk-container-id-1 div.sk-item {position: relative;z-index: 1;}#sk-container-id-1 div.sk-parallel {display: flex;align-items: stretch;justify-content: center;background-color: white;position: relative;}#sk-container-id-1 div.sk-item::before, #sk-container-id-1 div.sk-parallel-item::before {content: \"\";position: absolute;border-left: 1px solid gray;box-sizing: border-box;top: 0;bottom: 0;left: 50%;z-index: -1;}#sk-container-id-1 div.sk-parallel-item {display: flex;flex-direction: column;z-index: 1;position: relative;background-color: white;}#sk-container-id-1 div.sk-parallel-item:first-child::after {align-self: flex-end;width: 50%;}#sk-container-id-1 div.sk-parallel-item:last-child::after {align-self: flex-start;width: 50%;}#sk-container-id-1 div.sk-parallel-item:only-child::after {width: 0;}#sk-container-id-1 div.sk-dashed-wrapped {border: 1px dashed gray;margin: 0 0.4em 0.5em 0.4em;box-sizing: border-box;padding-bottom: 0.4em;background-color: white;}#sk-container-id-1 div.sk-label label {font-family: monospace;font-weight: bold;display: inline-block;line-height: 1.2em;}#sk-container-id-1 div.sk-label-container {text-align: center;}#sk-container-id-1 div.sk-container {/* jupyter's `normalize.less` sets `[hidden] { display: none; }` but bootstrap.min.css set `[hidden] { display: none !important; }` so we also need the `!important` here to be able to override the default hidden behavior on the sphinx rendered scikit-learn.org. See: https://github.com/scikit-learn/scikit-learn/issues/21755 */display: inline-block !important;position: relative;}#sk-container-id-1 div.sk-text-repr-fallback {display: none;}</style><div id=\"sk-container-id-1\" class=\"sk-top-container\"><div class=\"sk-text-repr-fallback\"><pre>LinearRegression()</pre><b>In a Jupyter environment, please rerun this cell to show the HTML representation or trust the notebook. <br />On GitHub, the HTML representation is unable to render, please try loading this page with nbviewer.org.</b></div><div class=\"sk-container\" hidden><div class=\"sk-item\"><div class=\"sk-estimator sk-toggleable\"><input class=\"sk-toggleable__control sk-hidden--visually\" id=\"sk-estimator-id-1\" type=\"checkbox\" checked><label for=\"sk-estimator-id-1\" class=\"sk-toggleable__label sk-toggleable__label-arrow\">LinearRegression</label><div class=\"sk-toggleable__content\"><pre>LinearRegression()</pre></div></div></div></div></div>"
      ],
      "text/plain": [
       "LinearRegression()"
      ]
     },
     "execution_count": 11,
     "metadata": {},
     "output_type": "execute_result"
    }
   ],
   "source": [
    "linear_model.fit(X_train,y_train)"
   ]
  },
  {
   "cell_type": "code",
   "execution_count": 12,
   "id": "3b53302a",
   "metadata": {},
   "outputs": [
    {
     "data": {
      "text/plain": [
       "-3.5715289582901413"
      ]
     },
     "execution_count": 12,
     "metadata": {},
     "output_type": "execute_result"
    }
   ],
   "source": [
    "# 회귀 모델의 Score -> R square\n",
    "linear_model.score(X_test, y_test) "
   ]
  },
  {
   "cell_type": "code",
   "execution_count": 13,
   "id": "514c4a51",
   "metadata": {},
   "outputs": [],
   "source": [
    "from sklearn.model_selection import cross_val_score"
   ]
  },
  {
   "cell_type": "code",
   "execution_count": 14,
   "id": "654e36e7",
   "metadata": {},
   "outputs": [],
   "source": [
    "# 교차 검증\n",
    "result = cross_val_score(linear_model,X_train,y_train,cv=5)"
   ]
  },
  {
   "cell_type": "code",
   "execution_count": 15,
   "id": "37dffffc",
   "metadata": {},
   "outputs": [
    {
     "data": {
      "text/plain": [
       "array([0.58990937, 0.614     , 0.62753829, 0.58943942, 0.59377792])"
      ]
     },
     "execution_count": 15,
     "metadata": {},
     "output_type": "execute_result"
    }
   ],
   "source": [
    "result"
   ]
  },
  {
   "cell_type": "code",
   "execution_count": 16,
   "id": "07ede2d3",
   "metadata": {},
   "outputs": [
    {
     "data": {
      "text/plain": [
       "0.6029330000600496"
      ]
     },
     "execution_count": 16,
     "metadata": {},
     "output_type": "execute_result"
    }
   ],
   "source": [
    "result.mean()"
   ]
  },
  {
   "cell_type": "markdown",
   "id": "e704ca07",
   "metadata": {},
   "source": [
    "## 3. 특성 확장"
   ]
  },
  {
   "cell_type": "code",
   "execution_count": 17,
   "id": "eeb5e475",
   "metadata": {},
   "outputs": [
    {
     "data": {
      "text/html": [
       "<div>\n",
       "<style scoped>\n",
       "    .dataframe tbody tr th:only-of-type {\n",
       "        vertical-align: middle;\n",
       "    }\n",
       "\n",
       "    .dataframe tbody tr th {\n",
       "        vertical-align: top;\n",
       "    }\n",
       "\n",
       "    .dataframe thead th {\n",
       "        text-align: right;\n",
       "    }\n",
       "</style>\n",
       "<table border=\"1\" class=\"dataframe\">\n",
       "  <thead>\n",
       "    <tr style=\"text-align: right;\">\n",
       "      <th></th>\n",
       "      <th>MedInc</th>\n",
       "      <th>HouseAge</th>\n",
       "      <th>AveRooms</th>\n",
       "      <th>AveBedrms</th>\n",
       "      <th>Population</th>\n",
       "      <th>AveOccup</th>\n",
       "      <th>Latitude</th>\n",
       "      <th>Longitude</th>\n",
       "    </tr>\n",
       "  </thead>\n",
       "  <tbody>\n",
       "    <tr>\n",
       "      <th>16810</th>\n",
       "      <td>3.5039</td>\n",
       "      <td>32.0</td>\n",
       "      <td>4.205630</td>\n",
       "      <td>1.062424</td>\n",
       "      <td>2583.0</td>\n",
       "      <td>3.161567</td>\n",
       "      <td>37.65</td>\n",
       "      <td>-122.41</td>\n",
       "    </tr>\n",
       "    <tr>\n",
       "      <th>18670</th>\n",
       "      <td>4.8953</td>\n",
       "      <td>21.0</td>\n",
       "      <td>5.395806</td>\n",
       "      <td>0.985583</td>\n",
       "      <td>2001.0</td>\n",
       "      <td>2.622543</td>\n",
       "      <td>36.98</td>\n",
       "      <td>-121.88</td>\n",
       "    </tr>\n",
       "    <tr>\n",
       "      <th>20348</th>\n",
       "      <td>2.8942</td>\n",
       "      <td>39.0</td>\n",
       "      <td>4.333333</td>\n",
       "      <td>1.090909</td>\n",
       "      <td>113.0</td>\n",
       "      <td>3.424242</td>\n",
       "      <td>34.19</td>\n",
       "      <td>-119.05</td>\n",
       "    </tr>\n",
       "    <tr>\n",
       "      <th>20059</th>\n",
       "      <td>1.6300</td>\n",
       "      <td>12.0</td>\n",
       "      <td>3.398601</td>\n",
       "      <td>0.940559</td>\n",
       "      <td>1134.0</td>\n",
       "      <td>3.965035</td>\n",
       "      <td>35.87</td>\n",
       "      <td>-119.27</td>\n",
       "    </tr>\n",
       "    <tr>\n",
       "      <th>2470</th>\n",
       "      <td>2.4814</td>\n",
       "      <td>20.0</td>\n",
       "      <td>5.389972</td>\n",
       "      <td>1.011142</td>\n",
       "      <td>1319.0</td>\n",
       "      <td>3.674095</td>\n",
       "      <td>36.58</td>\n",
       "      <td>-119.90</td>\n",
       "    </tr>\n",
       "    <tr>\n",
       "      <th>...</th>\n",
       "      <td>...</td>\n",
       "      <td>...</td>\n",
       "      <td>...</td>\n",
       "      <td>...</td>\n",
       "      <td>...</td>\n",
       "      <td>...</td>\n",
       "      <td>...</td>\n",
       "      <td>...</td>\n",
       "    </tr>\n",
       "    <tr>\n",
       "      <th>16817</th>\n",
       "      <td>5.3922</td>\n",
       "      <td>26.0</td>\n",
       "      <td>7.085859</td>\n",
       "      <td>0.946970</td>\n",
       "      <td>1617.0</td>\n",
       "      <td>4.083333</td>\n",
       "      <td>37.64</td>\n",
       "      <td>-122.46</td>\n",
       "    </tr>\n",
       "    <tr>\n",
       "      <th>20346</th>\n",
       "      <td>3.1446</td>\n",
       "      <td>13.0</td>\n",
       "      <td>3.284815</td>\n",
       "      <td>1.039339</td>\n",
       "      <td>2257.0</td>\n",
       "      <td>1.775767</td>\n",
       "      <td>34.22</td>\n",
       "      <td>-119.06</td>\n",
       "    </tr>\n",
       "    <tr>\n",
       "      <th>48</th>\n",
       "      <td>0.9506</td>\n",
       "      <td>40.0</td>\n",
       "      <td>3.900000</td>\n",
       "      <td>1.218750</td>\n",
       "      <td>423.0</td>\n",
       "      <td>2.643750</td>\n",
       "      <td>37.82</td>\n",
       "      <td>-122.26</td>\n",
       "    </tr>\n",
       "    <tr>\n",
       "      <th>3334</th>\n",
       "      <td>4.1250</td>\n",
       "      <td>30.0</td>\n",
       "      <td>5.384615</td>\n",
       "      <td>2.923077</td>\n",
       "      <td>20.0</td>\n",
       "      <td>1.538462</td>\n",
       "      <td>38.92</td>\n",
       "      <td>-122.65</td>\n",
       "    </tr>\n",
       "    <tr>\n",
       "      <th>5370</th>\n",
       "      <td>2.2961</td>\n",
       "      <td>35.0</td>\n",
       "      <td>4.119705</td>\n",
       "      <td>1.090239</td>\n",
       "      <td>1794.0</td>\n",
       "      <td>3.303867</td>\n",
       "      <td>34.04</td>\n",
       "      <td>-118.38</td>\n",
       "    </tr>\n",
       "  </tbody>\n",
       "</table>\n",
       "<p>20637 rows × 8 columns</p>\n",
       "</div>"
      ],
      "text/plain": [
       "       MedInc  HouseAge  AveRooms  AveBedrms  Population  AveOccup  Latitude  \\\n",
       "16810  3.5039      32.0  4.205630   1.062424      2583.0  3.161567     37.65   \n",
       "18670  4.8953      21.0  5.395806   0.985583      2001.0  2.622543     36.98   \n",
       "20348  2.8942      39.0  4.333333   1.090909       113.0  3.424242     34.19   \n",
       "20059  1.6300      12.0  3.398601   0.940559      1134.0  3.965035     35.87   \n",
       "2470   2.4814      20.0  5.389972   1.011142      1319.0  3.674095     36.58   \n",
       "...       ...       ...       ...        ...         ...       ...       ...   \n",
       "16817  5.3922      26.0  7.085859   0.946970      1617.0  4.083333     37.64   \n",
       "20346  3.1446      13.0  3.284815   1.039339      2257.0  1.775767     34.22   \n",
       "48     0.9506      40.0  3.900000   1.218750       423.0  2.643750     37.82   \n",
       "3334   4.1250      30.0  5.384615   2.923077        20.0  1.538462     38.92   \n",
       "5370   2.2961      35.0  4.119705   1.090239      1794.0  3.303867     34.04   \n",
       "\n",
       "       Longitude  \n",
       "16810    -122.41  \n",
       "18670    -121.88  \n",
       "20348    -119.05  \n",
       "20059    -119.27  \n",
       "2470     -119.90  \n",
       "...          ...  \n",
       "16817    -122.46  \n",
       "20346    -119.06  \n",
       "48       -122.26  \n",
       "3334     -122.65  \n",
       "5370     -118.38  \n",
       "\n",
       "[20637 rows x 8 columns]"
      ]
     },
     "execution_count": 17,
     "metadata": {},
     "output_type": "execute_result"
    }
   ],
   "source": [
    "# 복사!\n",
    "extended_X_train = X_train.copy()\n",
    "extended_X_train"
   ]
  },
  {
   "cell_type": "code",
   "execution_count": 18,
   "id": "17c89048",
   "metadata": {},
   "outputs": [],
   "source": [
    "for col1 in X_train.columns:\n",
    "    for col2 in X_train.columns:\n",
    "        extended_X_train[col1+'x'+col2] = X_train[col1]*X_train[col2]"
   ]
  },
  {
   "cell_type": "code",
   "execution_count": 19,
   "id": "379bef0f",
   "metadata": {},
   "outputs": [
    {
     "data": {
      "text/html": [
       "<div>\n",
       "<style scoped>\n",
       "    .dataframe tbody tr th:only-of-type {\n",
       "        vertical-align: middle;\n",
       "    }\n",
       "\n",
       "    .dataframe tbody tr th {\n",
       "        vertical-align: top;\n",
       "    }\n",
       "\n",
       "    .dataframe thead th {\n",
       "        text-align: right;\n",
       "    }\n",
       "</style>\n",
       "<table border=\"1\" class=\"dataframe\">\n",
       "  <thead>\n",
       "    <tr style=\"text-align: right;\">\n",
       "      <th></th>\n",
       "      <th>MedInc</th>\n",
       "      <th>HouseAge</th>\n",
       "      <th>AveRooms</th>\n",
       "      <th>AveBedrms</th>\n",
       "      <th>Population</th>\n",
       "      <th>AveOccup</th>\n",
       "      <th>Latitude</th>\n",
       "      <th>Longitude</th>\n",
       "      <th>MedIncxMedInc</th>\n",
       "      <th>MedIncxHouseAge</th>\n",
       "      <th>...</th>\n",
       "      <th>LatitudexLatitude</th>\n",
       "      <th>LatitudexLongitude</th>\n",
       "      <th>LongitudexMedInc</th>\n",
       "      <th>LongitudexHouseAge</th>\n",
       "      <th>LongitudexAveRooms</th>\n",
       "      <th>LongitudexAveBedrms</th>\n",
       "      <th>LongitudexPopulation</th>\n",
       "      <th>LongitudexAveOccup</th>\n",
       "      <th>LongitudexLatitude</th>\n",
       "      <th>LongitudexLongitude</th>\n",
       "    </tr>\n",
       "  </thead>\n",
       "  <tbody>\n",
       "    <tr>\n",
       "      <th>16810</th>\n",
       "      <td>3.5039</td>\n",
       "      <td>32.0</td>\n",
       "      <td>4.205630</td>\n",
       "      <td>1.062424</td>\n",
       "      <td>2583.0</td>\n",
       "      <td>3.161567</td>\n",
       "      <td>37.65</td>\n",
       "      <td>-122.41</td>\n",
       "      <td>12.277315</td>\n",
       "      <td>112.1248</td>\n",
       "      <td>...</td>\n",
       "      <td>1417.5225</td>\n",
       "      <td>-4608.7365</td>\n",
       "      <td>-428.912399</td>\n",
       "      <td>-3917.12</td>\n",
       "      <td>-514.811212</td>\n",
       "      <td>-130.051261</td>\n",
       "      <td>-316185.03</td>\n",
       "      <td>-387.007381</td>\n",
       "      <td>-4608.7365</td>\n",
       "      <td>14984.2081</td>\n",
       "    </tr>\n",
       "    <tr>\n",
       "      <th>18670</th>\n",
       "      <td>4.8953</td>\n",
       "      <td>21.0</td>\n",
       "      <td>5.395806</td>\n",
       "      <td>0.985583</td>\n",
       "      <td>2001.0</td>\n",
       "      <td>2.622543</td>\n",
       "      <td>36.98</td>\n",
       "      <td>-121.88</td>\n",
       "      <td>23.963962</td>\n",
       "      <td>102.8013</td>\n",
       "      <td>...</td>\n",
       "      <td>1367.5204</td>\n",
       "      <td>-4507.1224</td>\n",
       "      <td>-596.639164</td>\n",
       "      <td>-2559.48</td>\n",
       "      <td>-657.640839</td>\n",
       "      <td>-120.122883</td>\n",
       "      <td>-243881.88</td>\n",
       "      <td>-319.635491</td>\n",
       "      <td>-4507.1224</td>\n",
       "      <td>14854.7344</td>\n",
       "    </tr>\n",
       "    <tr>\n",
       "      <th>20348</th>\n",
       "      <td>2.8942</td>\n",
       "      <td>39.0</td>\n",
       "      <td>4.333333</td>\n",
       "      <td>1.090909</td>\n",
       "      <td>113.0</td>\n",
       "      <td>3.424242</td>\n",
       "      <td>34.19</td>\n",
       "      <td>-119.05</td>\n",
       "      <td>8.376394</td>\n",
       "      <td>112.8738</td>\n",
       "      <td>...</td>\n",
       "      <td>1168.9561</td>\n",
       "      <td>-4070.3195</td>\n",
       "      <td>-344.554510</td>\n",
       "      <td>-4642.95</td>\n",
       "      <td>-515.883333</td>\n",
       "      <td>-129.872727</td>\n",
       "      <td>-13452.65</td>\n",
       "      <td>-407.656061</td>\n",
       "      <td>-4070.3195</td>\n",
       "      <td>14172.9025</td>\n",
       "    </tr>\n",
       "    <tr>\n",
       "      <th>20059</th>\n",
       "      <td>1.6300</td>\n",
       "      <td>12.0</td>\n",
       "      <td>3.398601</td>\n",
       "      <td>0.940559</td>\n",
       "      <td>1134.0</td>\n",
       "      <td>3.965035</td>\n",
       "      <td>35.87</td>\n",
       "      <td>-119.27</td>\n",
       "      <td>2.656900</td>\n",
       "      <td>19.5600</td>\n",
       "      <td>...</td>\n",
       "      <td>1286.6569</td>\n",
       "      <td>-4278.2149</td>\n",
       "      <td>-194.410100</td>\n",
       "      <td>-1431.24</td>\n",
       "      <td>-405.351189</td>\n",
       "      <td>-112.180524</td>\n",
       "      <td>-135252.18</td>\n",
       "      <td>-472.909720</td>\n",
       "      <td>-4278.2149</td>\n",
       "      <td>14225.3329</td>\n",
       "    </tr>\n",
       "    <tr>\n",
       "      <th>2470</th>\n",
       "      <td>2.4814</td>\n",
       "      <td>20.0</td>\n",
       "      <td>5.389972</td>\n",
       "      <td>1.011142</td>\n",
       "      <td>1319.0</td>\n",
       "      <td>3.674095</td>\n",
       "      <td>36.58</td>\n",
       "      <td>-119.90</td>\n",
       "      <td>6.157346</td>\n",
       "      <td>49.6280</td>\n",
       "      <td>...</td>\n",
       "      <td>1338.0964</td>\n",
       "      <td>-4385.9420</td>\n",
       "      <td>-297.519860</td>\n",
       "      <td>-2398.00</td>\n",
       "      <td>-646.257660</td>\n",
       "      <td>-121.235933</td>\n",
       "      <td>-158148.10</td>\n",
       "      <td>-440.523955</td>\n",
       "      <td>-4385.9420</td>\n",
       "      <td>14376.0100</td>\n",
       "    </tr>\n",
       "    <tr>\n",
       "      <th>...</th>\n",
       "      <td>...</td>\n",
       "      <td>...</td>\n",
       "      <td>...</td>\n",
       "      <td>...</td>\n",
       "      <td>...</td>\n",
       "      <td>...</td>\n",
       "      <td>...</td>\n",
       "      <td>...</td>\n",
       "      <td>...</td>\n",
       "      <td>...</td>\n",
       "      <td>...</td>\n",
       "      <td>...</td>\n",
       "      <td>...</td>\n",
       "      <td>...</td>\n",
       "      <td>...</td>\n",
       "      <td>...</td>\n",
       "      <td>...</td>\n",
       "      <td>...</td>\n",
       "      <td>...</td>\n",
       "      <td>...</td>\n",
       "      <td>...</td>\n",
       "    </tr>\n",
       "    <tr>\n",
       "      <th>16817</th>\n",
       "      <td>5.3922</td>\n",
       "      <td>26.0</td>\n",
       "      <td>7.085859</td>\n",
       "      <td>0.946970</td>\n",
       "      <td>1617.0</td>\n",
       "      <td>4.083333</td>\n",
       "      <td>37.64</td>\n",
       "      <td>-122.46</td>\n",
       "      <td>29.075821</td>\n",
       "      <td>140.1972</td>\n",
       "      <td>...</td>\n",
       "      <td>1416.7696</td>\n",
       "      <td>-4609.3944</td>\n",
       "      <td>-660.328812</td>\n",
       "      <td>-3183.96</td>\n",
       "      <td>-867.734242</td>\n",
       "      <td>-115.965909</td>\n",
       "      <td>-198017.82</td>\n",
       "      <td>-500.045000</td>\n",
       "      <td>-4609.3944</td>\n",
       "      <td>14996.4516</td>\n",
       "    </tr>\n",
       "    <tr>\n",
       "      <th>20346</th>\n",
       "      <td>3.1446</td>\n",
       "      <td>13.0</td>\n",
       "      <td>3.284815</td>\n",
       "      <td>1.039339</td>\n",
       "      <td>2257.0</td>\n",
       "      <td>1.775767</td>\n",
       "      <td>34.22</td>\n",
       "      <td>-119.06</td>\n",
       "      <td>9.888509</td>\n",
       "      <td>40.8798</td>\n",
       "      <td>...</td>\n",
       "      <td>1171.0084</td>\n",
       "      <td>-4074.2332</td>\n",
       "      <td>-374.396076</td>\n",
       "      <td>-1547.78</td>\n",
       "      <td>-391.090087</td>\n",
       "      <td>-123.743714</td>\n",
       "      <td>-268718.42</td>\n",
       "      <td>-211.422832</td>\n",
       "      <td>-4074.2332</td>\n",
       "      <td>14175.2836</td>\n",
       "    </tr>\n",
       "    <tr>\n",
       "      <th>48</th>\n",
       "      <td>0.9506</td>\n",
       "      <td>40.0</td>\n",
       "      <td>3.900000</td>\n",
       "      <td>1.218750</td>\n",
       "      <td>423.0</td>\n",
       "      <td>2.643750</td>\n",
       "      <td>37.82</td>\n",
       "      <td>-122.26</td>\n",
       "      <td>0.903640</td>\n",
       "      <td>38.0240</td>\n",
       "      <td>...</td>\n",
       "      <td>1430.3524</td>\n",
       "      <td>-4623.8732</td>\n",
       "      <td>-116.220356</td>\n",
       "      <td>-4890.40</td>\n",
       "      <td>-476.814000</td>\n",
       "      <td>-149.004375</td>\n",
       "      <td>-51715.98</td>\n",
       "      <td>-323.224875</td>\n",
       "      <td>-4623.8732</td>\n",
       "      <td>14947.5076</td>\n",
       "    </tr>\n",
       "    <tr>\n",
       "      <th>3334</th>\n",
       "      <td>4.1250</td>\n",
       "      <td>30.0</td>\n",
       "      <td>5.384615</td>\n",
       "      <td>2.923077</td>\n",
       "      <td>20.0</td>\n",
       "      <td>1.538462</td>\n",
       "      <td>38.92</td>\n",
       "      <td>-122.65</td>\n",
       "      <td>17.015625</td>\n",
       "      <td>123.7500</td>\n",
       "      <td>...</td>\n",
       "      <td>1514.7664</td>\n",
       "      <td>-4773.5380</td>\n",
       "      <td>-505.931250</td>\n",
       "      <td>-3679.50</td>\n",
       "      <td>-660.423077</td>\n",
       "      <td>-358.515385</td>\n",
       "      <td>-2453.00</td>\n",
       "      <td>-188.692308</td>\n",
       "      <td>-4773.5380</td>\n",
       "      <td>15043.0225</td>\n",
       "    </tr>\n",
       "    <tr>\n",
       "      <th>5370</th>\n",
       "      <td>2.2961</td>\n",
       "      <td>35.0</td>\n",
       "      <td>4.119705</td>\n",
       "      <td>1.090239</td>\n",
       "      <td>1794.0</td>\n",
       "      <td>3.303867</td>\n",
       "      <td>34.04</td>\n",
       "      <td>-118.38</td>\n",
       "      <td>5.272075</td>\n",
       "      <td>80.3635</td>\n",
       "      <td>...</td>\n",
       "      <td>1158.7216</td>\n",
       "      <td>-4029.6552</td>\n",
       "      <td>-271.812318</td>\n",
       "      <td>-4143.30</td>\n",
       "      <td>-487.690718</td>\n",
       "      <td>-129.062541</td>\n",
       "      <td>-212373.72</td>\n",
       "      <td>-391.111823</td>\n",
       "      <td>-4029.6552</td>\n",
       "      <td>14013.8244</td>\n",
       "    </tr>\n",
       "  </tbody>\n",
       "</table>\n",
       "<p>20637 rows × 72 columns</p>\n",
       "</div>"
      ],
      "text/plain": [
       "       MedInc  HouseAge  AveRooms  AveBedrms  Population  AveOccup  Latitude  \\\n",
       "16810  3.5039      32.0  4.205630   1.062424      2583.0  3.161567     37.65   \n",
       "18670  4.8953      21.0  5.395806   0.985583      2001.0  2.622543     36.98   \n",
       "20348  2.8942      39.0  4.333333   1.090909       113.0  3.424242     34.19   \n",
       "20059  1.6300      12.0  3.398601   0.940559      1134.0  3.965035     35.87   \n",
       "2470   2.4814      20.0  5.389972   1.011142      1319.0  3.674095     36.58   \n",
       "...       ...       ...       ...        ...         ...       ...       ...   \n",
       "16817  5.3922      26.0  7.085859   0.946970      1617.0  4.083333     37.64   \n",
       "20346  3.1446      13.0  3.284815   1.039339      2257.0  1.775767     34.22   \n",
       "48     0.9506      40.0  3.900000   1.218750       423.0  2.643750     37.82   \n",
       "3334   4.1250      30.0  5.384615   2.923077        20.0  1.538462     38.92   \n",
       "5370   2.2961      35.0  4.119705   1.090239      1794.0  3.303867     34.04   \n",
       "\n",
       "       Longitude  MedIncxMedInc  MedIncxHouseAge  ...  LatitudexLatitude  \\\n",
       "16810    -122.41      12.277315         112.1248  ...          1417.5225   \n",
       "18670    -121.88      23.963962         102.8013  ...          1367.5204   \n",
       "20348    -119.05       8.376394         112.8738  ...          1168.9561   \n",
       "20059    -119.27       2.656900          19.5600  ...          1286.6569   \n",
       "2470     -119.90       6.157346          49.6280  ...          1338.0964   \n",
       "...          ...            ...              ...  ...                ...   \n",
       "16817    -122.46      29.075821         140.1972  ...          1416.7696   \n",
       "20346    -119.06       9.888509          40.8798  ...          1171.0084   \n",
       "48       -122.26       0.903640          38.0240  ...          1430.3524   \n",
       "3334     -122.65      17.015625         123.7500  ...          1514.7664   \n",
       "5370     -118.38       5.272075          80.3635  ...          1158.7216   \n",
       "\n",
       "       LatitudexLongitude  LongitudexMedInc  LongitudexHouseAge  \\\n",
       "16810          -4608.7365       -428.912399            -3917.12   \n",
       "18670          -4507.1224       -596.639164            -2559.48   \n",
       "20348          -4070.3195       -344.554510            -4642.95   \n",
       "20059          -4278.2149       -194.410100            -1431.24   \n",
       "2470           -4385.9420       -297.519860            -2398.00   \n",
       "...                   ...               ...                 ...   \n",
       "16817          -4609.3944       -660.328812            -3183.96   \n",
       "20346          -4074.2332       -374.396076            -1547.78   \n",
       "48             -4623.8732       -116.220356            -4890.40   \n",
       "3334           -4773.5380       -505.931250            -3679.50   \n",
       "5370           -4029.6552       -271.812318            -4143.30   \n",
       "\n",
       "       LongitudexAveRooms  LongitudexAveBedrms  LongitudexPopulation  \\\n",
       "16810         -514.811212          -130.051261            -316185.03   \n",
       "18670         -657.640839          -120.122883            -243881.88   \n",
       "20348         -515.883333          -129.872727             -13452.65   \n",
       "20059         -405.351189          -112.180524            -135252.18   \n",
       "2470          -646.257660          -121.235933            -158148.10   \n",
       "...                   ...                  ...                   ...   \n",
       "16817         -867.734242          -115.965909            -198017.82   \n",
       "20346         -391.090087          -123.743714            -268718.42   \n",
       "48            -476.814000          -149.004375             -51715.98   \n",
       "3334          -660.423077          -358.515385              -2453.00   \n",
       "5370          -487.690718          -129.062541            -212373.72   \n",
       "\n",
       "       LongitudexAveOccup  LongitudexLatitude  LongitudexLongitude  \n",
       "16810         -387.007381          -4608.7365           14984.2081  \n",
       "18670         -319.635491          -4507.1224           14854.7344  \n",
       "20348         -407.656061          -4070.3195           14172.9025  \n",
       "20059         -472.909720          -4278.2149           14225.3329  \n",
       "2470          -440.523955          -4385.9420           14376.0100  \n",
       "...                   ...                 ...                  ...  \n",
       "16817         -500.045000          -4609.3944           14996.4516  \n",
       "20346         -211.422832          -4074.2332           14175.2836  \n",
       "48            -323.224875          -4623.8732           14947.5076  \n",
       "3334          -188.692308          -4773.5380           15043.0225  \n",
       "5370          -391.111823          -4029.6552           14013.8244  \n",
       "\n",
       "[20637 rows x 72 columns]"
      ]
     },
     "execution_count": 19,
     "metadata": {},
     "output_type": "execute_result"
    }
   ],
   "source": [
    "extended_X_train"
   ]
  },
  {
   "cell_type": "code",
   "execution_count": 20,
   "id": "07f34265",
   "metadata": {},
   "outputs": [
    {
     "data": {
      "text/plain": [
       "(20637, 72)"
      ]
     },
     "execution_count": 20,
     "metadata": {},
     "output_type": "execute_result"
    }
   ],
   "source": [
    "extended_X_train.shape\n",
    "# 특성 확장으로 기존 8 + 새로운 8*8(64) -> 72개 특성"
   ]
  },
  {
   "cell_type": "code",
   "execution_count": 21,
   "id": "4a5e6c24",
   "metadata": {},
   "outputs": [],
   "source": [
    "extended_X_test = X_test.copy()"
   ]
  },
  {
   "cell_type": "code",
   "execution_count": 22,
   "id": "4cfbc589",
   "metadata": {},
   "outputs": [],
   "source": [
    "for col1 in X_test.columns:\n",
    "    for col2 in X_test.columns:\n",
    "        extended_X_test[col1+'x'+col2] = X_test[col1]*X_test[col2]"
   ]
  },
  {
   "cell_type": "code",
   "execution_count": 23,
   "id": "7c05d421",
   "metadata": {},
   "outputs": [
    {
     "data": {
      "text/html": [
       "<div>\n",
       "<style scoped>\n",
       "    .dataframe tbody tr th:only-of-type {\n",
       "        vertical-align: middle;\n",
       "    }\n",
       "\n",
       "    .dataframe tbody tr th {\n",
       "        vertical-align: top;\n",
       "    }\n",
       "\n",
       "    .dataframe thead th {\n",
       "        text-align: right;\n",
       "    }\n",
       "</style>\n",
       "<table border=\"1\" class=\"dataframe\">\n",
       "  <thead>\n",
       "    <tr style=\"text-align: right;\">\n",
       "      <th></th>\n",
       "      <th>MedInc</th>\n",
       "      <th>HouseAge</th>\n",
       "      <th>AveRooms</th>\n",
       "      <th>AveBedrms</th>\n",
       "      <th>Population</th>\n",
       "      <th>AveOccup</th>\n",
       "      <th>Latitude</th>\n",
       "      <th>Longitude</th>\n",
       "      <th>MedIncxMedInc</th>\n",
       "      <th>MedIncxHouseAge</th>\n",
       "      <th>...</th>\n",
       "      <th>LatitudexLatitude</th>\n",
       "      <th>LatitudexLongitude</th>\n",
       "      <th>LongitudexMedInc</th>\n",
       "      <th>LongitudexHouseAge</th>\n",
       "      <th>LongitudexAveRooms</th>\n",
       "      <th>LongitudexAveBedrms</th>\n",
       "      <th>LongitudexPopulation</th>\n",
       "      <th>LongitudexAveOccup</th>\n",
       "      <th>LongitudexLatitude</th>\n",
       "      <th>LongitudexLongitude</th>\n",
       "    </tr>\n",
       "  </thead>\n",
       "  <tbody>\n",
       "    <tr>\n",
       "      <th>11692</th>\n",
       "      <td>3.5900</td>\n",
       "      <td>34.0</td>\n",
       "      <td>4.257732</td>\n",
       "      <td>1.054983</td>\n",
       "      <td>869.0</td>\n",
       "      <td>2.986254</td>\n",
       "      <td>33.87</td>\n",
       "      <td>-117.99</td>\n",
       "      <td>12.888100</td>\n",
       "      <td>122.0600</td>\n",
       "      <td>...</td>\n",
       "      <td>1147.1769</td>\n",
       "      <td>-3996.3213</td>\n",
       "      <td>-423.584100</td>\n",
       "      <td>-4011.66</td>\n",
       "      <td>-502.369794</td>\n",
       "      <td>-124.477423</td>\n",
       "      <td>-102533.31</td>\n",
       "      <td>-352.348144</td>\n",
       "      <td>-3996.3213</td>\n",
       "      <td>13921.6401</td>\n",
       "    </tr>\n",
       "    <tr>\n",
       "      <th>19211</th>\n",
       "      <td>3.0444</td>\n",
       "      <td>36.0</td>\n",
       "      <td>4.559748</td>\n",
       "      <td>1.081761</td>\n",
       "      <td>1087.0</td>\n",
       "      <td>2.278826</td>\n",
       "      <td>38.46</td>\n",
       "      <td>-122.71</td>\n",
       "      <td>9.268371</td>\n",
       "      <td>109.5984</td>\n",
       "      <td>...</td>\n",
       "      <td>1479.1716</td>\n",
       "      <td>-4719.4266</td>\n",
       "      <td>-373.578324</td>\n",
       "      <td>-4417.56</td>\n",
       "      <td>-559.526730</td>\n",
       "      <td>-132.742893</td>\n",
       "      <td>-133385.77</td>\n",
       "      <td>-279.634738</td>\n",
       "      <td>-4719.4266</td>\n",
       "      <td>15057.7441</td>\n",
       "    </tr>\n",
       "    <tr>\n",
       "      <th>5193</th>\n",
       "      <td>2.5000</td>\n",
       "      <td>42.0</td>\n",
       "      <td>4.977273</td>\n",
       "      <td>1.113636</td>\n",
       "      <td>526.0</td>\n",
       "      <td>3.984848</td>\n",
       "      <td>33.93</td>\n",
       "      <td>-118.25</td>\n",
       "      <td>6.250000</td>\n",
       "      <td>105.0000</td>\n",
       "      <td>...</td>\n",
       "      <td>1151.2449</td>\n",
       "      <td>-4012.2225</td>\n",
       "      <td>-295.625000</td>\n",
       "      <td>-4966.50</td>\n",
       "      <td>-588.562500</td>\n",
       "      <td>-131.687500</td>\n",
       "      <td>-62199.50</td>\n",
       "      <td>-471.208333</td>\n",
       "      <td>-4012.2225</td>\n",
       "      <td>13983.0625</td>\n",
       "    </tr>\n",
       "  </tbody>\n",
       "</table>\n",
       "<p>3 rows × 72 columns</p>\n",
       "</div>"
      ],
      "text/plain": [
       "       MedInc  HouseAge  AveRooms  AveBedrms  Population  AveOccup  Latitude  \\\n",
       "11692  3.5900      34.0  4.257732   1.054983       869.0  2.986254     33.87   \n",
       "19211  3.0444      36.0  4.559748   1.081761      1087.0  2.278826     38.46   \n",
       "5193   2.5000      42.0  4.977273   1.113636       526.0  3.984848     33.93   \n",
       "\n",
       "       Longitude  MedIncxMedInc  MedIncxHouseAge  ...  LatitudexLatitude  \\\n",
       "11692    -117.99      12.888100         122.0600  ...          1147.1769   \n",
       "19211    -122.71       9.268371         109.5984  ...          1479.1716   \n",
       "5193     -118.25       6.250000         105.0000  ...          1151.2449   \n",
       "\n",
       "       LatitudexLongitude  LongitudexMedInc  LongitudexHouseAge  \\\n",
       "11692          -3996.3213       -423.584100            -4011.66   \n",
       "19211          -4719.4266       -373.578324            -4417.56   \n",
       "5193           -4012.2225       -295.625000            -4966.50   \n",
       "\n",
       "       LongitudexAveRooms  LongitudexAveBedrms  LongitudexPopulation  \\\n",
       "11692         -502.369794          -124.477423            -102533.31   \n",
       "19211         -559.526730          -132.742893            -133385.77   \n",
       "5193          -588.562500          -131.687500             -62199.50   \n",
       "\n",
       "       LongitudexAveOccup  LongitudexLatitude  LongitudexLongitude  \n",
       "11692         -352.348144          -3996.3213           13921.6401  \n",
       "19211         -279.634738          -4719.4266           15057.7441  \n",
       "5193          -471.208333          -4012.2225           13983.0625  \n",
       "\n",
       "[3 rows x 72 columns]"
      ]
     },
     "execution_count": 23,
     "metadata": {},
     "output_type": "execute_result"
    }
   ],
   "source": [
    "extended_X_test"
   ]
  },
  {
   "cell_type": "code",
   "execution_count": 24,
   "id": "f98e5372",
   "metadata": {},
   "outputs": [
    {
     "data": {
      "text/html": [
       "<style>#sk-container-id-2 {color: black;}#sk-container-id-2 pre{padding: 0;}#sk-container-id-2 div.sk-toggleable {background-color: white;}#sk-container-id-2 label.sk-toggleable__label {cursor: pointer;display: block;width: 100%;margin-bottom: 0;padding: 0.3em;box-sizing: border-box;text-align: center;}#sk-container-id-2 label.sk-toggleable__label-arrow:before {content: \"▸\";float: left;margin-right: 0.25em;color: #696969;}#sk-container-id-2 label.sk-toggleable__label-arrow:hover:before {color: black;}#sk-container-id-2 div.sk-estimator:hover label.sk-toggleable__label-arrow:before {color: black;}#sk-container-id-2 div.sk-toggleable__content {max-height: 0;max-width: 0;overflow: hidden;text-align: left;background-color: #f0f8ff;}#sk-container-id-2 div.sk-toggleable__content pre {margin: 0.2em;color: black;border-radius: 0.25em;background-color: #f0f8ff;}#sk-container-id-2 input.sk-toggleable__control:checked~div.sk-toggleable__content {max-height: 200px;max-width: 100%;overflow: auto;}#sk-container-id-2 input.sk-toggleable__control:checked~label.sk-toggleable__label-arrow:before {content: \"▾\";}#sk-container-id-2 div.sk-estimator input.sk-toggleable__control:checked~label.sk-toggleable__label {background-color: #d4ebff;}#sk-container-id-2 div.sk-label input.sk-toggleable__control:checked~label.sk-toggleable__label {background-color: #d4ebff;}#sk-container-id-2 input.sk-hidden--visually {border: 0;clip: rect(1px 1px 1px 1px);clip: rect(1px, 1px, 1px, 1px);height: 1px;margin: -1px;overflow: hidden;padding: 0;position: absolute;width: 1px;}#sk-container-id-2 div.sk-estimator {font-family: monospace;background-color: #f0f8ff;border: 1px dotted black;border-radius: 0.25em;box-sizing: border-box;margin-bottom: 0.5em;}#sk-container-id-2 div.sk-estimator:hover {background-color: #d4ebff;}#sk-container-id-2 div.sk-parallel-item::after {content: \"\";width: 100%;border-bottom: 1px solid gray;flex-grow: 1;}#sk-container-id-2 div.sk-label:hover label.sk-toggleable__label {background-color: #d4ebff;}#sk-container-id-2 div.sk-serial::before {content: \"\";position: absolute;border-left: 1px solid gray;box-sizing: border-box;top: 0;bottom: 0;left: 50%;z-index: 0;}#sk-container-id-2 div.sk-serial {display: flex;flex-direction: column;align-items: center;background-color: white;padding-right: 0.2em;padding-left: 0.2em;position: relative;}#sk-container-id-2 div.sk-item {position: relative;z-index: 1;}#sk-container-id-2 div.sk-parallel {display: flex;align-items: stretch;justify-content: center;background-color: white;position: relative;}#sk-container-id-2 div.sk-item::before, #sk-container-id-2 div.sk-parallel-item::before {content: \"\";position: absolute;border-left: 1px solid gray;box-sizing: border-box;top: 0;bottom: 0;left: 50%;z-index: -1;}#sk-container-id-2 div.sk-parallel-item {display: flex;flex-direction: column;z-index: 1;position: relative;background-color: white;}#sk-container-id-2 div.sk-parallel-item:first-child::after {align-self: flex-end;width: 50%;}#sk-container-id-2 div.sk-parallel-item:last-child::after {align-self: flex-start;width: 50%;}#sk-container-id-2 div.sk-parallel-item:only-child::after {width: 0;}#sk-container-id-2 div.sk-dashed-wrapped {border: 1px dashed gray;margin: 0 0.4em 0.5em 0.4em;box-sizing: border-box;padding-bottom: 0.4em;background-color: white;}#sk-container-id-2 div.sk-label label {font-family: monospace;font-weight: bold;display: inline-block;line-height: 1.2em;}#sk-container-id-2 div.sk-label-container {text-align: center;}#sk-container-id-2 div.sk-container {/* jupyter's `normalize.less` sets `[hidden] { display: none; }` but bootstrap.min.css set `[hidden] { display: none !important; }` so we also need the `!important` here to be able to override the default hidden behavior on the sphinx rendered scikit-learn.org. See: https://github.com/scikit-learn/scikit-learn/issues/21755 */display: inline-block !important;position: relative;}#sk-container-id-2 div.sk-text-repr-fallback {display: none;}</style><div id=\"sk-container-id-2\" class=\"sk-top-container\"><div class=\"sk-text-repr-fallback\"><pre>LinearRegression()</pre><b>In a Jupyter environment, please rerun this cell to show the HTML representation or trust the notebook. <br />On GitHub, the HTML representation is unable to render, please try loading this page with nbviewer.org.</b></div><div class=\"sk-container\" hidden><div class=\"sk-item\"><div class=\"sk-estimator sk-toggleable\"><input class=\"sk-toggleable__control sk-hidden--visually\" id=\"sk-estimator-id-2\" type=\"checkbox\" checked><label for=\"sk-estimator-id-2\" class=\"sk-toggleable__label sk-toggleable__label-arrow\">LinearRegression</label><div class=\"sk-toggleable__content\"><pre>LinearRegression()</pre></div></div></div></div></div>"
      ],
      "text/plain": [
       "LinearRegression()"
      ]
     },
     "execution_count": 24,
     "metadata": {},
     "output_type": "execute_result"
    }
   ],
   "source": [
    "# 특성 확장시킨 데이터로 새로운 모델 학습하기!\n",
    "linear_model2 = LinearRegression()\n",
    "linear_model2.fit(extended_X_train,y_train)"
   ]
  },
  {
   "cell_type": "code",
   "execution_count": 25,
   "id": "4ab3a4f7",
   "metadata": {},
   "outputs": [
    {
     "data": {
      "text/plain": [
       "-1.8822275157038644"
      ]
     },
     "execution_count": 25,
     "metadata": {},
     "output_type": "execute_result"
    }
   ],
   "source": [
    "linear_model2.score(extended_X_test,y_test)"
   ]
  },
  {
   "cell_type": "code",
   "execution_count": 26,
   "id": "eed8b3bd",
   "metadata": {},
   "outputs": [],
   "source": [
    "result2 = cross_val_score(linear_model2, extended_X_train,y_train,cv=5)"
   ]
  },
  {
   "cell_type": "code",
   "execution_count": 27,
   "id": "809ca9e7",
   "metadata": {},
   "outputs": [
    {
     "data": {
      "text/plain": [
       "array([ 0.66678005, -4.4328628 ,  0.03119361,  0.64919748,  0.63672927])"
      ]
     },
     "execution_count": 27,
     "metadata": {},
     "output_type": "execute_result"
    }
   ],
   "source": [
    "result2"
   ]
  },
  {
   "cell_type": "code",
   "execution_count": 28,
   "id": "d9d59ab9",
   "metadata": {},
   "outputs": [
    {
     "data": {
      "text/plain": [
       "-0.48979247861006153"
      ]
     },
     "execution_count": 28,
     "metadata": {},
     "output_type": "execute_result"
    }
   ],
   "source": [
    "result2.mean()"
   ]
  },
  {
   "cell_type": "code",
   "execution_count": 31,
   "id": "84854297",
   "metadata": {},
   "outputs": [
    {
     "data": {
      "text/html": [
       "<div>\n",
       "<style scoped>\n",
       "    .dataframe tbody tr th:only-of-type {\n",
       "        vertical-align: middle;\n",
       "    }\n",
       "\n",
       "    .dataframe tbody tr th {\n",
       "        vertical-align: top;\n",
       "    }\n",
       "\n",
       "    .dataframe thead th {\n",
       "        text-align: right;\n",
       "    }\n",
       "</style>\n",
       "<table border=\"1\" class=\"dataframe\">\n",
       "  <thead>\n",
       "    <tr style=\"text-align: right;\">\n",
       "      <th></th>\n",
       "      <th>MedInc</th>\n",
       "      <th>HouseAge</th>\n",
       "      <th>AveRooms</th>\n",
       "      <th>AveBedrms</th>\n",
       "      <th>Population</th>\n",
       "      <th>AveOccup</th>\n",
       "      <th>Latitude</th>\n",
       "      <th>Longitude</th>\n",
       "    </tr>\n",
       "  </thead>\n",
       "  <tbody>\n",
       "    <tr>\n",
       "      <th>count</th>\n",
       "      <td>20637.000000</td>\n",
       "      <td>20637.000000</td>\n",
       "      <td>20637.000000</td>\n",
       "      <td>20637.000000</td>\n",
       "      <td>20637.000000</td>\n",
       "      <td>20637.000000</td>\n",
       "      <td>20637.000000</td>\n",
       "      <td>20637.000000</td>\n",
       "    </tr>\n",
       "    <tr>\n",
       "      <th>mean</th>\n",
       "      <td>3.870791</td>\n",
       "      <td>28.638223</td>\n",
       "      <td>5.429121</td>\n",
       "      <td>1.096677</td>\n",
       "      <td>1425.563696</td>\n",
       "      <td>3.070653</td>\n",
       "      <td>35.631892</td>\n",
       "      <td>-119.569693</td>\n",
       "    </tr>\n",
       "    <tr>\n",
       "      <th>std</th>\n",
       "      <td>1.899926</td>\n",
       "      <td>12.585969</td>\n",
       "      <td>2.474330</td>\n",
       "      <td>0.473945</td>\n",
       "      <td>1132.518047</td>\n",
       "      <td>10.386801</td>\n",
       "      <td>2.135949</td>\n",
       "      <td>2.003507</td>\n",
       "    </tr>\n",
       "    <tr>\n",
       "      <th>min</th>\n",
       "      <td>0.499900</td>\n",
       "      <td>1.000000</td>\n",
       "      <td>0.846154</td>\n",
       "      <td>0.333333</td>\n",
       "      <td>3.000000</td>\n",
       "      <td>0.692308</td>\n",
       "      <td>32.540000</td>\n",
       "      <td>-124.350000</td>\n",
       "    </tr>\n",
       "    <tr>\n",
       "      <th>25%</th>\n",
       "      <td>2.563700</td>\n",
       "      <td>18.000000</td>\n",
       "      <td>4.440748</td>\n",
       "      <td>1.006061</td>\n",
       "      <td>787.000000</td>\n",
       "      <td>2.429787</td>\n",
       "      <td>33.930000</td>\n",
       "      <td>-121.800000</td>\n",
       "    </tr>\n",
       "    <tr>\n",
       "      <th>50%</th>\n",
       "      <td>3.534900</td>\n",
       "      <td>29.000000</td>\n",
       "      <td>5.229213</td>\n",
       "      <td>1.048780</td>\n",
       "      <td>1166.000000</td>\n",
       "      <td>2.818049</td>\n",
       "      <td>34.260000</td>\n",
       "      <td>-118.490000</td>\n",
       "    </tr>\n",
       "    <tr>\n",
       "      <th>75%</th>\n",
       "      <td>4.743700</td>\n",
       "      <td>37.000000</td>\n",
       "      <td>6.052381</td>\n",
       "      <td>1.099526</td>\n",
       "      <td>1725.000000</td>\n",
       "      <td>3.282258</td>\n",
       "      <td>37.710000</td>\n",
       "      <td>-118.010000</td>\n",
       "    </tr>\n",
       "    <tr>\n",
       "      <th>max</th>\n",
       "      <td>15.000100</td>\n",
       "      <td>52.000000</td>\n",
       "      <td>141.909091</td>\n",
       "      <td>34.066667</td>\n",
       "      <td>35682.000000</td>\n",
       "      <td>1243.333333</td>\n",
       "      <td>41.950000</td>\n",
       "      <td>-114.310000</td>\n",
       "    </tr>\n",
       "  </tbody>\n",
       "</table>\n",
       "</div>"
      ],
      "text/plain": [
       "             MedInc      HouseAge      AveRooms     AveBedrms    Population  \\\n",
       "count  20637.000000  20637.000000  20637.000000  20637.000000  20637.000000   \n",
       "mean       3.870791     28.638223      5.429121      1.096677   1425.563696   \n",
       "std        1.899926     12.585969      2.474330      0.473945   1132.518047   \n",
       "min        0.499900      1.000000      0.846154      0.333333      3.000000   \n",
       "25%        2.563700     18.000000      4.440748      1.006061    787.000000   \n",
       "50%        3.534900     29.000000      5.229213      1.048780   1166.000000   \n",
       "75%        4.743700     37.000000      6.052381      1.099526   1725.000000   \n",
       "max       15.000100     52.000000    141.909091     34.066667  35682.000000   \n",
       "\n",
       "           AveOccup      Latitude     Longitude  \n",
       "count  20637.000000  20637.000000  20637.000000  \n",
       "mean       3.070653     35.631892   -119.569693  \n",
       "std       10.386801      2.135949      2.003507  \n",
       "min        0.692308     32.540000   -124.350000  \n",
       "25%        2.429787     33.930000   -121.800000  \n",
       "50%        2.818049     34.260000   -118.490000  \n",
       "75%        3.282258     37.710000   -118.010000  \n",
       "max     1243.333333     41.950000   -114.310000  "
      ]
     },
     "execution_count": 31,
     "metadata": {},
     "output_type": "execute_result"
    }
   ],
   "source": [
    "X_train.describe()"
   ]
  },
  {
   "cell_type": "markdown",
   "id": "86bb46ec",
   "metadata": {},
   "source": [
    "## 4. Scaler 적용\n",
    "- 특성(Feature)들의 범위를 정규화 해주는 작업\n",
    "- 훈련데이터와 테스트데이터에 같은 변환을 적용해야 함!"
   ]
  },
  {
   "cell_type": "code",
   "execution_count": 32,
   "id": "22d19b94",
   "metadata": {},
   "outputs": [],
   "source": [
    "from sklearn.preprocessing import StandardScaler"
   ]
  },
  {
   "cell_type": "code",
   "execution_count": 33,
   "id": "9b3c5cb8",
   "metadata": {},
   "outputs": [],
   "source": [
    "scaler = StandardScaler()"
   ]
  },
  {
   "cell_type": "code",
   "execution_count": 34,
   "id": "ba0a832b",
   "metadata": {},
   "outputs": [
    {
     "data": {
      "text/html": [
       "<style>#sk-container-id-3 {color: black;}#sk-container-id-3 pre{padding: 0;}#sk-container-id-3 div.sk-toggleable {background-color: white;}#sk-container-id-3 label.sk-toggleable__label {cursor: pointer;display: block;width: 100%;margin-bottom: 0;padding: 0.3em;box-sizing: border-box;text-align: center;}#sk-container-id-3 label.sk-toggleable__label-arrow:before {content: \"▸\";float: left;margin-right: 0.25em;color: #696969;}#sk-container-id-3 label.sk-toggleable__label-arrow:hover:before {color: black;}#sk-container-id-3 div.sk-estimator:hover label.sk-toggleable__label-arrow:before {color: black;}#sk-container-id-3 div.sk-toggleable__content {max-height: 0;max-width: 0;overflow: hidden;text-align: left;background-color: #f0f8ff;}#sk-container-id-3 div.sk-toggleable__content pre {margin: 0.2em;color: black;border-radius: 0.25em;background-color: #f0f8ff;}#sk-container-id-3 input.sk-toggleable__control:checked~div.sk-toggleable__content {max-height: 200px;max-width: 100%;overflow: auto;}#sk-container-id-3 input.sk-toggleable__control:checked~label.sk-toggleable__label-arrow:before {content: \"▾\";}#sk-container-id-3 div.sk-estimator input.sk-toggleable__control:checked~label.sk-toggleable__label {background-color: #d4ebff;}#sk-container-id-3 div.sk-label input.sk-toggleable__control:checked~label.sk-toggleable__label {background-color: #d4ebff;}#sk-container-id-3 input.sk-hidden--visually {border: 0;clip: rect(1px 1px 1px 1px);clip: rect(1px, 1px, 1px, 1px);height: 1px;margin: -1px;overflow: hidden;padding: 0;position: absolute;width: 1px;}#sk-container-id-3 div.sk-estimator {font-family: monospace;background-color: #f0f8ff;border: 1px dotted black;border-radius: 0.25em;box-sizing: border-box;margin-bottom: 0.5em;}#sk-container-id-3 div.sk-estimator:hover {background-color: #d4ebff;}#sk-container-id-3 div.sk-parallel-item::after {content: \"\";width: 100%;border-bottom: 1px solid gray;flex-grow: 1;}#sk-container-id-3 div.sk-label:hover label.sk-toggleable__label {background-color: #d4ebff;}#sk-container-id-3 div.sk-serial::before {content: \"\";position: absolute;border-left: 1px solid gray;box-sizing: border-box;top: 0;bottom: 0;left: 50%;z-index: 0;}#sk-container-id-3 div.sk-serial {display: flex;flex-direction: column;align-items: center;background-color: white;padding-right: 0.2em;padding-left: 0.2em;position: relative;}#sk-container-id-3 div.sk-item {position: relative;z-index: 1;}#sk-container-id-3 div.sk-parallel {display: flex;align-items: stretch;justify-content: center;background-color: white;position: relative;}#sk-container-id-3 div.sk-item::before, #sk-container-id-3 div.sk-parallel-item::before {content: \"\";position: absolute;border-left: 1px solid gray;box-sizing: border-box;top: 0;bottom: 0;left: 50%;z-index: -1;}#sk-container-id-3 div.sk-parallel-item {display: flex;flex-direction: column;z-index: 1;position: relative;background-color: white;}#sk-container-id-3 div.sk-parallel-item:first-child::after {align-self: flex-end;width: 50%;}#sk-container-id-3 div.sk-parallel-item:last-child::after {align-self: flex-start;width: 50%;}#sk-container-id-3 div.sk-parallel-item:only-child::after {width: 0;}#sk-container-id-3 div.sk-dashed-wrapped {border: 1px dashed gray;margin: 0 0.4em 0.5em 0.4em;box-sizing: border-box;padding-bottom: 0.4em;background-color: white;}#sk-container-id-3 div.sk-label label {font-family: monospace;font-weight: bold;display: inline-block;line-height: 1.2em;}#sk-container-id-3 div.sk-label-container {text-align: center;}#sk-container-id-3 div.sk-container {/* jupyter's `normalize.less` sets `[hidden] { display: none; }` but bootstrap.min.css set `[hidden] { display: none !important; }` so we also need the `!important` here to be able to override the default hidden behavior on the sphinx rendered scikit-learn.org. See: https://github.com/scikit-learn/scikit-learn/issues/21755 */display: inline-block !important;position: relative;}#sk-container-id-3 div.sk-text-repr-fallback {display: none;}</style><div id=\"sk-container-id-3\" class=\"sk-top-container\"><div class=\"sk-text-repr-fallback\"><pre>StandardScaler()</pre><b>In a Jupyter environment, please rerun this cell to show the HTML representation or trust the notebook. <br />On GitHub, the HTML representation is unable to render, please try loading this page with nbviewer.org.</b></div><div class=\"sk-container\" hidden><div class=\"sk-item\"><div class=\"sk-estimator sk-toggleable\"><input class=\"sk-toggleable__control sk-hidden--visually\" id=\"sk-estimator-id-3\" type=\"checkbox\" checked><label for=\"sk-estimator-id-3\" class=\"sk-toggleable__label sk-toggleable__label-arrow\">StandardScaler</label><div class=\"sk-toggleable__content\"><pre>StandardScaler()</pre></div></div></div></div></div>"
      ],
      "text/plain": [
       "StandardScaler()"
      ]
     },
     "execution_count": 34,
     "metadata": {},
     "output_type": "execute_result"
    }
   ],
   "source": [
    "# 기준은 훈련 데이터!! 테스트X\n",
    "scaler.fit(X_train)"
   ]
  },
  {
   "cell_type": "code",
   "execution_count": 35,
   "id": "abcc7d02",
   "metadata": {},
   "outputs": [
    {
     "data": {
      "text/plain": [
       "array([[-0.19311274,  0.26711164, -0.49448527, ...,  0.00875299,\n",
       "         0.94485252, -1.41770218],\n",
       "       [ 0.53924926, -0.60689865, -0.01346437, ..., -0.04314337,\n",
       "         0.631167  , -1.15315961],\n",
       "       [-0.51402773,  0.82330001, -0.44287288, ...,  0.03404298,\n",
       "        -0.6750757 ,  0.25939785],\n",
       "       ...,\n",
       "       [-1.53703966,  0.90275549, -0.6180087 , ..., -0.04110155,\n",
       "         1.02444437, -1.34283164],\n",
       "       [ 0.13380262,  0.10820068, -0.01798717, ..., -0.14751692,\n",
       "         1.53945045, -1.53749504],\n",
       "       [-0.82883707,  0.50547808, -0.52921268, ...,  0.02245347,\n",
       "        -0.7453038 ,  0.59381958]])"
      ]
     },
     "execution_count": 35,
     "metadata": {},
     "output_type": "execute_result"
    }
   ],
   "source": [
    "# 데이터 스케일링은 transform 함수에서 진행된다\n",
    "\n",
    "trainsform_X_train=scaler.transform(X_train)\n",
    "trainsform_X_train"
   ]
  },
  {
   "cell_type": "code",
   "execution_count": 42,
   "id": "89f390c6",
   "metadata": {},
   "outputs": [
    {
     "data": {
      "text/plain": [
       "array([[-0.14779409,  0.4260226 , -0.4734279 , -0.08797486, -0.49145105,\n",
       "        -0.0081258 , -0.82489565,  0.78848298],\n",
       "       [-0.43497011,  0.58493356, -0.35136505, -0.03147289, -0.29895497,\n",
       "        -0.07623584,  1.32408427, -1.56744325],\n",
       "       [-0.72151451,  1.06166645, -0.18261861,  0.0357841 , -0.79432332,\n",
       "         0.08801722, -0.79680441,  0.65870738]])"
      ]
     },
     "execution_count": 42,
     "metadata": {},
     "output_type": "execute_result"
    }
   ],
   "source": [
    "trainsform_X_test=scaler.transform(X_test)\n",
    "trainsform_X_test"
   ]
  },
  {
   "cell_type": "code",
   "execution_count": 37,
   "id": "3fe2e257",
   "metadata": {},
   "outputs": [],
   "source": [
    "# 이번에는 스케일링 된 데이터로 학습을 시켜보자!\n",
    "linear_model3 = LinearRegression()"
   ]
  },
  {
   "cell_type": "code",
   "execution_count": 43,
   "id": "e94d9b6f",
   "metadata": {},
   "outputs": [
    {
     "data": {
      "text/plain": [
       "-3.571528958289968"
      ]
     },
     "execution_count": 43,
     "metadata": {},
     "output_type": "execute_result"
    }
   ],
   "source": [
    "linear_model3.fit(trainsform_X_train,y_train)\n",
    "linear_model3.score(trainsform_X_test,y_test)"
   ]
  },
  {
   "cell_type": "code",
   "execution_count": null,
   "id": "88b3a504",
   "metadata": {},
   "outputs": [],
   "source": []
  },
  {
   "cell_type": "markdown",
   "id": "2c055ec3",
   "metadata": {},
   "source": [
    "## 5. KNN에 스케일링 데이터 적용"
   ]
  },
  {
   "cell_type": "code",
   "execution_count": 45,
   "id": "0ae330e3",
   "metadata": {},
   "outputs": [],
   "source": [
    "from sklearn.neighbors import KNeighborsRegressor"
   ]
  },
  {
   "cell_type": "code",
   "execution_count": 46,
   "id": "f0131e3c",
   "metadata": {},
   "outputs": [],
   "source": [
    "# 1. 원본 데이터"
   ]
  },
  {
   "cell_type": "code",
   "execution_count": 48,
   "id": "96666e3c",
   "metadata": {},
   "outputs": [],
   "source": [
    "knn_model = KNeighborsRegressor()\n",
    "knn_result = cross_val_score(knn_model, X_train, y_train, cv=5)"
   ]
  },
  {
   "cell_type": "code",
   "execution_count": 49,
   "id": "3ab4e39b",
   "metadata": {},
   "outputs": [
    {
     "data": {
      "text/plain": [
       "0.15746508255837538"
      ]
     },
     "execution_count": 49,
     "metadata": {},
     "output_type": "execute_result"
    }
   ],
   "source": [
    "knn_result.mean()"
   ]
  },
  {
   "cell_type": "code",
   "execution_count": 50,
   "id": "01b69d0b",
   "metadata": {},
   "outputs": [],
   "source": [
    "# 2. 스케일링한 데이터"
   ]
  },
  {
   "cell_type": "code",
   "execution_count": 51,
   "id": "bcc4f12f",
   "metadata": {},
   "outputs": [
    {
     "data": {
      "text/plain": [
       "array([0.67663178, 0.68895521, 0.70841872, 0.68245354, 0.67355424])"
      ]
     },
     "execution_count": 51,
     "metadata": {},
     "output_type": "execute_result"
    }
   ],
   "source": [
    "knn_model2 = KNeighborsRegressor()\n",
    "knn_result2 = cross_val_score(knn_model2, trainsform_X_train, y_train, cv=5)\n",
    "knn_result2"
   ]
  },
  {
   "cell_type": "code",
   "execution_count": 52,
   "id": "212da812",
   "metadata": {},
   "outputs": [
    {
     "data": {
      "text/plain": [
       "0.6860026975838562"
      ]
     },
     "execution_count": 52,
     "metadata": {},
     "output_type": "execute_result"
    }
   ],
   "source": [
    "knn_result2.mean()"
   ]
  },
  {
   "cell_type": "code",
   "execution_count": null,
   "id": "13a7c1b4",
   "metadata": {},
   "outputs": [],
   "source": []
  }
 ],
 "metadata": {
  "kernelspec": {
   "display_name": "Python 3 (ipykernel)",
   "language": "python",
   "name": "python3"
  },
  "language_info": {
   "codemirror_mode": {
    "name": "ipython",
    "version": 3
   },
   "file_extension": ".py",
   "mimetype": "text/x-python",
   "name": "python",
   "nbconvert_exporter": "python",
   "pygments_lexer": "ipython3",
   "version": "3.8.0"
  }
 },
 "nbformat": 4,
 "nbformat_minor": 5
}
